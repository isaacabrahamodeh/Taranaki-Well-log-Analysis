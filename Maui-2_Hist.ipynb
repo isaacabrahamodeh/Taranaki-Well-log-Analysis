{
 "cells": [
  {
   "cell_type": "markdown",
   "metadata": {},
   "source": [
    "# Creating Histograms of Well Log Data\n",
    "\n",
    "## Introduction\n",
    "\n",
    "They are a commonly used tool within petrophysics for understanding the spread and distribution of data, and for picking key interpretation parameters such as shale or clay volume minimum and maximum values. Here, histograms from one of the Maui Wells will be displyed.\n",
    "\n",
    "## Importing Libraries and Loading LAS Data\n",
    "The first stage of any python project or notebook is generally to import the required libraries. In this case we are going to be using `lasio` to load our las file, `pandas` for storing our well log data, and `matplotlib` for visualising our data."
   ]
  },
  {
   "cell_type": "code",
   "execution_count": 1,
   "metadata": {},
   "outputs": [],
   "source": [
    "import pandas as pd\n",
    "import matplotlib.pyplot as plt\n",
    "import lasio"
   ]
  },
  {
   "cell_type": "markdown",
   "metadata": {},
   "source": [
    "The data I am are using for this project is from the open source New Zealand Petroleum Data"
   ]
  },
  {
   "cell_type": "code",
   "execution_count": 58,
   "metadata": {},
   "outputs": [],
   "source": [
    "las = lasio.read(\"/Users/isaacabrahamodeh/Desktop/Taranaki-wells/Taranaki/maui-2_final.las\")"
   ]
  },
  {
   "cell_type": "markdown",
   "metadata": {},
   "source": [
    "We then convert the las file to a pandas dataframe object."
   ]
  },
  {
   "cell_type": "code",
   "execution_count": 59,
   "metadata": {},
   "outputs": [],
   "source": [
    "df = las.df()"
   ]
  },
  {
   "cell_type": "markdown",
   "metadata": {},
   "source": [
    "Using the `.describe()` method we can explore the summary statistics of the data."
   ]
  },
  {
   "cell_type": "code",
   "execution_count": 60,
   "metadata": {},
   "outputs": [
    {
     "data": {
      "text/html": [
       "<div>\n",
       "<style scoped>\n",
       "    .dataframe tbody tr th:only-of-type {\n",
       "        vertical-align: middle;\n",
       "    }\n",
       "\n",
       "    .dataframe tbody tr th {\n",
       "        vertical-align: top;\n",
       "    }\n",
       "\n",
       "    .dataframe thead th {\n",
       "        text-align: right;\n",
       "    }\n",
       "</style>\n",
       "<table border=\"1\" class=\"dataframe\">\n",
       "  <thead>\n",
       "    <tr style=\"text-align: right;\">\n",
       "      <th></th>\n",
       "      <th>BS</th>\n",
       "      <th>CALI</th>\n",
       "      <th>DENS</th>\n",
       "      <th>DRHO</th>\n",
       "      <th>DTC</th>\n",
       "      <th>GR</th>\n",
       "      <th>NEUT</th>\n",
       "      <th>RESD</th>\n",
       "      <th>RESS</th>\n",
       "      <th>SP</th>\n",
       "    </tr>\n",
       "  </thead>\n",
       "  <tbody>\n",
       "    <tr>\n",
       "      <th>count</th>\n",
       "      <td>21233.000000</td>\n",
       "      <td>4304.000000</td>\n",
       "      <td>7003.000000</td>\n",
       "      <td>6956.000000</td>\n",
       "      <td>21197.000000</td>\n",
       "      <td>21241.000000</td>\n",
       "      <td>4284.000000</td>\n",
       "      <td>21188.000000</td>\n",
       "      <td>18750.000000</td>\n",
       "      <td>21235.000000</td>\n",
       "    </tr>\n",
       "    <tr>\n",
       "      <th>mean</th>\n",
       "      <td>11.016610</td>\n",
       "      <td>8.744006</td>\n",
       "      <td>2.402665</td>\n",
       "      <td>0.021826</td>\n",
       "      <td>103.512969</td>\n",
       "      <td>55.945820</td>\n",
       "      <td>0.216262</td>\n",
       "      <td>7.890186</td>\n",
       "      <td>4.835990</td>\n",
       "      <td>-41.000213</td>\n",
       "    </tr>\n",
       "    <tr>\n",
       "      <th>std</th>\n",
       "      <td>2.399191</td>\n",
       "      <td>1.318880</td>\n",
       "      <td>0.122277</td>\n",
       "      <td>0.032565</td>\n",
       "      <td>31.239089</td>\n",
       "      <td>11.597948</td>\n",
       "      <td>0.068617</td>\n",
       "      <td>72.853063</td>\n",
       "      <td>8.893605</td>\n",
       "      <td>31.317866</td>\n",
       "    </tr>\n",
       "    <tr>\n",
       "      <th>min</th>\n",
       "      <td>8.500000</td>\n",
       "      <td>7.221200</td>\n",
       "      <td>1.954900</td>\n",
       "      <td>-0.028680</td>\n",
       "      <td>47.005400</td>\n",
       "      <td>-4.000000</td>\n",
       "      <td>0.061020</td>\n",
       "      <td>0.621900</td>\n",
       "      <td>0.814200</td>\n",
       "      <td>-110.074500</td>\n",
       "    </tr>\n",
       "    <tr>\n",
       "      <th>25%</th>\n",
       "      <td>8.500000</td>\n",
       "      <td>7.838725</td>\n",
       "      <td>2.305400</td>\n",
       "      <td>0.002540</td>\n",
       "      <td>80.840000</td>\n",
       "      <td>49.658200</td>\n",
       "      <td>0.171935</td>\n",
       "      <td>1.296475</td>\n",
       "      <td>2.194725</td>\n",
       "      <td>-72.352450</td>\n",
       "    </tr>\n",
       "    <tr>\n",
       "      <th>50%</th>\n",
       "      <td>10.625000</td>\n",
       "      <td>8.260850</td>\n",
       "      <td>2.398100</td>\n",
       "      <td>0.012990</td>\n",
       "      <td>92.742200</td>\n",
       "      <td>58.444500</td>\n",
       "      <td>0.222605</td>\n",
       "      <td>2.192000</td>\n",
       "      <td>3.861350</td>\n",
       "      <td>-33.456400</td>\n",
       "    </tr>\n",
       "    <tr>\n",
       "      <th>75%</th>\n",
       "      <td>10.625000</td>\n",
       "      <td>9.106725</td>\n",
       "      <td>2.496400</td>\n",
       "      <td>0.032463</td>\n",
       "      <td>122.406800</td>\n",
       "      <td>63.729200</td>\n",
       "      <td>0.248825</td>\n",
       "      <td>3.644900</td>\n",
       "      <td>5.382100</td>\n",
       "      <td>-13.305600</td>\n",
       "    </tr>\n",
       "    <tr>\n",
       "      <th>max</th>\n",
       "      <td>15.000000</td>\n",
       "      <td>14.601300</td>\n",
       "      <td>2.721500</td>\n",
       "      <td>0.223790</td>\n",
       "      <td>205.729000</td>\n",
       "      <td>353.421400</td>\n",
       "      <td>0.479650</td>\n",
       "      <td>2000.000000</td>\n",
       "      <td>143.831900</td>\n",
       "      <td>16.469700</td>\n",
       "    </tr>\n",
       "  </tbody>\n",
       "</table>\n",
       "</div>"
      ],
      "text/plain": [
       "                 BS         CALI         DENS         DRHO           DTC  \\\n",
       "count  21233.000000  4304.000000  7003.000000  6956.000000  21197.000000   \n",
       "mean      11.016610     8.744006     2.402665     0.021826    103.512969   \n",
       "std        2.399191     1.318880     0.122277     0.032565     31.239089   \n",
       "min        8.500000     7.221200     1.954900    -0.028680     47.005400   \n",
       "25%        8.500000     7.838725     2.305400     0.002540     80.840000   \n",
       "50%       10.625000     8.260850     2.398100     0.012990     92.742200   \n",
       "75%       10.625000     9.106725     2.496400     0.032463    122.406800   \n",
       "max       15.000000    14.601300     2.721500     0.223790    205.729000   \n",
       "\n",
       "                 GR         NEUT          RESD          RESS            SP  \n",
       "count  21241.000000  4284.000000  21188.000000  18750.000000  21235.000000  \n",
       "mean      55.945820     0.216262      7.890186      4.835990    -41.000213  \n",
       "std       11.597948     0.068617     72.853063      8.893605     31.317866  \n",
       "min       -4.000000     0.061020      0.621900      0.814200   -110.074500  \n",
       "25%       49.658200     0.171935      1.296475      2.194725    -72.352450  \n",
       "50%       58.444500     0.222605      2.192000      3.861350    -33.456400  \n",
       "75%       63.729200     0.248825      3.644900      5.382100    -13.305600  \n",
       "max      353.421400     0.479650   2000.000000    143.831900     16.469700  "
      ]
     },
     "execution_count": 60,
     "metadata": {},
     "output_type": "execute_result"
    }
   ],
   "source": [
    "df.describe()"
   ]
  },
  {
   "cell_type": "markdown",
   "metadata": {},
   "source": [
    "## Creating Histograms Using pandas"
   ]
  },
  {
   "cell_type": "markdown",
   "metadata": {},
   "source": [
    "Creating a quick histogram using pandas."
   ]
  },
  {
   "cell_type": "code",
   "execution_count": 61,
   "metadata": {},
   "outputs": [
    {
     "data": {
      "image/png": "[encoded data removed]",
      "text/plain": [
       "<Figure size 432x288 with 1 Axes>"
      ]
     },
     "metadata": {
      "needs_background": "light"
     },
     "output_type": "display_data"
    }
   ],
   "source": [
    "df['GR'].plot(kind='hist')\n",
    "plt.show()"
   ]
  },
  {
   "cell_type": "markdown",
   "metadata": {},
   "source": [
    "## Creating Histograms Using matplotlib\n",
    "Creating a quick histogram using matplotlib like so."
   ]
  },
  {
   "cell_type": "code",
   "execution_count": 62,
   "metadata": {},
   "outputs": [
    {
     "data": {
      "image/png": "[encoded data removed]",
      "text/plain": [
       "<Figure size 432x288 with 1 Axes>"
      ]
     },
     "metadata": {
      "needs_background": "light"
     },
     "output_type": "display_data"
    }
   ],
   "source": [
    "plt.hist(df['GR'])\n",
    "plt.show()"
   ]
  },
  {
   "cell_type": "markdown",
   "metadata": {},
   "source": [
    "This generates a very minimal plot. We can see that the values range from around 0 to 150, with a very small piece of data at 250 API. Each bin is around 25 API wide, which is quite a large range.\n",
    "\n",
    "We can control this by specifying a set number for the bins argument, in this example we will set it to 30."
   ]
  },
  {
   "cell_type": "code",
   "execution_count": 63,
   "metadata": {},
   "outputs": [
    {
     "data": {
      "image/png": "[encoded data removed]",
      "text/plain": [
       "<Figure size 432x288 with 1 Axes>"
      ]
     },
     "metadata": {
      "needs_background": "light"
     },
     "output_type": "display_data"
    }
   ],
   "source": [
    "plt.hist(df['GR'], bins=30)\n",
    "plt.show()"
   ]
  },
  {
   "cell_type": "markdown",
   "metadata": {},
   "source": [
    "Let's tidy the plot up a little by adding edge colours to the bins."
   ]
  },
  {
   "cell_type": "code",
   "execution_count": 64,
   "metadata": {},
   "outputs": [
    {
     "data": {
      "image/png": "[encoded data removed]",
      "text/plain": [
       "<Figure size 432x288 with 1 Axes>"
      ]
     },
     "metadata": {
      "needs_background": "light"
     },
     "output_type": "display_data"
    }
   ],
   "source": [
    "plt.hist(df['GR'], bins=30, edgecolor='black')\n",
    "plt.show()"
   ]
  },
  {
   "cell_type": "markdown",
   "metadata": {},
   "source": [
    "When we do this, we can see that the bins just below 100 API, is in fact two separate bins. \n",
    "\n",
    "To tidy the plot up further, we can assign both an x and y label, and also set the x-axis limits."
   ]
  },
  {
   "cell_type": "code",
   "execution_count": 65,
   "metadata": {},
   "outputs": [
    {
     "data": {
      "image/png": "[encoded data removed]",
      "text/plain": [
       "<Figure size 432x288 with 1 Axes>"
      ]
     },
     "metadata": {
      "needs_background": "light"
     },
     "output_type": "display_data"
    }
   ],
   "source": [
    "plt.hist(df['GR'], bins=30, color='red', alpha=0.5, edgecolor='black')\n",
    "plt.xlabel('Gamma Ray - API', fontsize=14)\n",
    "plt.ylabel('Frequency', fontsize=14)\n",
    "plt.xlim(0,200)\n",
    "\n",
    "plt.savefig('histogram.png', dpi=300)\n",
    "\n",
    "plt.show()"
   ]
  },
  {
   "cell_type": "markdown",
   "metadata": {},
   "source": [
    "In addition to the bars, we can also add in a kernel density estimation, which provides us with a line illustrating the distribution of the data."
   ]
  },
  {
   "cell_type": "code",
   "execution_count": 66,
   "metadata": {},
   "outputs": [
    {
     "data": {
      "text/plain": [
       "(0.0, 200.0)"
      ]
     },
     "execution_count": 66,
     "metadata": {},
     "output_type": "execute_result"
    },
    {
     "data": {
      "image/png": "[encoded data removed]",
      "text/plain": [
       "<Figure size 432x288 with 1 Axes>"
      ]
     },
     "metadata": {
      "needs_background": "light"
     },
     "output_type": "display_data"
    }
   ],
   "source": [
    "df['GR'].plot(kind='hist', bins=30, color='red', alpha=0.5, density=True, edgecolor='black')\n",
    "df['GR'].plot(kind='kde', color='black')\n",
    "plt.xlabel('Gamma Ray - API', fontsize=14)\n",
    "plt.ylabel('Density', fontsize=14)\n",
    "plt.xlim(0,200)"
   ]
  },
  {
   "cell_type": "markdown",
   "metadata": {},
   "source": [
    "When calculating clay and shale volumes we often use the percentiles as our interpretation parameters. \n",
    "\n",
    "These can be calculated using built in pandas functions: `mean()` and `quantile()`."
   ]
  },
  {
   "cell_type": "code",
   "execution_count": 67,
   "metadata": {},
   "outputs": [
    {
     "name": "stdout",
     "output_type": "stream",
     "text": [
      "Mean: \t 55.94582020620498\n",
      "P05: \t 34.9312\n",
      "P95: \t 69.0924\n"
     ]
    }
   ],
   "source": [
    "mean = df['GR'].mean()\n",
    "p5 = df['GR'].quantile(0.05)\n",
    "p95 = df['GR'].quantile(0.95)\n",
    "\n",
    "print(f'Mean: \\t {mean}')\n",
    "print(f'P05: \\t {p5}')\n",
    "print(f'P95: \\t {p95}')\n"
   ]
  },
  {
   "cell_type": "markdown",
   "metadata": {},
   "source": [
    "To get an idea of where these points fall in relation to our data, we can add them onto the plot using axvline and passing in the calculated variables, a colour and a label."
   ]
  },
  {
   "cell_type": "code",
   "execution_count": 68,
   "metadata": {},
   "outputs": [
    {
     "data": {
      "image/png": "[encoded data removed]",
      "text/plain": [
       "<Figure size 432x288 with 1 Axes>"
      ]
     },
     "metadata": {
      "needs_background": "light"
     },
     "output_type": "display_data"
    }
   ],
   "source": [
    "df['GR'].plot(kind='hist', bins=30, color='red', alpha=0.5, edgecolor='black')\n",
    "plt.xlabel('Gamma Ray', fontsize=14)\n",
    "plt.ylabel('Frequency', fontsize=14)\n",
    "plt.xlim(0,200)\n",
    "\n",
    "plt.axvline(mean, color='blue', label='mean')\n",
    "plt.axvline(p5, color='green', label='5th Percentile')\n",
    "plt.axvline(p95, color='purple', label='95th Percentile')\n",
    "\n",
    "plt.legend()\n",
    "plt.show()\n"
   ]
  },
  {
   "cell_type": "code",
   "execution_count": null,
   "metadata": {},
   "outputs": [],
   "source": []
  }
 ],
 "metadata": {
  "kernelspec": {
   "display_name": "Python 3",
   "language": "python",
   "name": "python3"
  },
  "language_info": {
   "codemirror_mode": {
    "name": "ipython",
    "version": 3
   },
   "file_extension": ".py",
   "mimetype": "text/x-python",
   "name": "python",
   "nbconvert_exporter": "python",
   "pygments_lexer": "ipython3",
   "version": "3.8.8"
  }
 },
 "nbformat": 4,
 "nbformat_minor": 4
}
