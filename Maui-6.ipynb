{
 "cells": [
  {
   "cell_type": "markdown",
   "metadata": {},
   "source": [
    "# Loading and Exploring Log LAS Files With Python"
   ]
  },
  {
   "cell_type": "markdown",
   "metadata": {},
   "source": [
    "## Introduction\n",
    "\n",
    "Log ASCII Standard (LAS) files are a common file format storing and transferring well log data in the oil and gas industry. \n",
    "\n",
    "A LAS file is a file format that was developed by the Canadian Well Logging Society and it is used to store log curve data as well as information about the well.\n",
    "\n",
    "This notebook illustrates how to load data in from a LAS file and carry out a basic QC of the data before plotting it on a log plot.\n",
    "\n",
    "The well data used in this notebook are from the Maui gas field in Offshore Taranaki Basin, New Zealand"
   ]
  },
  {
   "cell_type": "markdown",
   "metadata": {},
   "source": [
    "## Loading and Checking Data\n",
    "The first step is to import the required libraries: pandas, matplotlib and LASIO.  \n",
    "Lasio library is the most popular python library for reading .las files. More info on the library can be found at: https://lasio.readthedocs.io/en/latest/"
   ]
  },
  {
   "cell_type": "code",
   "execution_count": 33,
   "metadata": {},
   "outputs": [],
   "source": [
    "import pandas as pd\n",
    "import matplotlib.pyplot as plt\n",
    "import lasio"
   ]
  },
  {
   "cell_type": "markdown",
   "metadata": {},
   "source": [
    "To load our file in, use the `.read()` method from LASIO. Here, I will be loading Maui-6 .las file"
   ]
  },
  {
   "cell_type": "code",
   "execution_count": 139,
   "metadata": {},
   "outputs": [
    {
     "name": "stderr",
     "output_type": "stream",
     "text": [
      "Only engine='normal' can read wrapped files\n"
     ]
    }
   ],
   "source": [
    "las = lasio.read(\"/Users/isaacabrahamodeh/Desktop/Taranaki-wells/Taranaki/maui-6_final.las\")"
   ]
  },
  {
   "cell_type": "markdown",
   "metadata": {},
   "source": [
    "## Loading and Checking Data\n",
    "In this step we are going to load, check and explore the sections in a typical las file"
   ]
  },
  {
   "cell_type": "code",
   "execution_count": 140,
   "metadata": {},
   "outputs": [
    {
     "data": {
      "text/plain": [
       "dict_keys(['Version', 'Well', 'Curves', 'Parameter', 'Other'])"
      ]
     },
     "execution_count": 140,
     "metadata": {},
     "output_type": "execute_result"
    }
   ],
   "source": [
    "las.sections.keys()"
   ]
  },
  {
   "cell_type": "code",
   "execution_count": 141,
   "metadata": {},
   "outputs": [
    {
     "data": {
      "text/plain": [
       "[HeaderItem(mnemonic=\"VERS\", unit=\"\", value=\"2.0\", descr=\"CWLS LOG ASCII STANDA\"),\n",
       " HeaderItem(mnemonic=\"WRAP\", unit=\"\", value=\"YES\", descr=\"Multiple lines per de\")]"
      ]
     },
     "execution_count": 141,
     "metadata": {},
     "output_type": "execute_result"
    }
   ],
   "source": [
    "las.sections['Version']"
   ]
  },
  {
   "cell_type": "markdown",
   "metadata": {},
   "source": [
    "Now that our file has been loaded, we can start investigating it's contents especially the header section which contained information about where the file originated from, such as the well name, location and what the depth range of the file covers, we can create a simple for loop to go over each header item. Using Python's f-string we can join the items together."
   ]
  },
  {
   "cell_type": "code",
   "execution_count": 142,
   "metadata": {},
   "outputs": [
    {
     "name": "stdout",
     "output_type": "stream",
     "text": [
      "START DEPTH (STRT): \t\t 10.0584\n",
      "STOP DEPTH (STOP): \t\t 3227.9844\n",
      "STEP (STEP): \t\t 0.1524\n",
      "NULL VALUE (NULL): \t\t -999.25\n",
      "COMPANY (COMP): \t\t \n",
      "WELL (WELL): \t\t Maui-6\n",
      "FIELD (FLD): \t\t \n",
      "LOCATION (LOC): \t\t \n",
      "COUNTRY (CTRY): \t\t \n",
      "STATE (STAT): \t\t \n",
      "COUNTY (CNTY): \t\t \n",
      "SERVICE COMPANY (SRVC): \t\t Shell BP & Todd Oil Services Ltd\n",
      "DATE (DATE): \t\t \n",
      "API NUMBER (API): \t\t \n",
      "UNIQUE WELL ID (UWI): \t\t 100000113531\n",
      "LATITUDE (LATI): \t\t -39.5296319\n",
      "LONGITUDE (LONG): \t\t 173.4074213\n"
     ]
    }
   ],
   "source": [
    "for item in las.sections['Well']:\n",
    "    print(f\"{item.descr} ({item.mnemonic}): \\t\\t {item.value}\")"
   ]
  },
  {
   "cell_type": "code",
   "execution_count": 143,
   "metadata": {},
   "outputs": [
    {
     "data": {
      "text/plain": [
       "'Maui-6'"
      ]
     },
     "execution_count": 143,
     "metadata": {},
     "output_type": "execute_result"
    }
   ],
   "source": [
    "las.well.WELL.value"
   ]
  },
  {
   "cell_type": "markdown",
   "metadata": {},
   "source": [
    "by looping through `las.curves`, we can quickly see and print the log curve mnemonic."
   ]
  },
  {
   "cell_type": "code",
   "execution_count": 144,
   "metadata": {},
   "outputs": [
    {
     "name": "stdout",
     "output_type": "stream",
     "text": [
      "DEPTH\n",
      "BS\n",
      "CALI\n",
      "DENS\n",
      "DENS_CORR\n",
      "DRHO\n",
      "DTC\n",
      "GR\n",
      "GR_CORR\n",
      "NEUT\n",
      "NEUT_CORR\n",
      "PEF\n",
      "RESD\n",
      "RESD_CORR\n",
      "RESM\n",
      "RESM_CORR\n",
      "RESS\n",
      "RESS_CORR\n",
      "SP\n",
      "TEMP\n",
      "TENS\n"
     ]
    }
   ],
   "source": [
    "for curve in las.curves:\n",
    "    print(curve.mnemonic)"
   ]
  },
  {
   "cell_type": "markdown",
   "metadata": {},
   "source": [
    "To see what curves are present within the las file, we can repeat the process with the Curve Item object and call upon the `unit` and `descr` functions to get info on the units and the curve's description."
   ]
  },
  {
   "cell_type": "code",
   "execution_count": 145,
   "metadata": {},
   "outputs": [
    {
     "name": "stdout",
     "output_type": "stream",
     "text": [
      "Curve: DEPTH, \t Units: M, \t Description: \n",
      "Curve: BS, \t Units: IN, \t Description: Bit Size (Created in Geolog)\n",
      "Curve: CALI, \t Units: IN, \t Description: Caliper Log (CALI)\n",
      "Curve: DENS, \t Units: G/C3, \t Description: Compensated Formation Density Log (RHOB)\n",
      "Curve: DENS_CORR, \t Units: G/C3, \t Description: Borehole corrected density log\n",
      "Curve: DRHO, \t Units: G/C3, \t Description: Density Log Correction (DRHO)\n",
      "Curve: DTC, \t Units: US/F, \t Description: Delta T (DT)\n",
      "Curve: GR, \t Units: GAPI, \t Description: Gamma-Ray Log (GR)\n",
      "Curve: GR_CORR, \t Units: GAPI, \t Description: Gamma ray corrected\n",
      "Curve: NEUT, \t Units: V/V, \t Description: Neutron Log Porosity (NPHI) and Thermal Neutron Porosity (TNPH)\n",
      "Curve: NEUT_CORR, \t Units: V/V, \t Description: Corrected NPHI (limestone units)\n",
      "Curve: PEF, \t Units: B/E, \t Description: Photoelectric Factor (PEF)\n",
      "Curve: RESD, \t Units: OHMM, \t Description: Induction Deep Resistivity (ILD)\n",
      "Curve: RESD_CORR, \t Units: OHMM, \t Description: Borehole corrected ILD\n",
      "Curve: RESM, \t Units: OHMM, \t Description: Medium Induction Log (ILM)\n",
      "Curve: RESM_CORR, \t Units: OHMM, \t Description: Borehole corrected ILM\n",
      "Curve: RESS, \t Units: OHMM, \t Description: Shallow Laterolog (LLS) and Spherically Focused Log Unaveraged (SFLU)\n",
      "Curve: RESS_CORR, \t Units: OHMM, \t Description: Borehole corrected LLS\n",
      "Curve: SP, \t Units: MV, \t Description: Spontaneous Potential Log (SP)\n",
      "Curve: TEMP, \t Units: DEGC, \t Description: Measured Temperature (MTEM)\n",
      "Curve: TENS, \t Units: KGF, \t Description: Cable tension at surface (TENS)\n",
      "There are a total of: 21 curves present within this file\n"
     ]
    }
   ],
   "source": [
    "for count, curve in enumerate(las.curves):\n",
    "    print(f\"Curve: {curve.mnemonic}, \\t Units: {curve.unit}, \\t Description: {curve.descr}\")\n",
    "print(f\"There are a total of: {count+1} curves present within this file\")"
   ]
  },
  {
   "cell_type": "markdown",
   "metadata": {},
   "source": [
    "We can easily be removed the curves we don't need from the LAS file by using the 'las.delete_curve'."
   ]
  },
  {
   "cell_type": "code",
   "execution_count": 146,
   "metadata": {},
   "outputs": [],
   "source": [
    "las.delete_curve('GR_CORR')"
   ]
  },
  {
   "cell_type": "code",
   "execution_count": 147,
   "metadata": {},
   "outputs": [],
   "source": [
    "las.delete_curve('NEUT_CORR')"
   ]
  },
  {
   "cell_type": "code",
   "execution_count": 148,
   "metadata": {},
   "outputs": [],
   "source": [
    "las.delete_curve('DENS_CORR')"
   ]
  },
  {
   "cell_type": "code",
   "execution_count": 149,
   "metadata": {},
   "outputs": [],
   "source": [
    "las.delete_curve('RESD_CORR')"
   ]
  },
  {
   "cell_type": "code",
   "execution_count": 150,
   "metadata": {},
   "outputs": [],
   "source": [
    "las.delete_curve('RESM_CORR')"
   ]
  },
  {
   "cell_type": "code",
   "execution_count": 151,
   "metadata": {},
   "outputs": [],
   "source": [
    "las.delete_curve('RESS_CORR')"
   ]
  },
  {
   "cell_type": "code",
   "execution_count": 152,
   "metadata": {},
   "outputs": [
    {
     "name": "stdout",
     "output_type": "stream",
     "text": [
      "Curve: DEPTH, \t Units: M, \t Description: \n",
      "Curve: BS, \t Units: IN, \t Description: Bit Size (Created in Geolog)\n",
      "Curve: CALI, \t Units: IN, \t Description: Caliper Log (CALI)\n",
      "Curve: DENS, \t Units: G/C3, \t Description: Compensated Formation Density Log (RHOB)\n",
      "Curve: DRHO, \t Units: G/C3, \t Description: Density Log Correction (DRHO)\n",
      "Curve: DTC, \t Units: US/F, \t Description: Delta T (DT)\n",
      "Curve: GR, \t Units: GAPI, \t Description: Gamma-Ray Log (GR)\n",
      "Curve: NEUT, \t Units: V/V, \t Description: Neutron Log Porosity (NPHI) and Thermal Neutron Porosity (TNPH)\n",
      "Curve: PEF, \t Units: B/E, \t Description: Photoelectric Factor (PEF)\n",
      "Curve: RESD, \t Units: OHMM, \t Description: Induction Deep Resistivity (ILD)\n",
      "Curve: RESM, \t Units: OHMM, \t Description: Medium Induction Log (ILM)\n",
      "Curve: RESS, \t Units: OHMM, \t Description: Shallow Laterolog (LLS) and Spherically Focused Log Unaveraged (SFLU)\n",
      "Curve: SP, \t Units: MV, \t Description: Spontaneous Potential Log (SP)\n",
      "Curve: TEMP, \t Units: DEGC, \t Description: Measured Temperature (MTEM)\n",
      "Curve: TENS, \t Units: KGF, \t Description: Cable tension at surface (TENS)\n",
      "There are a total of: 15 curves present within this file\n"
     ]
    }
   ],
   "source": [
    "for count, curve in enumerate(las.curves):\n",
    "    print(f\"Curve: {curve.mnemonic}, \\t Units: {curve.unit}, \\t Description: {curve.descr}\")\n",
    "print(f\"There are a total of: {count+1} curves present within this file\")"
   ]
  },
  {
   "cell_type": "code",
   "execution_count": 153,
   "metadata": {},
   "outputs": [],
   "source": [
    "las.write('/Users/isaacabrahamodeh/Desktop/Taranaki-wells/Taranaki/maui-6_final.las')"
   ]
  },
  {
   "cell_type": "markdown",
   "metadata": {},
   "source": [
    "## Converting LAS File to a Pandas Dataframe\n",
    "LASIO file can be converted to a pandas dataframe using the .df() function.This allow machine learning algorithm"
   ]
  },
  {
   "cell_type": "code",
   "execution_count": 154,
   "metadata": {},
   "outputs": [],
   "source": [
    "well = las.df()"
   ]
  },
  {
   "cell_type": "markdown",
   "metadata": {},
   "source": [
    "The `.head()` function generates a table view of the header and the first 5 rows within the dataframe."
   ]
  },
  {
   "cell_type": "code",
   "execution_count": 155,
   "metadata": {},
   "outputs": [
    {
     "data": {
      "text/html": [
       "<div>\n",
       "<style scoped>\n",
       "    .dataframe tbody tr th:only-of-type {\n",
       "        vertical-align: middle;\n",
       "    }\n",
       "\n",
       "    .dataframe tbody tr th {\n",
       "        vertical-align: top;\n",
       "    }\n",
       "\n",
       "    .dataframe thead th {\n",
       "        text-align: right;\n",
       "    }\n",
       "</style>\n",
       "<table border=\"1\" class=\"dataframe\">\n",
       "  <thead>\n",
       "    <tr style=\"text-align: right;\">\n",
       "      <th></th>\n",
       "      <th>BS</th>\n",
       "      <th>CALI</th>\n",
       "      <th>DENS</th>\n",
       "      <th>DRHO</th>\n",
       "      <th>DTC</th>\n",
       "      <th>GR</th>\n",
       "      <th>NEUT</th>\n",
       "      <th>PEF</th>\n",
       "      <th>RESD</th>\n",
       "      <th>RESM</th>\n",
       "      <th>RESS</th>\n",
       "      <th>SP</th>\n",
       "      <th>TEMP</th>\n",
       "      <th>TENS</th>\n",
       "    </tr>\n",
       "    <tr>\n",
       "      <th>DEPTH</th>\n",
       "      <th></th>\n",
       "      <th></th>\n",
       "      <th></th>\n",
       "      <th></th>\n",
       "      <th></th>\n",
       "      <th></th>\n",
       "      <th></th>\n",
       "      <th></th>\n",
       "      <th></th>\n",
       "      <th></th>\n",
       "      <th></th>\n",
       "      <th></th>\n",
       "      <th></th>\n",
       "      <th></th>\n",
       "    </tr>\n",
       "  </thead>\n",
       "  <tbody>\n",
       "    <tr>\n",
       "      <th>10.0584</th>\n",
       "      <td>NaN</td>\n",
       "      <td>NaN</td>\n",
       "      <td>NaN</td>\n",
       "      <td>NaN</td>\n",
       "      <td>NaN</td>\n",
       "      <td>NaN</td>\n",
       "      <td>NaN</td>\n",
       "      <td>NaN</td>\n",
       "      <td>NaN</td>\n",
       "      <td>NaN</td>\n",
       "      <td>NaN</td>\n",
       "      <td>NaN</td>\n",
       "      <td>NaN</td>\n",
       "      <td>493.9228</td>\n",
       "    </tr>\n",
       "    <tr>\n",
       "      <th>10.2108</th>\n",
       "      <td>NaN</td>\n",
       "      <td>NaN</td>\n",
       "      <td>NaN</td>\n",
       "      <td>NaN</td>\n",
       "      <td>NaN</td>\n",
       "      <td>NaN</td>\n",
       "      <td>NaN</td>\n",
       "      <td>NaN</td>\n",
       "      <td>NaN</td>\n",
       "      <td>NaN</td>\n",
       "      <td>NaN</td>\n",
       "      <td>NaN</td>\n",
       "      <td>NaN</td>\n",
       "      <td>492.7475</td>\n",
       "    </tr>\n",
       "    <tr>\n",
       "      <th>10.3632</th>\n",
       "      <td>NaN</td>\n",
       "      <td>NaN</td>\n",
       "      <td>NaN</td>\n",
       "      <td>NaN</td>\n",
       "      <td>NaN</td>\n",
       "      <td>NaN</td>\n",
       "      <td>NaN</td>\n",
       "      <td>NaN</td>\n",
       "      <td>NaN</td>\n",
       "      <td>NaN</td>\n",
       "      <td>NaN</td>\n",
       "      <td>NaN</td>\n",
       "      <td>NaN</td>\n",
       "      <td>491.5722</td>\n",
       "    </tr>\n",
       "    <tr>\n",
       "      <th>10.5156</th>\n",
       "      <td>NaN</td>\n",
       "      <td>NaN</td>\n",
       "      <td>NaN</td>\n",
       "      <td>NaN</td>\n",
       "      <td>NaN</td>\n",
       "      <td>NaN</td>\n",
       "      <td>NaN</td>\n",
       "      <td>NaN</td>\n",
       "      <td>NaN</td>\n",
       "      <td>NaN</td>\n",
       "      <td>NaN</td>\n",
       "      <td>NaN</td>\n",
       "      <td>NaN</td>\n",
       "      <td>490.4045</td>\n",
       "    </tr>\n",
       "    <tr>\n",
       "      <th>10.6680</th>\n",
       "      <td>NaN</td>\n",
       "      <td>NaN</td>\n",
       "      <td>NaN</td>\n",
       "      <td>NaN</td>\n",
       "      <td>NaN</td>\n",
       "      <td>NaN</td>\n",
       "      <td>NaN</td>\n",
       "      <td>NaN</td>\n",
       "      <td>NaN</td>\n",
       "      <td>NaN</td>\n",
       "      <td>NaN</td>\n",
       "      <td>NaN</td>\n",
       "      <td>NaN</td>\n",
       "      <td>489.3037</td>\n",
       "    </tr>\n",
       "  </tbody>\n",
       "</table>\n",
       "</div>"
      ],
      "text/plain": [
       "         BS  CALI  DENS  DRHO  DTC  GR  NEUT  PEF  RESD  RESM  RESS  SP  TEMP  \\\n",
       "DEPTH                                                                           \n",
       "10.0584 NaN   NaN   NaN   NaN  NaN NaN   NaN  NaN   NaN   NaN   NaN NaN   NaN   \n",
       "10.2108 NaN   NaN   NaN   NaN  NaN NaN   NaN  NaN   NaN   NaN   NaN NaN   NaN   \n",
       "10.3632 NaN   NaN   NaN   NaN  NaN NaN   NaN  NaN   NaN   NaN   NaN NaN   NaN   \n",
       "10.5156 NaN   NaN   NaN   NaN  NaN NaN   NaN  NaN   NaN   NaN   NaN NaN   NaN   \n",
       "10.6680 NaN   NaN   NaN   NaN  NaN NaN   NaN  NaN   NaN   NaN   NaN NaN   NaN   \n",
       "\n",
       "             TENS  \n",
       "DEPTH              \n",
       "10.0584  493.9228  \n",
       "10.2108  492.7475  \n",
       "10.3632  491.5722  \n",
       "10.5156  490.4045  \n",
       "10.6680  489.3037  "
      ]
     },
     "execution_count": 155,
     "metadata": {},
     "output_type": "execute_result"
    }
   ],
   "source": [
    "well.head()"
   ]
  },
  {
   "cell_type": "markdown",
   "metadata": {},
   "source": [
    "To find out more information about data, we can call upon the `.info()` and `.describe()` functions.  \n",
    "    \n",
    "The `.info()` function provides information about the data types and how many non-null values are present within each curve.  \n",
    "The `.describe()` function, provides statistical information about each curve and can be a useful QC for each curve."
   ]
  },
  {
   "cell_type": "code",
   "execution_count": 156,
   "metadata": {},
   "outputs": [
    {
     "data": {
      "text/html": [
       "<div>\n",
       "<style scoped>\n",
       "    .dataframe tbody tr th:only-of-type {\n",
       "        vertical-align: middle;\n",
       "    }\n",
       "\n",
       "    .dataframe tbody tr th {\n",
       "        vertical-align: top;\n",
       "    }\n",
       "\n",
       "    .dataframe thead th {\n",
       "        text-align: right;\n",
       "    }\n",
       "</style>\n",
       "<table border=\"1\" class=\"dataframe\">\n",
       "  <thead>\n",
       "    <tr style=\"text-align: right;\">\n",
       "      <th></th>\n",
       "      <th>BS</th>\n",
       "      <th>CALI</th>\n",
       "      <th>DENS</th>\n",
       "      <th>DRHO</th>\n",
       "      <th>DTC</th>\n",
       "      <th>GR</th>\n",
       "      <th>NEUT</th>\n",
       "      <th>PEF</th>\n",
       "      <th>RESD</th>\n",
       "      <th>RESM</th>\n",
       "      <th>RESS</th>\n",
       "      <th>SP</th>\n",
       "      <th>TEMP</th>\n",
       "      <th>TENS</th>\n",
       "    </tr>\n",
       "  </thead>\n",
       "  <tbody>\n",
       "    <tr>\n",
       "      <th>count</th>\n",
       "      <td>20072.000000</td>\n",
       "      <td>19714.000000</td>\n",
       "      <td>17959.000000</td>\n",
       "      <td>18031.000000</td>\n",
       "      <td>17933.000000</td>\n",
       "      <td>19510.000000</td>\n",
       "      <td>17995.000000</td>\n",
       "      <td>18054.000000</td>\n",
       "      <td>19696.000000</td>\n",
       "      <td>18008.000000</td>\n",
       "      <td>19776.000000</td>\n",
       "      <td>19810.000000</td>\n",
       "      <td>18195.000000</td>\n",
       "      <td>21042.000000</td>\n",
       "    </tr>\n",
       "    <tr>\n",
       "      <th>mean</th>\n",
       "      <td>12.421496</td>\n",
       "      <td>12.536873</td>\n",
       "      <td>2.306188</td>\n",
       "      <td>-0.002523</td>\n",
       "      <td>101.675838</td>\n",
       "      <td>74.068437</td>\n",
       "      <td>0.318185</td>\n",
       "      <td>2.930954</td>\n",
       "      <td>3.013377</td>\n",
       "      <td>12.244660</td>\n",
       "      <td>2.838723</td>\n",
       "      <td>-16.090280</td>\n",
       "      <td>62.595108</td>\n",
       "      <td>873.031652</td>\n",
       "    </tr>\n",
       "    <tr>\n",
       "      <th>std</th>\n",
       "      <td>5.367973</td>\n",
       "      <td>4.139234</td>\n",
       "      <td>0.174792</td>\n",
       "      <td>0.031918</td>\n",
       "      <td>22.909808</td>\n",
       "      <td>17.154548</td>\n",
       "      <td>0.088690</td>\n",
       "      <td>0.403664</td>\n",
       "      <td>31.828742</td>\n",
       "      <td>119.106790</td>\n",
       "      <td>5.155760</td>\n",
       "      <td>58.187681</td>\n",
       "      <td>18.943277</td>\n",
       "      <td>272.627018</td>\n",
       "    </tr>\n",
       "    <tr>\n",
       "      <th>min</th>\n",
       "      <td>8.500000</td>\n",
       "      <td>7.884000</td>\n",
       "      <td>0.821900</td>\n",
       "      <td>-0.959700</td>\n",
       "      <td>35.722300</td>\n",
       "      <td>10.364000</td>\n",
       "      <td>0.022702</td>\n",
       "      <td>1.823400</td>\n",
       "      <td>0.575700</td>\n",
       "      <td>0.230800</td>\n",
       "      <td>0.570000</td>\n",
       "      <td>-66.099000</td>\n",
       "      <td>36.442900</td>\n",
       "      <td>367.040300</td>\n",
       "    </tr>\n",
       "    <tr>\n",
       "      <th>25%</th>\n",
       "      <td>8.500000</td>\n",
       "      <td>9.639875</td>\n",
       "      <td>2.160300</td>\n",
       "      <td>-0.012600</td>\n",
       "      <td>82.641100</td>\n",
       "      <td>66.104550</td>\n",
       "      <td>0.258287</td>\n",
       "      <td>2.702800</td>\n",
       "      <td>1.237875</td>\n",
       "      <td>0.923900</td>\n",
       "      <td>1.266375</td>\n",
       "      <td>-40.639525</td>\n",
       "      <td>45.643700</td>\n",
       "      <td>618.724400</td>\n",
       "    </tr>\n",
       "    <tr>\n",
       "      <th>50%</th>\n",
       "      <td>12.250000</td>\n",
       "      <td>12.159000</td>\n",
       "      <td>2.303200</td>\n",
       "      <td>-0.006700</td>\n",
       "      <td>94.790700</td>\n",
       "      <td>78.780400</td>\n",
       "      <td>0.330124</td>\n",
       "      <td>2.868600</td>\n",
       "      <td>1.598550</td>\n",
       "      <td>1.382500</td>\n",
       "      <td>1.696150</td>\n",
       "      <td>-34.745950</td>\n",
       "      <td>59.052800</td>\n",
       "      <td>908.893000</td>\n",
       "    </tr>\n",
       "    <tr>\n",
       "      <th>75%</th>\n",
       "      <td>12.250000</td>\n",
       "      <td>12.639675</td>\n",
       "      <td>2.447000</td>\n",
       "      <td>0.001200</td>\n",
       "      <td>121.320800</td>\n",
       "      <td>85.870375</td>\n",
       "      <td>0.390138</td>\n",
       "      <td>3.132400</td>\n",
       "      <td>3.102875</td>\n",
       "      <td>3.133825</td>\n",
       "      <td>3.548725</td>\n",
       "      <td>-23.364825</td>\n",
       "      <td>79.164900</td>\n",
       "      <td>1091.768100</td>\n",
       "    </tr>\n",
       "    <tr>\n",
       "      <th>max</th>\n",
       "      <td>36.000000</td>\n",
       "      <td>25.588500</td>\n",
       "      <td>2.785900</td>\n",
       "      <td>1.100500</td>\n",
       "      <td>170.583200</td>\n",
       "      <td>143.357200</td>\n",
       "      <td>0.574024</td>\n",
       "      <td>5.302800</td>\n",
       "      <td>1913.306500</td>\n",
       "      <td>2000.000000</td>\n",
       "      <td>229.518200</td>\n",
       "      <td>174.507100</td>\n",
       "      <td>97.699100</td>\n",
       "      <td>1458.173800</td>\n",
       "    </tr>\n",
       "  </tbody>\n",
       "</table>\n",
       "</div>"
      ],
      "text/plain": [
       "                 BS          CALI          DENS          DRHO           DTC  \\\n",
       "count  20072.000000  19714.000000  17959.000000  18031.000000  17933.000000   \n",
       "mean      12.421496     12.536873      2.306188     -0.002523    101.675838   \n",
       "std        5.367973      4.139234      0.174792      0.031918     22.909808   \n",
       "min        8.500000      7.884000      0.821900     -0.959700     35.722300   \n",
       "25%        8.500000      9.639875      2.160300     -0.012600     82.641100   \n",
       "50%       12.250000     12.159000      2.303200     -0.006700     94.790700   \n",
       "75%       12.250000     12.639675      2.447000      0.001200    121.320800   \n",
       "max       36.000000     25.588500      2.785900      1.100500    170.583200   \n",
       "\n",
       "                 GR          NEUT           PEF          RESD          RESM  \\\n",
       "count  19510.000000  17995.000000  18054.000000  19696.000000  18008.000000   \n",
       "mean      74.068437      0.318185      2.930954      3.013377     12.244660   \n",
       "std       17.154548      0.088690      0.403664     31.828742    119.106790   \n",
       "min       10.364000      0.022702      1.823400      0.575700      0.230800   \n",
       "25%       66.104550      0.258287      2.702800      1.237875      0.923900   \n",
       "50%       78.780400      0.330124      2.868600      1.598550      1.382500   \n",
       "75%       85.870375      0.390138      3.132400      3.102875      3.133825   \n",
       "max      143.357200      0.574024      5.302800   1913.306500   2000.000000   \n",
       "\n",
       "               RESS            SP          TEMP          TENS  \n",
       "count  19776.000000  19810.000000  18195.000000  21042.000000  \n",
       "mean       2.838723    -16.090280     62.595108    873.031652  \n",
       "std        5.155760     58.187681     18.943277    272.627018  \n",
       "min        0.570000    -66.099000     36.442900    367.040300  \n",
       "25%        1.266375    -40.639525     45.643700    618.724400  \n",
       "50%        1.696150    -34.745950     59.052800    908.893000  \n",
       "75%        3.548725    -23.364825     79.164900   1091.768100  \n",
       "max      229.518200    174.507100     97.699100   1458.173800  "
      ]
     },
     "execution_count": 156,
     "metadata": {},
     "output_type": "execute_result"
    }
   ],
   "source": [
    "well.describe()"
   ]
  },
  {
   "cell_type": "code",
   "execution_count": 157,
   "metadata": {},
   "outputs": [
    {
     "name": "stdout",
     "output_type": "stream",
     "text": [
      "<class 'pandas.core.frame.DataFrame'>\n",
      "Float64Index: 21116 entries, 10.0584 to 3227.9844\n",
      "Data columns (total 14 columns):\n",
      " #   Column  Non-Null Count  Dtype  \n",
      "---  ------  --------------  -----  \n",
      " 0   BS      20072 non-null  float64\n",
      " 1   CALI    19714 non-null  float64\n",
      " 2   DENS    17959 non-null  float64\n",
      " 3   DRHO    18031 non-null  float64\n",
      " 4   DTC     17933 non-null  float64\n",
      " 5   GR      19510 non-null  float64\n",
      " 6   NEUT    17995 non-null  float64\n",
      " 7   PEF     18054 non-null  float64\n",
      " 8   RESD    19696 non-null  float64\n",
      " 9   RESM    18008 non-null  float64\n",
      " 10  RESS    19776 non-null  float64\n",
      " 11  SP      19810 non-null  float64\n",
      " 12  TEMP    18195 non-null  float64\n",
      " 13  TENS    21042 non-null  float64\n",
      "dtypes: float64(14)\n",
      "memory usage: 2.4 MB\n"
     ]
    }
   ],
   "source": [
    "well.info()"
   ]
  },
  {
   "cell_type": "markdown",
   "metadata": {},
   "source": [
    "### Quick Plot\n",
    "\n",
    "Using the ploting function within pandas, we can plot all curves on a single plot."
   ]
  },
  {
   "cell_type": "code",
   "execution_count": 158,
   "metadata": {},
   "outputs": [
    {
     "data": {
      "text/plain": [
       "<AxesSubplot:xlabel='DEPTH'>"
      ]
     },
     "execution_count": 158,
     "metadata": {},
     "output_type": "execute_result"
    },
    {
     "data": {
      "image/png": "[encoded data removed]",
      "text/plain": [
       "<Figure size 432x288 with 1 Axes>"
      ]
     },
     "metadata": {
      "needs_background": "light"
     },
     "output_type": "display_data"
    }
   ],
   "source": [
    "well.plot()"
   ]
  },
  {
   "cell_type": "markdown",
   "metadata": {},
   "source": [
    "When we look at the plot above, we can see that is not very useful to us as all logging measurements have their own scales.\n",
    "\n",
    "Lets plot individual curves by supplying a y variable argument like so:"
   ]
  },
  {
   "cell_type": "code",
   "execution_count": 159,
   "metadata": {},
   "outputs": [
    {
     "data": {
      "text/plain": [
       "<AxesSubplot:xlabel='DEPTH'>"
      ]
     },
     "execution_count": 159,
     "metadata": {},
     "output_type": "execute_result"
    },
    {
     "data": {
      "image/png": "[encoded data removed]",
      "text/plain": [
       "<Figure size 432x288 with 1 Axes>"
      ]
     },
     "metadata": {
      "needs_background": "light"
     },
     "output_type": "display_data"
    }
   ],
   "source": [
    "well.plot(y='GR')"
   ]
  },
  {
   "cell_type": "markdown",
   "metadata": {},
   "source": [
    "This allows us to view the Gamma Ray Curve on its own. We can change the variable to any other curve within the dataframe and view it as follows: "
   ]
  },
  {
   "cell_type": "code",
   "execution_count": 160,
   "metadata": {},
   "outputs": [
    {
     "data": {
      "text/plain": [
       "<AxesSubplot:xlabel='DEPTH'>"
      ]
     },
     "execution_count": 160,
     "metadata": {},
     "output_type": "execute_result"
    },
    {
     "data": {
      "image/png": "[encoded data removed]",
      "text/plain": [
       "<Figure size 432x288 with 1 Axes>"
      ]
     },
     "metadata": {
      "needs_background": "light"
     },
     "output_type": "display_data"
    }
   ],
   "source": [
    "well.plot(y='DENS')"
   ]
  },
  {
   "cell_type": "code",
   "execution_count": 161,
   "metadata": {},
   "outputs": [
    {
     "data": {
      "text/plain": [
       "<AxesSubplot:xlabel='DEPTH'>"
      ]
     },
     "execution_count": 161,
     "metadata": {},
     "output_type": "execute_result"
    },
    {
     "data": {
      "image/png": "[encoded data removed]",
      "text/plain": [
       "<Figure size 432x288 with 1 Axes>"
      ]
     },
     "metadata": {
      "needs_background": "light"
     },
     "output_type": "display_data"
    }
   ],
   "source": [
    "well.plot(y='NEUT')"
   ]
  },
  {
   "cell_type": "code",
   "execution_count": 162,
   "metadata": {},
   "outputs": [
    {
     "data": {
      "text/plain": [
       "<AxesSubplot:xlabel='DEPTH'>"
      ]
     },
     "execution_count": 162,
     "metadata": {},
     "output_type": "execute_result"
    },
    {
     "data": {
      "image/png": "[encoded data removed]",
      "text/plain": [
       "<Figure size 432x288 with 1 Axes>"
      ]
     },
     "metadata": {
      "needs_background": "light"
     },
     "output_type": "display_data"
    }
   ],
   "source": [
    "well.plot(y='TEMP')"
   ]
  },
  {
   "cell_type": "code",
   "execution_count": 163,
   "metadata": {},
   "outputs": [
    {
     "data": {
      "text/plain": [
       "<AxesSubplot:xlabel='DEPTH'>"
      ]
     },
     "execution_count": 163,
     "metadata": {},
     "output_type": "execute_result"
    },
    {
     "data": {
      "image/png": "[encoded data removed]",
      "text/plain": [
       "<Figure size 432x288 with 1 Axes>"
      ]
     },
     "metadata": {
      "needs_background": "light"
     },
     "output_type": "display_data"
    }
   ],
   "source": [
    "well.plot(y='BS')"
   ]
  },
  {
   "cell_type": "code",
   "execution_count": 164,
   "metadata": {},
   "outputs": [
    {
     "data": {
      "text/plain": [
       "<AxesSubplot:xlabel='DEPTH'>"
      ]
     },
     "execution_count": 164,
     "metadata": {},
     "output_type": "execute_result"
    },
    {
     "data": {
      "image/png": "[encoded data removed]",
      "text/plain": [
       "<Figure size 432x288 with 1 Axes>"
      ]
     },
     "metadata": {
      "needs_background": "light"
     },
     "output_type": "display_data"
    }
   ],
   "source": [
    "well.plot(y='DTC')"
   ]
  },
  {
   "cell_type": "code",
   "execution_count": 165,
   "metadata": {},
   "outputs": [
    {
     "data": {
      "text/plain": [
       "<AxesSubplot:xlabel='DEPTH'>"
      ]
     },
     "execution_count": 165,
     "metadata": {},
     "output_type": "execute_result"
    },
    {
     "data": {
      "image/png": "[encoded data removed]",
      "text/plain": [
       "<Figure size 432x288 with 1 Axes>"
      ]
     },
     "metadata": {
      "needs_background": "light"
     },
     "output_type": "display_data"
    }
   ],
   "source": [
    "well.plot(y='DRHO')"
   ]
  },
  {
   "cell_type": "code",
   "execution_count": null,
   "metadata": {},
   "outputs": [],
   "source": []
  }
 ],
 "metadata": {
  "kernelspec": {
   "display_name": "Python 3",
   "language": "python",
   "name": "python3"
  },
  "language_info": {
   "codemirror_mode": {
    "name": "ipython",
    "version": 3
   },
   "file_extension": ".py",
   "mimetype": "text/x-python",
   "name": "python",
   "nbconvert_exporter": "python",
   "pygments_lexer": "ipython3",
   "version": "3.8.8"
  }
 },
 "nbformat": 4,
 "nbformat_minor": 4
}
