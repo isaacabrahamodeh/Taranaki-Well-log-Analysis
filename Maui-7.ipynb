{
 "cells": [
  {
   "cell_type": "markdown",
   "metadata": {},
   "source": [
    "# Loading and Exploring Log LAS Files With Python"
   ]
  },
  {
   "cell_type": "markdown",
   "metadata": {},
   "source": [
    "## Introduction\n",
    "\n",
    "Log ASCII Standard (LAS) files are a common file format storing and transferring well log data in the oil and gas industry. \n",
    "\n",
    "A LAS file is a file format that was developed by the Canadian Well Logging Society and it is used to store log curve data as well as information about the well.\n",
    "\n",
    "This notebook illustrates how to load data in from a LAS file and carry out a basic QC of the data before plotting it on a log plot.\n",
    "\n",
    "The well data used in this notebook are from the Maui gas field in Offshore Taranaki Basin, New Zealand"
   ]
  },
  {
   "cell_type": "markdown",
   "metadata": {},
   "source": [
    "## Loading and Checking Data\n",
    "The first step is to import the required libraries: pandas, matplotlib and LASIO.  \n",
    "Lasio library is the most popular python library for reading .las files. More info on the library can be found at: https://lasio.readthedocs.io/en/latest/"
   ]
  },
  {
   "cell_type": "code",
   "execution_count": 33,
   "metadata": {},
   "outputs": [],
   "source": [
    "import pandas as pd\n",
    "import matplotlib.pyplot as plt\n",
    "import lasio"
   ]
  },
  {
   "cell_type": "markdown",
   "metadata": {},
   "source": [
    "To load our file in, use the `.read()` method from LASIO. Here, I will be loading Maui-7 .las file"
   ]
  },
  {
   "cell_type": "code",
   "execution_count": 166,
   "metadata": {},
   "outputs": [
    {
     "name": "stderr",
     "output_type": "stream",
     "text": [
      "Only engine='normal' can read wrapped files\n"
     ]
    }
   ],
   "source": [
    "las = lasio.read(\"/Users/isaacabrahamodeh/Desktop/Taranaki-wells/Taranaki/maui-7_final.las\")"
   ]
  },
  {
   "cell_type": "markdown",
   "metadata": {},
   "source": [
    "## Loading and Checking Data\n",
    "In this step we are going to load, check and explore the sections in a typical las file"
   ]
  },
  {
   "cell_type": "code",
   "execution_count": 167,
   "metadata": {},
   "outputs": [
    {
     "data": {
      "text/plain": [
       "dict_keys(['Version', 'Well', 'Curves', 'Parameter', 'Other'])"
      ]
     },
     "execution_count": 167,
     "metadata": {},
     "output_type": "execute_result"
    }
   ],
   "source": [
    "las.sections.keys()"
   ]
  },
  {
   "cell_type": "code",
   "execution_count": 168,
   "metadata": {},
   "outputs": [
    {
     "data": {
      "text/plain": [
       "[HeaderItem(mnemonic=\"VERS\", unit=\"\", value=\"2.0\", descr=\"CWLS LOG ASCII STANDA\"),\n",
       " HeaderItem(mnemonic=\"WRAP\", unit=\"\", value=\"YES\", descr=\"Multiple lines per de\")]"
      ]
     },
     "execution_count": 168,
     "metadata": {},
     "output_type": "execute_result"
    }
   ],
   "source": [
    "las.sections['Version']"
   ]
  },
  {
   "cell_type": "markdown",
   "metadata": {},
   "source": [
    "Now that our file has been loaded, we can start investigating it's contents especially the header section which contained information about where the file originated from, such as the well name, location and what the depth range of the file covers, we can create a simple for loop to go over each header item. Using Python's f-string we can join the items together."
   ]
  },
  {
   "cell_type": "code",
   "execution_count": 169,
   "metadata": {},
   "outputs": [
    {
     "name": "stdout",
     "output_type": "stream",
     "text": [
      "START DEPTH (STRT): \t\t 139.5984\n",
      "STOP DEPTH (STOP): \t\t 3138.3732\n",
      "STEP (STEP): \t\t 0.1524\n",
      "NULL VALUE (NULL): \t\t -999.25\n",
      "COMPANY (COMP): \t\t \n",
      "WELL (WELL): \t\t Maui-7\n",
      "FIELD (FLD): \t\t \n",
      "LOCATION (LOC): \t\t \n",
      "COUNTRY (CTRY): \t\t \n",
      "STATE (STAT): \t\t \n",
      "COUNTY (CNTY): \t\t \n",
      "SERVICE COMPANY (SRVC): \t\t Shell BP & Todd Oil Services Ltd\n",
      "DATE (DATE): \t\t \n",
      "API NUMBER (API): \t\t \n",
      "UNIQUE WELL ID (UWI): \t\t 100000113536\n",
      "LATITUDE (LATI): \t\t -39.6351864\n",
      "LONGITUDE (LONG): \t\t 173.3207531\n"
     ]
    }
   ],
   "source": [
    "for item in las.sections['Well']:\n",
    "    print(f\"{item.descr} ({item.mnemonic}): \\t\\t {item.value}\")"
   ]
  },
  {
   "cell_type": "code",
   "execution_count": 170,
   "metadata": {},
   "outputs": [
    {
     "data": {
      "text/plain": [
       "'Maui-7'"
      ]
     },
     "execution_count": 170,
     "metadata": {},
     "output_type": "execute_result"
    }
   ],
   "source": [
    "las.well.WELL.value"
   ]
  },
  {
   "cell_type": "markdown",
   "metadata": {},
   "source": [
    "by looping through `las.curves`, we can quickly see and print the log curve mnemonic."
   ]
  },
  {
   "cell_type": "code",
   "execution_count": 171,
   "metadata": {},
   "outputs": [
    {
     "name": "stdout",
     "output_type": "stream",
     "text": [
      "DEPTH\n",
      "BS\n",
      "CALI\n",
      "DENS\n",
      "DENS_CORR\n",
      "DRHO\n",
      "DTC\n",
      "GR\n",
      "GR_CORR\n",
      "NEUT\n",
      "NEUT_CORR\n",
      "PEF\n",
      "RESD\n",
      "RESD_CORR\n",
      "RESM\n",
      "RESM_CORR\n",
      "RESS\n",
      "RESS_CORR\n",
      "SP\n",
      "TEMP\n",
      "TENS\n"
     ]
    }
   ],
   "source": [
    "for curve in las.curves:\n",
    "    print(curve.mnemonic)"
   ]
  },
  {
   "cell_type": "markdown",
   "metadata": {},
   "source": [
    "To see what curves are present within the las file, we can repeat the process with the Curve Item object and call upon the `unit` and `descr` functions to get info on the units and the curve's description."
   ]
  },
  {
   "cell_type": "code",
   "execution_count": 172,
   "metadata": {},
   "outputs": [
    {
     "name": "stdout",
     "output_type": "stream",
     "text": [
      "Curve: DEPTH, \t Units: M, \t Description: \n",
      "Curve: BS, \t Units: IN, \t Description: Bit Size (Created in Geolog)\n",
      "Curve: CALI, \t Units: IN, \t Description: Caliper Log (CALI)\n",
      "Curve: DENS, \t Units: G/C3, \t Description: Compensated Formation Density Log (RHOB)\n",
      "Curve: DENS_CORR, \t Units: G/C3, \t Description: Borehole corrected density log\n",
      "Curve: DRHO, \t Units: G/C3, \t Description: Density Log Correction (DRHO)\n",
      "Curve: DTC, \t Units: US/F, \t Description: Delta T (DT)\n",
      "Curve: GR, \t Units: GAPI, \t Description: Gamma-Ray Log (GR)\n",
      "Curve: GR_CORR, \t Units: GAPI, \t Description: Gamma ray corrected\n",
      "Curve: NEUT, \t Units: V/V, \t Description: Thermal Neutron Porosity (TNPH)\n",
      "Curve: NEUT_CORR, \t Units: V/V, \t Description: Corrected NPHI (limestone units)\n",
      "Curve: PEF, \t Units: B/E, \t Description: Photoelectric Factor (PEF)\n",
      "Curve: RESD, \t Units: OHMM, \t Description: Induction Deep Resistivity (ILD)\n",
      "Curve: RESD_CORR, \t Units: OHMM, \t Description: Borehole corrected ILD\n",
      "Curve: RESM, \t Units: OHMM, \t Description: Medium Induction Log (ILM)\n",
      "Curve: RESM_CORR, \t Units: OHMM, \t Description: Borehole corrected ILM\n",
      "Curve: RESS, \t Units: OHMM, \t Description: Shallow Laterolog (LLS) and Spherically Focused Log Unaveraged (SFLU)\n",
      "Curve: RESS_CORR, \t Units: OHMM, \t Description: Borehole corrected SFL\n",
      "Curve: SP, \t Units: MV, \t Description: Spontaneous Potential Log (SP)\n",
      "Curve: TEMP, \t Units: DEGC, \t Description: Temperature (TEMP)\n",
      "Curve: TENS, \t Units: KGF, \t Description: Cable tension at surface (TENS)\n",
      "There are a total of: 21 curves present within this file\n"
     ]
    }
   ],
   "source": [
    "for count, curve in enumerate(las.curves):\n",
    "    print(f\"Curve: {curve.mnemonic}, \\t Units: {curve.unit}, \\t Description: {curve.descr}\")\n",
    "print(f\"There are a total of: {count+1} curves present within this file\")"
   ]
  },
  {
   "cell_type": "markdown",
   "metadata": {},
   "source": [
    "We can easily be removed the curves we don't need from the LAS file by using the 'las.delete_curve'."
   ]
  },
  {
   "cell_type": "code",
   "execution_count": 173,
   "metadata": {},
   "outputs": [],
   "source": [
    "las.delete_curve('GR_CORR')"
   ]
  },
  {
   "cell_type": "code",
   "execution_count": 174,
   "metadata": {},
   "outputs": [],
   "source": [
    "las.delete_curve('NEUT_CORR')"
   ]
  },
  {
   "cell_type": "code",
   "execution_count": 175,
   "metadata": {},
   "outputs": [],
   "source": [
    "las.delete_curve('DENS_CORR')"
   ]
  },
  {
   "cell_type": "code",
   "execution_count": 176,
   "metadata": {},
   "outputs": [],
   "source": [
    "las.delete_curve('RESD_CORR')"
   ]
  },
  {
   "cell_type": "code",
   "execution_count": 177,
   "metadata": {},
   "outputs": [],
   "source": [
    "las.delete_curve('RESM_CORR')"
   ]
  },
  {
   "cell_type": "code",
   "execution_count": 178,
   "metadata": {},
   "outputs": [],
   "source": [
    "las.delete_curve('RESS_CORR')"
   ]
  },
  {
   "cell_type": "code",
   "execution_count": 179,
   "metadata": {},
   "outputs": [
    {
     "name": "stdout",
     "output_type": "stream",
     "text": [
      "Curve: DEPTH, \t Units: M, \t Description: \n",
      "Curve: BS, \t Units: IN, \t Description: Bit Size (Created in Geolog)\n",
      "Curve: CALI, \t Units: IN, \t Description: Caliper Log (CALI)\n",
      "Curve: DENS, \t Units: G/C3, \t Description: Compensated Formation Density Log (RHOB)\n",
      "Curve: DRHO, \t Units: G/C3, \t Description: Density Log Correction (DRHO)\n",
      "Curve: DTC, \t Units: US/F, \t Description: Delta T (DT)\n",
      "Curve: GR, \t Units: GAPI, \t Description: Gamma-Ray Log (GR)\n",
      "Curve: NEUT, \t Units: V/V, \t Description: Thermal Neutron Porosity (TNPH)\n",
      "Curve: PEF, \t Units: B/E, \t Description: Photoelectric Factor (PEF)\n",
      "Curve: RESD, \t Units: OHMM, \t Description: Induction Deep Resistivity (ILD)\n",
      "Curve: RESM, \t Units: OHMM, \t Description: Medium Induction Log (ILM)\n",
      "Curve: RESS, \t Units: OHMM, \t Description: Shallow Laterolog (LLS) and Spherically Focused Log Unaveraged (SFLU)\n",
      "Curve: SP, \t Units: MV, \t Description: Spontaneous Potential Log (SP)\n",
      "Curve: TEMP, \t Units: DEGC, \t Description: Temperature (TEMP)\n",
      "Curve: TENS, \t Units: KGF, \t Description: Cable tension at surface (TENS)\n",
      "There are a total of: 15 curves present within this file\n"
     ]
    }
   ],
   "source": [
    "for count, curve in enumerate(las.curves):\n",
    "    print(f\"Curve: {curve.mnemonic}, \\t Units: {curve.unit}, \\t Description: {curve.descr}\")\n",
    "print(f\"There are a total of: {count+1} curves present within this file\")"
   ]
  },
  {
   "cell_type": "code",
   "execution_count": 180,
   "metadata": {},
   "outputs": [],
   "source": [
    "las.write('/Users/isaacabrahamodeh/Desktop/Taranaki-wells/Taranaki/maui-7_final.las')"
   ]
  },
  {
   "cell_type": "markdown",
   "metadata": {},
   "source": [
    "## Converting LAS File to a Pandas Dataframe\n",
    "LASIO file can be converted to a pandas dataframe using the .df() function.This allow machine learning algorithm"
   ]
  },
  {
   "cell_type": "code",
   "execution_count": 181,
   "metadata": {},
   "outputs": [],
   "source": [
    "well = las.df()"
   ]
  },
  {
   "cell_type": "markdown",
   "metadata": {},
   "source": [
    "The `.head()` function generates a table view of the header and the first 5 rows within the dataframe."
   ]
  },
  {
   "cell_type": "code",
   "execution_count": 182,
   "metadata": {},
   "outputs": [
    {
     "data": {
      "text/html": [
       "<div>\n",
       "<style scoped>\n",
       "    .dataframe tbody tr th:only-of-type {\n",
       "        vertical-align: middle;\n",
       "    }\n",
       "\n",
       "    .dataframe tbody tr th {\n",
       "        vertical-align: top;\n",
       "    }\n",
       "\n",
       "    .dataframe thead th {\n",
       "        text-align: right;\n",
       "    }\n",
       "</style>\n",
       "<table border=\"1\" class=\"dataframe\">\n",
       "  <thead>\n",
       "    <tr style=\"text-align: right;\">\n",
       "      <th></th>\n",
       "      <th>BS</th>\n",
       "      <th>CALI</th>\n",
       "      <th>DENS</th>\n",
       "      <th>DRHO</th>\n",
       "      <th>DTC</th>\n",
       "      <th>GR</th>\n",
       "      <th>NEUT</th>\n",
       "      <th>PEF</th>\n",
       "      <th>RESD</th>\n",
       "      <th>RESM</th>\n",
       "      <th>RESS</th>\n",
       "      <th>SP</th>\n",
       "      <th>TEMP</th>\n",
       "      <th>TENS</th>\n",
       "    </tr>\n",
       "    <tr>\n",
       "      <th>DEPTH</th>\n",
       "      <th></th>\n",
       "      <th></th>\n",
       "      <th></th>\n",
       "      <th></th>\n",
       "      <th></th>\n",
       "      <th></th>\n",
       "      <th></th>\n",
       "      <th></th>\n",
       "      <th></th>\n",
       "      <th></th>\n",
       "      <th></th>\n",
       "      <th></th>\n",
       "      <th></th>\n",
       "      <th></th>\n",
       "    </tr>\n",
       "  </thead>\n",
       "  <tbody>\n",
       "    <tr>\n",
       "      <th>139.5984</th>\n",
       "      <td>36.0</td>\n",
       "      <td>NaN</td>\n",
       "      <td>NaN</td>\n",
       "      <td>NaN</td>\n",
       "      <td>NaN</td>\n",
       "      <td>NaN</td>\n",
       "      <td>NaN</td>\n",
       "      <td>NaN</td>\n",
       "      <td>NaN</td>\n",
       "      <td>NaN</td>\n",
       "      <td>NaN</td>\n",
       "      <td>NaN</td>\n",
       "      <td>NaN</td>\n",
       "      <td>NaN</td>\n",
       "    </tr>\n",
       "    <tr>\n",
       "      <th>139.7508</th>\n",
       "      <td>36.0</td>\n",
       "      <td>NaN</td>\n",
       "      <td>NaN</td>\n",
       "      <td>NaN</td>\n",
       "      <td>NaN</td>\n",
       "      <td>NaN</td>\n",
       "      <td>NaN</td>\n",
       "      <td>NaN</td>\n",
       "      <td>NaN</td>\n",
       "      <td>NaN</td>\n",
       "      <td>NaN</td>\n",
       "      <td>NaN</td>\n",
       "      <td>NaN</td>\n",
       "      <td>NaN</td>\n",
       "    </tr>\n",
       "    <tr>\n",
       "      <th>139.9032</th>\n",
       "      <td>36.0</td>\n",
       "      <td>NaN</td>\n",
       "      <td>NaN</td>\n",
       "      <td>NaN</td>\n",
       "      <td>NaN</td>\n",
       "      <td>NaN</td>\n",
       "      <td>NaN</td>\n",
       "      <td>NaN</td>\n",
       "      <td>NaN</td>\n",
       "      <td>NaN</td>\n",
       "      <td>NaN</td>\n",
       "      <td>NaN</td>\n",
       "      <td>NaN</td>\n",
       "      <td>NaN</td>\n",
       "    </tr>\n",
       "    <tr>\n",
       "      <th>140.0556</th>\n",
       "      <td>36.0</td>\n",
       "      <td>NaN</td>\n",
       "      <td>NaN</td>\n",
       "      <td>NaN</td>\n",
       "      <td>NaN</td>\n",
       "      <td>NaN</td>\n",
       "      <td>NaN</td>\n",
       "      <td>NaN</td>\n",
       "      <td>NaN</td>\n",
       "      <td>NaN</td>\n",
       "      <td>NaN</td>\n",
       "      <td>NaN</td>\n",
       "      <td>NaN</td>\n",
       "      <td>NaN</td>\n",
       "    </tr>\n",
       "    <tr>\n",
       "      <th>140.2080</th>\n",
       "      <td>36.0</td>\n",
       "      <td>NaN</td>\n",
       "      <td>NaN</td>\n",
       "      <td>NaN</td>\n",
       "      <td>NaN</td>\n",
       "      <td>NaN</td>\n",
       "      <td>NaN</td>\n",
       "      <td>NaN</td>\n",
       "      <td>NaN</td>\n",
       "      <td>NaN</td>\n",
       "      <td>NaN</td>\n",
       "      <td>NaN</td>\n",
       "      <td>NaN</td>\n",
       "      <td>NaN</td>\n",
       "    </tr>\n",
       "  </tbody>\n",
       "</table>\n",
       "</div>"
      ],
      "text/plain": [
       "            BS  CALI  DENS  DRHO  DTC  GR  NEUT  PEF  RESD  RESM  RESS  SP  \\\n",
       "DEPTH                                                                        \n",
       "139.5984  36.0   NaN   NaN   NaN  NaN NaN   NaN  NaN   NaN   NaN   NaN NaN   \n",
       "139.7508  36.0   NaN   NaN   NaN  NaN NaN   NaN  NaN   NaN   NaN   NaN NaN   \n",
       "139.9032  36.0   NaN   NaN   NaN  NaN NaN   NaN  NaN   NaN   NaN   NaN NaN   \n",
       "140.0556  36.0   NaN   NaN   NaN  NaN NaN   NaN  NaN   NaN   NaN   NaN NaN   \n",
       "140.2080  36.0   NaN   NaN   NaN  NaN NaN   NaN  NaN   NaN   NaN   NaN NaN   \n",
       "\n",
       "          TEMP  TENS  \n",
       "DEPTH                 \n",
       "139.5984   NaN   NaN  \n",
       "139.7508   NaN   NaN  \n",
       "139.9032   NaN   NaN  \n",
       "140.0556   NaN   NaN  \n",
       "140.2080   NaN   NaN  "
      ]
     },
     "execution_count": 182,
     "metadata": {},
     "output_type": "execute_result"
    }
   ],
   "source": [
    "well.head()"
   ]
  },
  {
   "cell_type": "markdown",
   "metadata": {},
   "source": [
    "To find out more information about data, we can call upon the `.info()` and `.describe()` functions.  \n",
    "    \n",
    "The `.info()` function provides information about the data types and how many non-null values are present within each curve.  \n",
    "The `.describe()` function, provides statistical information about each curve and can be a useful QC for each curve."
   ]
  },
  {
   "cell_type": "code",
   "execution_count": 183,
   "metadata": {},
   "outputs": [
    {
     "data": {
      "text/html": [
       "<div>\n",
       "<style scoped>\n",
       "    .dataframe tbody tr th:only-of-type {\n",
       "        vertical-align: middle;\n",
       "    }\n",
       "\n",
       "    .dataframe tbody tr th {\n",
       "        vertical-align: top;\n",
       "    }\n",
       "\n",
       "    .dataframe thead th {\n",
       "        text-align: right;\n",
       "    }\n",
       "</style>\n",
       "<table border=\"1\" class=\"dataframe\">\n",
       "  <thead>\n",
       "    <tr style=\"text-align: right;\">\n",
       "      <th></th>\n",
       "      <th>BS</th>\n",
       "      <th>CALI</th>\n",
       "      <th>DENS</th>\n",
       "      <th>DRHO</th>\n",
       "      <th>DTC</th>\n",
       "      <th>GR</th>\n",
       "      <th>NEUT</th>\n",
       "      <th>PEF</th>\n",
       "      <th>RESD</th>\n",
       "      <th>RESM</th>\n",
       "      <th>RESS</th>\n",
       "      <th>SP</th>\n",
       "      <th>TEMP</th>\n",
       "      <th>TENS</th>\n",
       "    </tr>\n",
       "  </thead>\n",
       "  <tbody>\n",
       "    <tr>\n",
       "      <th>count</th>\n",
       "      <td>19678.000000</td>\n",
       "      <td>18956.000000</td>\n",
       "      <td>17277.000000</td>\n",
       "      <td>17372.000000</td>\n",
       "      <td>13126.000000</td>\n",
       "      <td>18803.000000</td>\n",
       "      <td>17356.000000</td>\n",
       "      <td>17314.000000</td>\n",
       "      <td>18888.000000</td>\n",
       "      <td>13266.000000</td>\n",
       "      <td>19108.000000</td>\n",
       "      <td>19061.000000</td>\n",
       "      <td>5413.000000</td>\n",
       "      <td>5935.000000</td>\n",
       "    </tr>\n",
       "    <tr>\n",
       "      <th>mean</th>\n",
       "      <td>12.759294</td>\n",
       "      <td>12.105404</td>\n",
       "      <td>2.285438</td>\n",
       "      <td>0.002617</td>\n",
       "      <td>119.843274</td>\n",
       "      <td>71.876817</td>\n",
       "      <td>0.314017</td>\n",
       "      <td>3.283585</td>\n",
       "      <td>5.426438</td>\n",
       "      <td>2.422801</td>\n",
       "      <td>4.519794</td>\n",
       "      <td>69.985536</td>\n",
       "      <td>85.449608</td>\n",
       "      <td>987.315581</td>\n",
       "    </tr>\n",
       "    <tr>\n",
       "      <th>std</th>\n",
       "      <td>5.806991</td>\n",
       "      <td>3.606825</td>\n",
       "      <td>0.179872</td>\n",
       "      <td>0.027593</td>\n",
       "      <td>28.335667</td>\n",
       "      <td>15.668699</td>\n",
       "      <td>0.090705</td>\n",
       "      <td>0.816240</td>\n",
       "      <td>27.442671</td>\n",
       "      <td>18.300789</td>\n",
       "      <td>16.207248</td>\n",
       "      <td>94.430339</td>\n",
       "      <td>9.479082</td>\n",
       "      <td>227.047071</td>\n",
       "    </tr>\n",
       "    <tr>\n",
       "      <th>min</th>\n",
       "      <td>8.500000</td>\n",
       "      <td>7.538400</td>\n",
       "      <td>1.336700</td>\n",
       "      <td>-0.044224</td>\n",
       "      <td>61.464400</td>\n",
       "      <td>15.370900</td>\n",
       "      <td>0.028480</td>\n",
       "      <td>1.401400</td>\n",
       "      <td>0.543300</td>\n",
       "      <td>0.426800</td>\n",
       "      <td>0.723700</td>\n",
       "      <td>-73.272500</td>\n",
       "      <td>53.808500</td>\n",
       "      <td>126.007700</td>\n",
       "    </tr>\n",
       "    <tr>\n",
       "      <th>25%</th>\n",
       "      <td>8.500000</td>\n",
       "      <td>9.554175</td>\n",
       "      <td>2.186900</td>\n",
       "      <td>-0.012171</td>\n",
       "      <td>97.182850</td>\n",
       "      <td>62.933650</td>\n",
       "      <td>0.258741</td>\n",
       "      <td>2.750900</td>\n",
       "      <td>1.154800</td>\n",
       "      <td>1.020600</td>\n",
       "      <td>1.457775</td>\n",
       "      <td>-24.530600</td>\n",
       "      <td>82.365200</td>\n",
       "      <td>956.071000</td>\n",
       "    </tr>\n",
       "    <tr>\n",
       "      <th>50%</th>\n",
       "      <td>12.250000</td>\n",
       "      <td>11.939150</td>\n",
       "      <td>2.283200</td>\n",
       "      <td>-0.003813</td>\n",
       "      <td>114.771650</td>\n",
       "      <td>76.068800</td>\n",
       "      <td>0.322674</td>\n",
       "      <td>2.962400</td>\n",
       "      <td>1.603500</td>\n",
       "      <td>1.213950</td>\n",
       "      <td>2.068600</td>\n",
       "      <td>148.342700</td>\n",
       "      <td>87.579300</td>\n",
       "      <td>1035.609400</td>\n",
       "    </tr>\n",
       "    <tr>\n",
       "      <th>75%</th>\n",
       "      <td>12.250000</td>\n",
       "      <td>12.435275</td>\n",
       "      <td>2.420800</td>\n",
       "      <td>0.005712</td>\n",
       "      <td>141.477925</td>\n",
       "      <td>82.102050</td>\n",
       "      <td>0.379305</td>\n",
       "      <td>3.655875</td>\n",
       "      <td>3.068950</td>\n",
       "      <td>1.768800</td>\n",
       "      <td>3.344050</td>\n",
       "      <td>151.288000</td>\n",
       "      <td>91.814700</td>\n",
       "      <td>1082.869550</td>\n",
       "    </tr>\n",
       "    <tr>\n",
       "      <th>max</th>\n",
       "      <td>36.000000</td>\n",
       "      <td>25.424400</td>\n",
       "      <td>2.796900</td>\n",
       "      <td>0.282377</td>\n",
       "      <td>434.305500</td>\n",
       "      <td>137.176500</td>\n",
       "      <td>0.614731</td>\n",
       "      <td>7.386600</td>\n",
       "      <td>653.563500</td>\n",
       "      <td>1015.890500</td>\n",
       "      <td>380.717000</td>\n",
       "      <td>166.406800</td>\n",
       "      <td>98.278200</td>\n",
       "      <td>1853.748500</td>\n",
       "    </tr>\n",
       "  </tbody>\n",
       "</table>\n",
       "</div>"
      ],
      "text/plain": [
       "                 BS          CALI          DENS          DRHO           DTC  \\\n",
       "count  19678.000000  18956.000000  17277.000000  17372.000000  13126.000000   \n",
       "mean      12.759294     12.105404      2.285438      0.002617    119.843274   \n",
       "std        5.806991      3.606825      0.179872      0.027593     28.335667   \n",
       "min        8.500000      7.538400      1.336700     -0.044224     61.464400   \n",
       "25%        8.500000      9.554175      2.186900     -0.012171     97.182850   \n",
       "50%       12.250000     11.939150      2.283200     -0.003813    114.771650   \n",
       "75%       12.250000     12.435275      2.420800      0.005712    141.477925   \n",
       "max       36.000000     25.424400      2.796900      0.282377    434.305500   \n",
       "\n",
       "                 GR          NEUT           PEF          RESD          RESM  \\\n",
       "count  18803.000000  17356.000000  17314.000000  18888.000000  13266.000000   \n",
       "mean      71.876817      0.314017      3.283585      5.426438      2.422801   \n",
       "std       15.668699      0.090705      0.816240     27.442671     18.300789   \n",
       "min       15.370900      0.028480      1.401400      0.543300      0.426800   \n",
       "25%       62.933650      0.258741      2.750900      1.154800      1.020600   \n",
       "50%       76.068800      0.322674      2.962400      1.603500      1.213950   \n",
       "75%       82.102050      0.379305      3.655875      3.068950      1.768800   \n",
       "max      137.176500      0.614731      7.386600    653.563500   1015.890500   \n",
       "\n",
       "               RESS            SP         TEMP         TENS  \n",
       "count  19108.000000  19061.000000  5413.000000  5935.000000  \n",
       "mean       4.519794     69.985536    85.449608   987.315581  \n",
       "std       16.207248     94.430339     9.479082   227.047071  \n",
       "min        0.723700    -73.272500    53.808500   126.007700  \n",
       "25%        1.457775    -24.530600    82.365200   956.071000  \n",
       "50%        2.068600    148.342700    87.579300  1035.609400  \n",
       "75%        3.344050    151.288000    91.814700  1082.869550  \n",
       "max      380.717000    166.406800    98.278200  1853.748500  "
      ]
     },
     "execution_count": 183,
     "metadata": {},
     "output_type": "execute_result"
    }
   ],
   "source": [
    "well.describe()"
   ]
  },
  {
   "cell_type": "code",
   "execution_count": 184,
   "metadata": {},
   "outputs": [
    {
     "name": "stdout",
     "output_type": "stream",
     "text": [
      "<class 'pandas.core.frame.DataFrame'>\n",
      "Float64Index: 19678 entries, 139.5984 to 3138.3732\n",
      "Data columns (total 14 columns):\n",
      " #   Column  Non-Null Count  Dtype  \n",
      "---  ------  --------------  -----  \n",
      " 0   BS      19678 non-null  float64\n",
      " 1   CALI    18956 non-null  float64\n",
      " 2   DENS    17277 non-null  float64\n",
      " 3   DRHO    17372 non-null  float64\n",
      " 4   DTC     13126 non-null  float64\n",
      " 5   GR      18803 non-null  float64\n",
      " 6   NEUT    17356 non-null  float64\n",
      " 7   PEF     17314 non-null  float64\n",
      " 8   RESD    18888 non-null  float64\n",
      " 9   RESM    13266 non-null  float64\n",
      " 10  RESS    19108 non-null  float64\n",
      " 11  SP      19061 non-null  float64\n",
      " 12  TEMP    5413 non-null   float64\n",
      " 13  TENS    5935 non-null   float64\n",
      "dtypes: float64(14)\n",
      "memory usage: 2.3 MB\n"
     ]
    }
   ],
   "source": [
    "well.info()"
   ]
  },
  {
   "cell_type": "markdown",
   "metadata": {},
   "source": [
    "### Quick Plot\n",
    "\n",
    "Using the ploting function within pandas, we can plot all curves on a single plot."
   ]
  },
  {
   "cell_type": "code",
   "execution_count": 185,
   "metadata": {},
   "outputs": [
    {
     "data": {
      "text/plain": [
       "<AxesSubplot:xlabel='DEPTH'>"
      ]
     },
     "execution_count": 185,
     "metadata": {},
     "output_type": "execute_result"
    },
    {
     "data": {
      "image/png": "[encoded data removed]",
      "text/plain": [
       "<Figure size 432x288 with 1 Axes>"
      ]
     },
     "metadata": {
      "needs_background": "light"
     },
     "output_type": "display_data"
    }
   ],
   "source": [
    "well.plot()"
   ]
  },
  {
   "cell_type": "markdown",
   "metadata": {},
   "source": [
    "When we look at the plot above, we can see that is not very useful to us as all logging measurements have their own scales.\n",
    "\n",
    "Lets plot individual curves by supplying a y variable argument like so:"
   ]
  },
  {
   "cell_type": "code",
   "execution_count": 186,
   "metadata": {},
   "outputs": [
    {
     "data": {
      "text/plain": [
       "<AxesSubplot:xlabel='DEPTH'>"
      ]
     },
     "execution_count": 186,
     "metadata": {},
     "output_type": "execute_result"
    },
    {
     "data": {
      "image/png": "[encoded data removed]",
      "text/plain": [
       "<Figure size 432x288 with 1 Axes>"
      ]
     },
     "metadata": {
      "needs_background": "light"
     },
     "output_type": "display_data"
    }
   ],
   "source": [
    "well.plot(y='GR')"
   ]
  },
  {
   "cell_type": "markdown",
   "metadata": {},
   "source": [
    "This allows us to view the Gamma Ray Curve on its own. We can change the variable to any other curve within the dataframe and view it as follows: "
   ]
  },
  {
   "cell_type": "code",
   "execution_count": 187,
   "metadata": {},
   "outputs": [
    {
     "data": {
      "text/plain": [
       "<AxesSubplot:xlabel='DEPTH'>"
      ]
     },
     "execution_count": 187,
     "metadata": {},
     "output_type": "execute_result"
    },
    {
     "data": {
      "image/png": "[encoded data removed]",
      "text/plain": [
       "<Figure size 432x288 with 1 Axes>"
      ]
     },
     "metadata": {
      "needs_background": "light"
     },
     "output_type": "display_data"
    }
   ],
   "source": [
    "well.plot(y='DENS')"
   ]
  },
  {
   "cell_type": "code",
   "execution_count": 188,
   "metadata": {},
   "outputs": [
    {
     "data": {
      "text/plain": [
       "<AxesSubplot:xlabel='DEPTH'>"
      ]
     },
     "execution_count": 188,
     "metadata": {},
     "output_type": "execute_result"
    },
    {
     "data": {
      "image/png": "[encoded data removed]",
      "text/plain": [
       "<Figure size 432x288 with 1 Axes>"
      ]
     },
     "metadata": {
      "needs_background": "light"
     },
     "output_type": "display_data"
    }
   ],
   "source": [
    "well.plot(y='NEUT')"
   ]
  },
  {
   "cell_type": "code",
   "execution_count": 189,
   "metadata": {},
   "outputs": [
    {
     "data": {
      "text/plain": [
       "<AxesSubplot:xlabel='DEPTH'>"
      ]
     },
     "execution_count": 189,
     "metadata": {},
     "output_type": "execute_result"
    },
    {
     "data": {
      "image/png": "[encoded data removed]",
      "text/plain": [
       "<Figure size 432x288 with 1 Axes>"
      ]
     },
     "metadata": {
      "needs_background": "light"
     },
     "output_type": "display_data"
    }
   ],
   "source": [
    "well.plot(y='TEMP')"
   ]
  },
  {
   "cell_type": "code",
   "execution_count": 190,
   "metadata": {},
   "outputs": [
    {
     "data": {
      "text/plain": [
       "<AxesSubplot:xlabel='DEPTH'>"
      ]
     },
     "execution_count": 190,
     "metadata": {},
     "output_type": "execute_result"
    },
    {
     "data": {
      "image/png": "[encoded data removed]",
      "text/plain": [
       "<Figure size 432x288 with 1 Axes>"
      ]
     },
     "metadata": {
      "needs_background": "light"
     },
     "output_type": "display_data"
    }
   ],
   "source": [
    "well.plot(y='BS')"
   ]
  },
  {
   "cell_type": "code",
   "execution_count": 191,
   "metadata": {},
   "outputs": [
    {
     "data": {
      "text/plain": [
       "<AxesSubplot:xlabel='DEPTH'>"
      ]
     },
     "execution_count": 191,
     "metadata": {},
     "output_type": "execute_result"
    },
    {
     "data": {
      "image/png": "[encoded data removed]",
      "text/plain": [
       "<Figure size 432x288 with 1 Axes>"
      ]
     },
     "metadata": {
      "needs_background": "light"
     },
     "output_type": "display_data"
    }
   ],
   "source": [
    "well.plot(y='DTC')"
   ]
  },
  {
   "cell_type": "code",
   "execution_count": 192,
   "metadata": {},
   "outputs": [
    {
     "data": {
      "text/plain": [
       "<AxesSubplot:xlabel='DEPTH'>"
      ]
     },
     "execution_count": 192,
     "metadata": {},
     "output_type": "execute_result"
    },
    {
     "data": {
      "image/png": "[encoded data removed]",
      "text/plain": [
       "<Figure size 432x288 with 1 Axes>"
      ]
     },
     "metadata": {
      "needs_background": "light"
     },
     "output_type": "display_data"
    }
   ],
   "source": [
    "well.plot(y='DRHO')"
   ]
  },
  {
   "cell_type": "code",
   "execution_count": null,
   "metadata": {},
   "outputs": [],
   "source": []
  }
 ],
 "metadata": {
  "kernelspec": {
   "display_name": "Python 3",
   "language": "python",
   "name": "python3"
  },
  "language_info": {
   "codemirror_mode": {
    "name": "ipython",
    "version": 3
   },
   "file_extension": ".py",
   "mimetype": "text/x-python",
   "name": "python",
   "nbconvert_exporter": "python",
   "pygments_lexer": "ipython3",
   "version": "3.8.8"
  }
 },
 "nbformat": 4,
 "nbformat_minor": 4
}
