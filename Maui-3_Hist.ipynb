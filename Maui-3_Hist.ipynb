{
 "cells": [
  {
   "cell_type": "markdown",
   "metadata": {},
   "source": [
    "# Creating Histograms of Well Log Data\n",
    "\n",
    "## Introduction\n",
    "\n",
    "They are a commonly used tool within petrophysics for understanding the spread and distribution of data, and for picking key interpretation parameters such as shale or clay volume minimum and maximum values. Here, histograms from one of the Maui Wells will be displyed.\n",
    "\n",
    "## Importing Libraries and Loading LAS Data\n",
    "The first stage of any python project or notebook is generally to import the required libraries. In this case we are going to be using `lasio` to load our las file, `pandas` for storing our well log data, and `matplotlib` for visualising our data."
   ]
  },
  {
   "cell_type": "code",
   "execution_count": 1,
   "metadata": {},
   "outputs": [],
   "source": [
    "import pandas as pd\n",
    "import matplotlib.pyplot as plt\n",
    "import lasio"
   ]
  },
  {
   "cell_type": "markdown",
   "metadata": {},
   "source": [
    "The data I am are using for this project is from the open source New Zealand Petroleum Data"
   ]
  },
  {
   "cell_type": "code",
   "execution_count": 47,
   "metadata": {},
   "outputs": [],
   "source": [
    "las = lasio.read(\"/Users/isaacabrahamodeh/Desktop/Taranaki-wells/Taranaki/maui-3_final.las\")"
   ]
  },
  {
   "cell_type": "markdown",
   "metadata": {},
   "source": [
    "We then convert the las file to a pandas dataframe object."
   ]
  },
  {
   "cell_type": "code",
   "execution_count": 48,
   "metadata": {},
   "outputs": [],
   "source": [
    "df = las.df()"
   ]
  },
  {
   "cell_type": "markdown",
   "metadata": {},
   "source": [
    "Using the `.describe()` method we can explore the summary statistics of the data."
   ]
  },
  {
   "cell_type": "code",
   "execution_count": 49,
   "metadata": {},
   "outputs": [
    {
     "data": {
      "text/html": [
       "<div>\n",
       "<style scoped>\n",
       "    .dataframe tbody tr th:only-of-type {\n",
       "        vertical-align: middle;\n",
       "    }\n",
       "\n",
       "    .dataframe tbody tr th {\n",
       "        vertical-align: top;\n",
       "    }\n",
       "\n",
       "    .dataframe thead th {\n",
       "        text-align: right;\n",
       "    }\n",
       "</style>\n",
       "<table border=\"1\" class=\"dataframe\">\n",
       "  <thead>\n",
       "    <tr style=\"text-align: right;\">\n",
       "      <th></th>\n",
       "      <th>BS</th>\n",
       "      <th>CALI</th>\n",
       "      <th>DENS</th>\n",
       "      <th>DRHO</th>\n",
       "      <th>DTC</th>\n",
       "      <th>GR</th>\n",
       "      <th>GR_CORR</th>\n",
       "      <th>NEUT</th>\n",
       "      <th>NEUT_CORR</th>\n",
       "      <th>RESD</th>\n",
       "      <th>RESD_CORR</th>\n",
       "      <th>RESS</th>\n",
       "      <th>RESS_CORR</th>\n",
       "      <th>SP</th>\n",
       "    </tr>\n",
       "  </thead>\n",
       "  <tbody>\n",
       "    <tr>\n",
       "      <th>count</th>\n",
       "      <td>19314.000000</td>\n",
       "      <td>19163.000000</td>\n",
       "      <td>3323.000000</td>\n",
       "      <td>3367.000000</td>\n",
       "      <td>19058.000000</td>\n",
       "      <td>19075.000000</td>\n",
       "      <td>19075.000000</td>\n",
       "      <td>3376.000000</td>\n",
       "      <td>3376.000000</td>\n",
       "      <td>19078.000000</td>\n",
       "      <td>19078.000000</td>\n",
       "      <td>2845.000000</td>\n",
       "      <td>2845.000000</td>\n",
       "      <td>19180.000000</td>\n",
       "    </tr>\n",
       "    <tr>\n",
       "      <th>mean</th>\n",
       "      <td>10.306952</td>\n",
       "      <td>10.498308</td>\n",
       "      <td>2.381516</td>\n",
       "      <td>0.033016</td>\n",
       "      <td>102.600420</td>\n",
       "      <td>61.232783</td>\n",
       "      <td>68.997585</td>\n",
       "      <td>0.200030</td>\n",
       "      <td>0.184365</td>\n",
       "      <td>6.069443</td>\n",
       "      <td>6.017161</td>\n",
       "      <td>19.874493</td>\n",
       "      <td>20.055893</td>\n",
       "      <td>-38.837640</td>\n",
       "    </tr>\n",
       "    <tr>\n",
       "      <th>std</th>\n",
       "      <td>2.035413</td>\n",
       "      <td>1.877065</td>\n",
       "      <td>0.131372</td>\n",
       "      <td>0.048217</td>\n",
       "      <td>25.098971</td>\n",
       "      <td>12.801250</td>\n",
       "      <td>16.061628</td>\n",
       "      <td>0.062472</td>\n",
       "      <td>0.067745</td>\n",
       "      <td>72.817195</td>\n",
       "      <td>72.737767</td>\n",
       "      <td>30.143372</td>\n",
       "      <td>30.005105</td>\n",
       "      <td>30.630306</td>\n",
       "    </tr>\n",
       "    <tr>\n",
       "      <th>min</th>\n",
       "      <td>8.500000</td>\n",
       "      <td>6.918100</td>\n",
       "      <td>2.088100</td>\n",
       "      <td>-0.023777</td>\n",
       "      <td>56.537200</td>\n",
       "      <td>19.231700</td>\n",
       "      <td>19.445100</td>\n",
       "      <td>0.057746</td>\n",
       "      <td>0.027614</td>\n",
       "      <td>0.621100</td>\n",
       "      <td>0.621000</td>\n",
       "      <td>1.218700</td>\n",
       "      <td>1.087700</td>\n",
       "      <td>-118.816300</td>\n",
       "    </tr>\n",
       "    <tr>\n",
       "      <th>25%</th>\n",
       "      <td>8.500000</td>\n",
       "      <td>8.700200</td>\n",
       "      <td>2.271450</td>\n",
       "      <td>0.008578</td>\n",
       "      <td>82.801050</td>\n",
       "      <td>54.542600</td>\n",
       "      <td>60.246700</td>\n",
       "      <td>0.161472</td>\n",
       "      <td>0.140274</td>\n",
       "      <td>1.339725</td>\n",
       "      <td>1.339925</td>\n",
       "      <td>6.186300</td>\n",
       "      <td>6.264500</td>\n",
       "      <td>-56.736575</td>\n",
       "    </tr>\n",
       "    <tr>\n",
       "      <th>50%</th>\n",
       "      <td>8.500000</td>\n",
       "      <td>9.889500</td>\n",
       "      <td>2.347000</td>\n",
       "      <td>0.018568</td>\n",
       "      <td>93.977650</td>\n",
       "      <td>64.586800</td>\n",
       "      <td>74.364300</td>\n",
       "      <td>0.196677</td>\n",
       "      <td>0.178205</td>\n",
       "      <td>2.161800</td>\n",
       "      <td>2.163850</td>\n",
       "      <td>10.103100</td>\n",
       "      <td>10.303300</td>\n",
       "      <td>-28.327350</td>\n",
       "    </tr>\n",
       "    <tr>\n",
       "      <th>75%</th>\n",
       "      <td>12.250000</td>\n",
       "      <td>12.265250</td>\n",
       "      <td>2.506050</td>\n",
       "      <td>0.031351</td>\n",
       "      <td>119.887375</td>\n",
       "      <td>70.025650</td>\n",
       "      <td>80.865700</td>\n",
       "      <td>0.222884</td>\n",
       "      <td>0.206528</td>\n",
       "      <td>3.716200</td>\n",
       "      <td>3.711550</td>\n",
       "      <td>21.478300</td>\n",
       "      <td>21.854400</td>\n",
       "      <td>-18.059475</td>\n",
       "    </tr>\n",
       "    <tr>\n",
       "      <th>max</th>\n",
       "      <td>23.000000</td>\n",
       "      <td>15.053500</td>\n",
       "      <td>2.781200</td>\n",
       "      <td>0.220435</td>\n",
       "      <td>195.558300</td>\n",
       "      <td>161.199900</td>\n",
       "      <td>163.644200</td>\n",
       "      <td>0.413137</td>\n",
       "      <td>0.418795</td>\n",
       "      <td>3741.387900</td>\n",
       "      <td>3741.387900</td>\n",
       "      <td>303.746600</td>\n",
       "      <td>307.116200</td>\n",
       "      <td>21.352300</td>\n",
       "    </tr>\n",
       "  </tbody>\n",
       "</table>\n",
       "</div>"
      ],
      "text/plain": [
       "                 BS          CALI         DENS         DRHO           DTC  \\\n",
       "count  19314.000000  19163.000000  3323.000000  3367.000000  19058.000000   \n",
       "mean      10.306952     10.498308     2.381516     0.033016    102.600420   \n",
       "std        2.035413      1.877065     0.131372     0.048217     25.098971   \n",
       "min        8.500000      6.918100     2.088100    -0.023777     56.537200   \n",
       "25%        8.500000      8.700200     2.271450     0.008578     82.801050   \n",
       "50%        8.500000      9.889500     2.347000     0.018568     93.977650   \n",
       "75%       12.250000     12.265250     2.506050     0.031351    119.887375   \n",
       "max       23.000000     15.053500     2.781200     0.220435    195.558300   \n",
       "\n",
       "                 GR       GR_CORR         NEUT    NEUT_CORR          RESD  \\\n",
       "count  19075.000000  19075.000000  3376.000000  3376.000000  19078.000000   \n",
       "mean      61.232783     68.997585     0.200030     0.184365      6.069443   \n",
       "std       12.801250     16.061628     0.062472     0.067745     72.817195   \n",
       "min       19.231700     19.445100     0.057746     0.027614      0.621100   \n",
       "25%       54.542600     60.246700     0.161472     0.140274      1.339725   \n",
       "50%       64.586800     74.364300     0.196677     0.178205      2.161800   \n",
       "75%       70.025650     80.865700     0.222884     0.206528      3.716200   \n",
       "max      161.199900    163.644200     0.413137     0.418795   3741.387900   \n",
       "\n",
       "          RESD_CORR         RESS    RESS_CORR            SP  \n",
       "count  19078.000000  2845.000000  2845.000000  19180.000000  \n",
       "mean       6.017161    19.874493    20.055893    -38.837640  \n",
       "std       72.737767    30.143372    30.005105     30.630306  \n",
       "min        0.621000     1.218700     1.087700   -118.816300  \n",
       "25%        1.339925     6.186300     6.264500    -56.736575  \n",
       "50%        2.163850    10.103100    10.303300    -28.327350  \n",
       "75%        3.711550    21.478300    21.854400    -18.059475  \n",
       "max     3741.387900   303.746600   307.116200     21.352300  "
      ]
     },
     "execution_count": 49,
     "metadata": {},
     "output_type": "execute_result"
    }
   ],
   "source": [
    "df.describe()"
   ]
  },
  {
   "cell_type": "markdown",
   "metadata": {},
   "source": [
    "## Creating Histograms Using pandas"
   ]
  },
  {
   "cell_type": "markdown",
   "metadata": {},
   "source": [
    "Creating a quick histogram using pandas."
   ]
  },
  {
   "cell_type": "code",
   "execution_count": 50,
   "metadata": {},
   "outputs": [
    {
     "data": {
      "image/png": "[encoded data removed]",
      "text/plain": [
       "<Figure size 432x288 with 1 Axes>"
      ]
     },
     "metadata": {
      "needs_background": "light"
     },
     "output_type": "display_data"
    }
   ],
   "source": [
    "df['GR'].plot(kind='hist')\n",
    "plt.show()"
   ]
  },
  {
   "cell_type": "markdown",
   "metadata": {},
   "source": [
    "## Creating Histograms Using matplotlib\n",
    "Creating a quick histogram using matplotlib like so."
   ]
  },
  {
   "cell_type": "code",
   "execution_count": 51,
   "metadata": {},
   "outputs": [
    {
     "data": {
      "image/png": "[encoded data removed]",
      "text/plain": [
       "<Figure size 432x288 with 1 Axes>"
      ]
     },
     "metadata": {
      "needs_background": "light"
     },
     "output_type": "display_data"
    }
   ],
   "source": [
    "plt.hist(df['GR'])\n",
    "plt.show()"
   ]
  },
  {
   "cell_type": "markdown",
   "metadata": {},
   "source": [
    "This generates a very minimal plot. We can see that the values range from around 0 to 150, with a very small piece of data at 250 API. Each bin is around 25 API wide, which is quite a large range.\n",
    "\n",
    "We can control this by specifying a set number for the bins argument, in this example we will set it to 30."
   ]
  },
  {
   "cell_type": "code",
   "execution_count": 52,
   "metadata": {},
   "outputs": [
    {
     "data": {
      "image/png": "[encoded data removed]",
      "text/plain": [
       "<Figure size 432x288 with 1 Axes>"
      ]
     },
     "metadata": {
      "needs_background": "light"
     },
     "output_type": "display_data"
    }
   ],
   "source": [
    "plt.hist(df['GR'], bins=30)\n",
    "plt.show()"
   ]
  },
  {
   "cell_type": "markdown",
   "metadata": {},
   "source": [
    "Let's tidy the plot up a little by adding edge colours to the bins."
   ]
  },
  {
   "cell_type": "code",
   "execution_count": 53,
   "metadata": {},
   "outputs": [
    {
     "data": {
      "image/png": "[encoded data removed]",
      "text/plain": [
       "<Figure size 432x288 with 1 Axes>"
      ]
     },
     "metadata": {
      "needs_background": "light"
     },
     "output_type": "display_data"
    }
   ],
   "source": [
    "plt.hist(df['GR'], bins=30, edgecolor='black')\n",
    "plt.show()"
   ]
  },
  {
   "cell_type": "markdown",
   "metadata": {},
   "source": [
    "When we do this, we can see that the bins just below 100 API, is in fact two separate bins. \n",
    "\n",
    "To tidy the plot up further, we can assign both an x and y label, and also set the x-axis limits."
   ]
  },
  {
   "cell_type": "code",
   "execution_count": 54,
   "metadata": {},
   "outputs": [
    {
     "data": {
      "image/png": "[encoded data removed]",
      "text/plain": [
       "<Figure size 432x288 with 1 Axes>"
      ]
     },
     "metadata": {
      "needs_background": "light"
     },
     "output_type": "display_data"
    }
   ],
   "source": [
    "plt.hist(df['GR'], bins=30, color='red', alpha=0.5, edgecolor='black')\n",
    "plt.xlabel('Gamma Ray - API', fontsize=14)\n",
    "plt.ylabel('Frequency', fontsize=14)\n",
    "plt.xlim(0,200)\n",
    "\n",
    "plt.savefig('histogram.png', dpi=300)\n",
    "\n",
    "plt.show()"
   ]
  },
  {
   "cell_type": "markdown",
   "metadata": {},
   "source": [
    "In addition to the bars, we can also add in a kernel density estimation, which provides us with a line illustrating the distribution of the data."
   ]
  },
  {
   "cell_type": "code",
   "execution_count": 55,
   "metadata": {},
   "outputs": [
    {
     "data": {
      "text/plain": [
       "(0.0, 200.0)"
      ]
     },
     "execution_count": 55,
     "metadata": {},
     "output_type": "execute_result"
    },
    {
     "data": {
      "image/png": "[encoded data removed]",
      "text/plain": [
       "<Figure size 432x288 with 1 Axes>"
      ]
     },
     "metadata": {
      "needs_background": "light"
     },
     "output_type": "display_data"
    }
   ],
   "source": [
    "df['GR'].plot(kind='hist', bins=30, color='red', alpha=0.5, density=True, edgecolor='black')\n",
    "df['GR'].plot(kind='kde', color='black')\n",
    "plt.xlabel('Gamma Ray - API', fontsize=14)\n",
    "plt.ylabel('Density', fontsize=14)\n",
    "plt.xlim(0,200)"
   ]
  },
  {
   "cell_type": "markdown",
   "metadata": {},
   "source": [
    "When calculating clay and shale volumes we often use the percentiles as our interpretation parameters. \n",
    "\n",
    "These can be calculated using built in pandas functions: `mean()` and `quantile()`."
   ]
  },
  {
   "cell_type": "code",
   "execution_count": 56,
   "metadata": {},
   "outputs": [
    {
     "name": "stdout",
     "output_type": "stream",
     "text": [
      "Mean: \t 61.23278269986889\n",
      "P05: \t 35.83611\n",
      "P95: \t 76.96746999999999\n"
     ]
    }
   ],
   "source": [
    "mean = df['GR'].mean()\n",
    "p5 = df['GR'].quantile(0.05)\n",
    "p95 = df['GR'].quantile(0.95)\n",
    "\n",
    "print(f'Mean: \\t {mean}')\n",
    "print(f'P05: \\t {p5}')\n",
    "print(f'P95: \\t {p95}')\n"
   ]
  },
  {
   "cell_type": "markdown",
   "metadata": {},
   "source": [
    "To get an idea of where these points fall in relation to our data, we can add them onto the plot using axvline and passing in the calculated variables, a colour and a label."
   ]
  },
  {
   "cell_type": "code",
   "execution_count": 57,
   "metadata": {},
   "outputs": [
    {
     "data": {
      "image/png": "[encoded data removed]",
      "text/plain": [
       "<Figure size 432x288 with 1 Axes>"
      ]
     },
     "metadata": {
      "needs_background": "light"
     },
     "output_type": "display_data"
    }
   ],
   "source": [
    "df['GR'].plot(kind='hist', bins=30, color='red', alpha=0.5, edgecolor='black')\n",
    "plt.xlabel('Gamma Ray', fontsize=14)\n",
    "plt.ylabel('Frequency', fontsize=14)\n",
    "plt.xlim(0,200)\n",
    "\n",
    "plt.axvline(mean, color='blue', label='mean')\n",
    "plt.axvline(p5, color='green', label='5th Percentile')\n",
    "plt.axvline(p95, color='purple', label='95th Percentile')\n",
    "\n",
    "plt.legend()\n",
    "plt.show()\n"
   ]
  },
  {
   "cell_type": "code",
   "execution_count": null,
   "metadata": {},
   "outputs": [],
   "source": []
  }
 ],
 "metadata": {
  "kernelspec": {
   "display_name": "Python 3",
   "language": "python",
   "name": "python3"
  },
  "language_info": {
   "codemirror_mode": {
    "name": "ipython",
    "version": 3
   },
   "file_extension": ".py",
   "mimetype": "text/x-python",
   "name": "python",
   "nbconvert_exporter": "python",
   "pygments_lexer": "ipython3",
   "version": "3.8.8"
  }
 },
 "nbformat": 4,
 "nbformat_minor": 4
}
