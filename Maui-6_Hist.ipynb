{
 "cells": [
  {
   "cell_type": "markdown",
   "metadata": {},
   "source": [
    "# Creating Histograms of Well Log Data\n",
    "\n",
    "## Introduction\n",
    "\n",
    "They are a commonly used tool within petrophysics for understanding the spread and distribution of data, and for picking key interpretation parameters such as shale or clay volume minimum and maximum values. Here, histograms from one of the Maui Wells will be displyed.\n",
    "\n",
    "## Importing Libraries and Loading LAS Data\n",
    "The first stage of any python project or notebook is generally to import the required libraries. In this case we are going to be using `lasio` to load our las file, `pandas` for storing our well log data, and `matplotlib` for visualising our data."
   ]
  },
  {
   "cell_type": "code",
   "execution_count": 1,
   "metadata": {},
   "outputs": [],
   "source": [
    "import pandas as pd\n",
    "import matplotlib.pyplot as plt\n",
    "import lasio"
   ]
  },
  {
   "cell_type": "markdown",
   "metadata": {},
   "source": [
    "The data I am are using for this project is from the open source New Zealand Petroleum Data"
   ]
  },
  {
   "cell_type": "code",
   "execution_count": 25,
   "metadata": {},
   "outputs": [
    {
     "name": "stderr",
     "output_type": "stream",
     "text": [
      "Only engine='normal' can read wrapped files\n"
     ]
    }
   ],
   "source": [
    "las = lasio.read(\"/Users/isaacabrahamodeh/Desktop/Taranaki-wells/Taranaki/maui-6_final.las\")"
   ]
  },
  {
   "cell_type": "markdown",
   "metadata": {},
   "source": [
    "We then convert the las file to a pandas dataframe object."
   ]
  },
  {
   "cell_type": "code",
   "execution_count": 26,
   "metadata": {},
   "outputs": [],
   "source": [
    "df = las.df()"
   ]
  },
  {
   "cell_type": "markdown",
   "metadata": {},
   "source": [
    "Using the `.describe()` method we can explore the summary statistics of the data."
   ]
  },
  {
   "cell_type": "code",
   "execution_count": 27,
   "metadata": {},
   "outputs": [
    {
     "data": {
      "text/html": [
       "<div>\n",
       "<style scoped>\n",
       "    .dataframe tbody tr th:only-of-type {\n",
       "        vertical-align: middle;\n",
       "    }\n",
       "\n",
       "    .dataframe tbody tr th {\n",
       "        vertical-align: top;\n",
       "    }\n",
       "\n",
       "    .dataframe thead th {\n",
       "        text-align: right;\n",
       "    }\n",
       "</style>\n",
       "<table border=\"1\" class=\"dataframe\">\n",
       "  <thead>\n",
       "    <tr style=\"text-align: right;\">\n",
       "      <th></th>\n",
       "      <th>BS</th>\n",
       "      <th>CALI</th>\n",
       "      <th>DENS</th>\n",
       "      <th>DRHO</th>\n",
       "      <th>DTC</th>\n",
       "      <th>GR</th>\n",
       "      <th>NEUT</th>\n",
       "      <th>PEF</th>\n",
       "      <th>RESD</th>\n",
       "      <th>RESM</th>\n",
       "      <th>RESS</th>\n",
       "      <th>SP</th>\n",
       "      <th>TEMP</th>\n",
       "      <th>TENS</th>\n",
       "    </tr>\n",
       "  </thead>\n",
       "  <tbody>\n",
       "    <tr>\n",
       "      <th>count</th>\n",
       "      <td>20072.000000</td>\n",
       "      <td>19714.000000</td>\n",
       "      <td>17959.000000</td>\n",
       "      <td>18031.000000</td>\n",
       "      <td>17933.000000</td>\n",
       "      <td>19510.000000</td>\n",
       "      <td>17995.000000</td>\n",
       "      <td>18054.000000</td>\n",
       "      <td>19696.000000</td>\n",
       "      <td>18008.000000</td>\n",
       "      <td>19776.000000</td>\n",
       "      <td>19810.000000</td>\n",
       "      <td>18195.000000</td>\n",
       "      <td>21042.000000</td>\n",
       "    </tr>\n",
       "    <tr>\n",
       "      <th>mean</th>\n",
       "      <td>12.421496</td>\n",
       "      <td>12.536873</td>\n",
       "      <td>2.306188</td>\n",
       "      <td>-0.002523</td>\n",
       "      <td>101.675838</td>\n",
       "      <td>74.068437</td>\n",
       "      <td>0.318185</td>\n",
       "      <td>2.930954</td>\n",
       "      <td>3.013377</td>\n",
       "      <td>12.244660</td>\n",
       "      <td>2.838723</td>\n",
       "      <td>-16.090280</td>\n",
       "      <td>62.595108</td>\n",
       "      <td>873.031652</td>\n",
       "    </tr>\n",
       "    <tr>\n",
       "      <th>std</th>\n",
       "      <td>5.367973</td>\n",
       "      <td>4.139234</td>\n",
       "      <td>0.174792</td>\n",
       "      <td>0.031918</td>\n",
       "      <td>22.909808</td>\n",
       "      <td>17.154548</td>\n",
       "      <td>0.088690</td>\n",
       "      <td>0.403664</td>\n",
       "      <td>31.828742</td>\n",
       "      <td>119.106790</td>\n",
       "      <td>5.155760</td>\n",
       "      <td>58.187681</td>\n",
       "      <td>18.943277</td>\n",
       "      <td>272.627018</td>\n",
       "    </tr>\n",
       "    <tr>\n",
       "      <th>min</th>\n",
       "      <td>8.500000</td>\n",
       "      <td>7.884000</td>\n",
       "      <td>0.821900</td>\n",
       "      <td>-0.959700</td>\n",
       "      <td>35.722300</td>\n",
       "      <td>10.364000</td>\n",
       "      <td>0.022700</td>\n",
       "      <td>1.823400</td>\n",
       "      <td>0.575700</td>\n",
       "      <td>0.230800</td>\n",
       "      <td>0.570000</td>\n",
       "      <td>-66.099000</td>\n",
       "      <td>36.442900</td>\n",
       "      <td>367.040300</td>\n",
       "    </tr>\n",
       "    <tr>\n",
       "      <th>25%</th>\n",
       "      <td>8.500000</td>\n",
       "      <td>9.639875</td>\n",
       "      <td>2.160300</td>\n",
       "      <td>-0.012600</td>\n",
       "      <td>82.641100</td>\n",
       "      <td>66.104550</td>\n",
       "      <td>0.258290</td>\n",
       "      <td>2.702800</td>\n",
       "      <td>1.237875</td>\n",
       "      <td>0.923900</td>\n",
       "      <td>1.266375</td>\n",
       "      <td>-40.639525</td>\n",
       "      <td>45.643700</td>\n",
       "      <td>618.724400</td>\n",
       "    </tr>\n",
       "    <tr>\n",
       "      <th>50%</th>\n",
       "      <td>12.250000</td>\n",
       "      <td>12.159000</td>\n",
       "      <td>2.303200</td>\n",
       "      <td>-0.006700</td>\n",
       "      <td>94.790700</td>\n",
       "      <td>78.780400</td>\n",
       "      <td>0.330120</td>\n",
       "      <td>2.868600</td>\n",
       "      <td>1.598550</td>\n",
       "      <td>1.382500</td>\n",
       "      <td>1.696150</td>\n",
       "      <td>-34.745950</td>\n",
       "      <td>59.052800</td>\n",
       "      <td>908.893000</td>\n",
       "    </tr>\n",
       "    <tr>\n",
       "      <th>75%</th>\n",
       "      <td>12.250000</td>\n",
       "      <td>12.639675</td>\n",
       "      <td>2.447000</td>\n",
       "      <td>0.001200</td>\n",
       "      <td>121.320800</td>\n",
       "      <td>85.870375</td>\n",
       "      <td>0.390140</td>\n",
       "      <td>3.132400</td>\n",
       "      <td>3.102875</td>\n",
       "      <td>3.133825</td>\n",
       "      <td>3.548725</td>\n",
       "      <td>-23.364825</td>\n",
       "      <td>79.164900</td>\n",
       "      <td>1091.768100</td>\n",
       "    </tr>\n",
       "    <tr>\n",
       "      <th>max</th>\n",
       "      <td>36.000000</td>\n",
       "      <td>25.588500</td>\n",
       "      <td>2.785900</td>\n",
       "      <td>1.100500</td>\n",
       "      <td>170.583200</td>\n",
       "      <td>143.357200</td>\n",
       "      <td>0.574020</td>\n",
       "      <td>5.302800</td>\n",
       "      <td>1913.306500</td>\n",
       "      <td>2000.000000</td>\n",
       "      <td>229.518200</td>\n",
       "      <td>174.507100</td>\n",
       "      <td>97.699100</td>\n",
       "      <td>1458.173800</td>\n",
       "    </tr>\n",
       "  </tbody>\n",
       "</table>\n",
       "</div>"
      ],
      "text/plain": [
       "                 BS          CALI          DENS          DRHO           DTC  \\\n",
       "count  20072.000000  19714.000000  17959.000000  18031.000000  17933.000000   \n",
       "mean      12.421496     12.536873      2.306188     -0.002523    101.675838   \n",
       "std        5.367973      4.139234      0.174792      0.031918     22.909808   \n",
       "min        8.500000      7.884000      0.821900     -0.959700     35.722300   \n",
       "25%        8.500000      9.639875      2.160300     -0.012600     82.641100   \n",
       "50%       12.250000     12.159000      2.303200     -0.006700     94.790700   \n",
       "75%       12.250000     12.639675      2.447000      0.001200    121.320800   \n",
       "max       36.000000     25.588500      2.785900      1.100500    170.583200   \n",
       "\n",
       "                 GR          NEUT           PEF          RESD          RESM  \\\n",
       "count  19510.000000  17995.000000  18054.000000  19696.000000  18008.000000   \n",
       "mean      74.068437      0.318185      2.930954      3.013377     12.244660   \n",
       "std       17.154548      0.088690      0.403664     31.828742    119.106790   \n",
       "min       10.364000      0.022700      1.823400      0.575700      0.230800   \n",
       "25%       66.104550      0.258290      2.702800      1.237875      0.923900   \n",
       "50%       78.780400      0.330120      2.868600      1.598550      1.382500   \n",
       "75%       85.870375      0.390140      3.132400      3.102875      3.133825   \n",
       "max      143.357200      0.574020      5.302800   1913.306500   2000.000000   \n",
       "\n",
       "               RESS            SP          TEMP          TENS  \n",
       "count  19776.000000  19810.000000  18195.000000  21042.000000  \n",
       "mean       2.838723    -16.090280     62.595108    873.031652  \n",
       "std        5.155760     58.187681     18.943277    272.627018  \n",
       "min        0.570000    -66.099000     36.442900    367.040300  \n",
       "25%        1.266375    -40.639525     45.643700    618.724400  \n",
       "50%        1.696150    -34.745950     59.052800    908.893000  \n",
       "75%        3.548725    -23.364825     79.164900   1091.768100  \n",
       "max      229.518200    174.507100     97.699100   1458.173800  "
      ]
     },
     "execution_count": 27,
     "metadata": {},
     "output_type": "execute_result"
    }
   ],
   "source": [
    "df.describe()"
   ]
  },
  {
   "cell_type": "markdown",
   "metadata": {},
   "source": [
    "## Creating Histograms Using pandas"
   ]
  },
  {
   "cell_type": "markdown",
   "metadata": {},
   "source": [
    "Creating a quick histogram using pandas."
   ]
  },
  {
   "cell_type": "code",
   "execution_count": 28,
   "metadata": {},
   "outputs": [
    {
     "data": {
      "image/png": "[encoded data removed]",
      "text/plain": [
       "<Figure size 432x288 with 1 Axes>"
      ]
     },
     "metadata": {
      "needs_background": "light"
     },
     "output_type": "display_data"
    }
   ],
   "source": [
    "df['GR'].plot(kind='hist')\n",
    "plt.show()"
   ]
  },
  {
   "cell_type": "markdown",
   "metadata": {},
   "source": [
    "## Creating Histograms Using matplotlib\n",
    "Creating a quick histogram using matplotlib like so."
   ]
  },
  {
   "cell_type": "code",
   "execution_count": 29,
   "metadata": {},
   "outputs": [
    {
     "data": {
      "image/png": "[encoded data removed]",
      "text/plain": [
       "<Figure size 432x288 with 1 Axes>"
      ]
     },
     "metadata": {
      "needs_background": "light"
     },
     "output_type": "display_data"
    }
   ],
   "source": [
    "plt.hist(df['GR'])\n",
    "plt.show()"
   ]
  },
  {
   "cell_type": "markdown",
   "metadata": {},
   "source": [
    "This generates a very minimal plot. We can see that the values range from around 0 to 150, with a very small piece of data at 250 API. Each bin is around 25 API wide, which is quite a large range.\n",
    "\n",
    "We can control this by specifying a set number for the bins argument, in this example we will set it to 30."
   ]
  },
  {
   "cell_type": "code",
   "execution_count": 30,
   "metadata": {},
   "outputs": [
    {
     "data": {
      "image/png": "[encoded data removed]",
      "text/plain": [
       "<Figure size 432x288 with 1 Axes>"
      ]
     },
     "metadata": {
      "needs_background": "light"
     },
     "output_type": "display_data"
    }
   ],
   "source": [
    "plt.hist(df['GR'], bins=30)\n",
    "plt.show()"
   ]
  },
  {
   "cell_type": "markdown",
   "metadata": {},
   "source": [
    "Let's tidy the plot up a little by adding edge colours to the bins."
   ]
  },
  {
   "cell_type": "code",
   "execution_count": 31,
   "metadata": {},
   "outputs": [
    {
     "data": {
      "image/png": "[encoded data removed]",
      "text/plain": [
       "<Figure size 432x288 with 1 Axes>"
      ]
     },
     "metadata": {
      "needs_background": "light"
     },
     "output_type": "display_data"
    }
   ],
   "source": [
    "plt.hist(df['GR'], bins=30, edgecolor='black')\n",
    "plt.show()"
   ]
  },
  {
   "cell_type": "markdown",
   "metadata": {},
   "source": [
    "When we do this, we can see that the bins just below 100 API, is in fact two separate bins. \n",
    "\n",
    "To tidy the plot up further, we can assign both an x and y label, and also set the x-axis limits."
   ]
  },
  {
   "cell_type": "code",
   "execution_count": 32,
   "metadata": {},
   "outputs": [
    {
     "data": {
      "image/png": "[encoded data removed]",
      "text/plain": [
       "<Figure size 432x288 with 1 Axes>"
      ]
     },
     "metadata": {
      "needs_background": "light"
     },
     "output_type": "display_data"
    }
   ],
   "source": [
    "plt.hist(df['GR'], bins=30, color='red', alpha=0.5, edgecolor='black')\n",
    "plt.xlabel('Gamma Ray - API', fontsize=14)\n",
    "plt.ylabel('Frequency', fontsize=14)\n",
    "plt.xlim(0,200)\n",
    "\n",
    "plt.savefig('histogram.png', dpi=300)\n",
    "\n",
    "plt.show()"
   ]
  },
  {
   "cell_type": "markdown",
   "metadata": {},
   "source": [
    "In addition to the bars, we can also add in a kernel density estimation, which provides us with a line illustrating the distribution of the data."
   ]
  },
  {
   "cell_type": "code",
   "execution_count": 33,
   "metadata": {},
   "outputs": [
    {
     "data": {
      "text/plain": [
       "(0.0, 200.0)"
      ]
     },
     "execution_count": 33,
     "metadata": {},
     "output_type": "execute_result"
    },
    {
     "data": {
      "image/png": "[encoded data removed]",
      "text/plain": [
       "<Figure size 432x288 with 1 Axes>"
      ]
     },
     "metadata": {
      "needs_background": "light"
     },
     "output_type": "display_data"
    }
   ],
   "source": [
    "df['GR'].plot(kind='hist', bins=30, color='red', alpha=0.5, density=True, edgecolor='black')\n",
    "df['GR'].plot(kind='kde', color='black')\n",
    "plt.xlabel('Gamma Ray - API', fontsize=14)\n",
    "plt.ylabel('Density', fontsize=14)\n",
    "plt.xlim(0,200)"
   ]
  },
  {
   "cell_type": "markdown",
   "metadata": {},
   "source": [
    "When calculating clay and shale volumes we often use the percentiles as our interpretation parameters. \n",
    "\n",
    "These can be calculated using built in pandas functions: `mean()` and `quantile()`."
   ]
  },
  {
   "cell_type": "code",
   "execution_count": 34,
   "metadata": {},
   "outputs": [
    {
     "name": "stdout",
     "output_type": "stream",
     "text": [
      "Mean: \t 74.0684370066632\n",
      "P05: \t 37.69929\n",
      "P95: \t 94.497325\n"
     ]
    }
   ],
   "source": [
    "mean = df['GR'].mean()\n",
    "p5 = df['GR'].quantile(0.05)\n",
    "p95 = df['GR'].quantile(0.95)\n",
    "\n",
    "print(f'Mean: \\t {mean}')\n",
    "print(f'P05: \\t {p5}')\n",
    "print(f'P95: \\t {p95}')\n"
   ]
  },
  {
   "cell_type": "markdown",
   "metadata": {},
   "source": [
    "To get an idea of where these points fall in relation to our data, we can add them onto the plot using axvline and passing in the calculated variables, a colour and a label."
   ]
  },
  {
   "cell_type": "code",
   "execution_count": 35,
   "metadata": {},
   "outputs": [
    {
     "data": {
      "image/png": "[encoded data removed]",
      "text/plain": [
       "<Figure size 432x288 with 1 Axes>"
      ]
     },
     "metadata": {
      "needs_background": "light"
     },
     "output_type": "display_data"
    }
   ],
   "source": [
    "df['GR'].plot(kind='hist', bins=30, color='red', alpha=0.5, edgecolor='black')\n",
    "plt.xlabel('Gamma Ray', fontsize=14)\n",
    "plt.ylabel('Frequency', fontsize=14)\n",
    "plt.xlim(0,200)\n",
    "\n",
    "plt.axvline(mean, color='blue', label='mean')\n",
    "plt.axvline(p5, color='green', label='5th Percentile')\n",
    "plt.axvline(p95, color='purple', label='95th Percentile')\n",
    "\n",
    "plt.legend()\n",
    "plt.show()\n"
   ]
  },
  {
   "cell_type": "code",
   "execution_count": null,
   "metadata": {},
   "outputs": [],
   "source": []
  }
 ],
 "metadata": {
  "kernelspec": {
   "display_name": "Python 3",
   "language": "python",
   "name": "python3"
  },
  "language_info": {
   "codemirror_mode": {
    "name": "ipython",
    "version": 3
   },
   "file_extension": ".py",
   "mimetype": "text/x-python",
   "name": "python",
   "nbconvert_exporter": "python",
   "pygments_lexer": "ipython3",
   "version": "3.8.8"
  }
 },
 "nbformat": 4,
 "nbformat_minor": 4
}
