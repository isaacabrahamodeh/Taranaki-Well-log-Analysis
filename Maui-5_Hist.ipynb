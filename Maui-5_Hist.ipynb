{
 "cells": [
  {
   "cell_type": "markdown",
   "metadata": {},
   "source": [
    "# Creating Histograms of Well Log Data\n",
    "\n",
    "## Introduction\n",
    "\n",
    "They are a commonly used tool within petrophysics for understanding the spread and distribution of data, and for picking key interpretation parameters such as shale or clay volume minimum and maximum values. Here, histograms from one of the Maui Wells will be displyed.\n",
    "\n",
    "## Importing Libraries and Loading LAS Data\n",
    "The first stage of any python project or notebook is generally to import the required libraries. In this case we are going to be using `lasio` to load our las file, `pandas` for storing our well log data, and `matplotlib` for visualising our data."
   ]
  },
  {
   "cell_type": "code",
   "execution_count": 1,
   "metadata": {},
   "outputs": [],
   "source": [
    "import pandas as pd\n",
    "import matplotlib.pyplot as plt\n",
    "import lasio"
   ]
  },
  {
   "cell_type": "markdown",
   "metadata": {},
   "source": [
    "The data I am are using for this project is from the open source New Zealand Petroleum Data"
   ]
  },
  {
   "cell_type": "code",
   "execution_count": 36,
   "metadata": {},
   "outputs": [
    {
     "name": "stderr",
     "output_type": "stream",
     "text": [
      "Only engine='normal' can read wrapped files\n"
     ]
    }
   ],
   "source": [
    "las = lasio.read(\"/Users/isaacabrahamodeh/Desktop/Taranaki-wells/Taranaki/maui-5_final.las\")"
   ]
  },
  {
   "cell_type": "markdown",
   "metadata": {},
   "source": [
    "We then convert the las file to a pandas dataframe object."
   ]
  },
  {
   "cell_type": "code",
   "execution_count": 37,
   "metadata": {},
   "outputs": [],
   "source": [
    "df = las.df()"
   ]
  },
  {
   "cell_type": "markdown",
   "metadata": {},
   "source": [
    "Using the `.describe()` method we can explore the summary statistics of the data."
   ]
  },
  {
   "cell_type": "code",
   "execution_count": 38,
   "metadata": {},
   "outputs": [
    {
     "data": {
      "text/html": [
       "<div>\n",
       "<style scoped>\n",
       "    .dataframe tbody tr th:only-of-type {\n",
       "        vertical-align: middle;\n",
       "    }\n",
       "\n",
       "    .dataframe tbody tr th {\n",
       "        vertical-align: top;\n",
       "    }\n",
       "\n",
       "    .dataframe thead th {\n",
       "        text-align: right;\n",
       "    }\n",
       "</style>\n",
       "<table border=\"1\" class=\"dataframe\">\n",
       "  <thead>\n",
       "    <tr style=\"text-align: right;\">\n",
       "      <th></th>\n",
       "      <th>BS</th>\n",
       "      <th>CALI</th>\n",
       "      <th>DENS</th>\n",
       "      <th>DRHO</th>\n",
       "      <th>DTC</th>\n",
       "      <th>GR</th>\n",
       "      <th>NEUT</th>\n",
       "      <th>PEF</th>\n",
       "      <th>RESD</th>\n",
       "      <th>RESM</th>\n",
       "      <th>RESS</th>\n",
       "      <th>SP</th>\n",
       "      <th>TEMP</th>\n",
       "      <th>TENS</th>\n",
       "    </tr>\n",
       "  </thead>\n",
       "  <tbody>\n",
       "    <tr>\n",
       "      <th>count</th>\n",
       "      <td>20282.000000</td>\n",
       "      <td>19702.000000</td>\n",
       "      <td>17815.000000</td>\n",
       "      <td>18048.000000</td>\n",
       "      <td>17877.000000</td>\n",
       "      <td>19570.000000</td>\n",
       "      <td>17910.000000</td>\n",
       "      <td>17983.000000</td>\n",
       "      <td>19743.000000</td>\n",
       "      <td>7287.000000</td>\n",
       "      <td>19856.000000</td>\n",
       "      <td>19660.000000</td>\n",
       "      <td>18124.000000</td>\n",
       "      <td>19820.000000</td>\n",
       "    </tr>\n",
       "    <tr>\n",
       "      <th>mean</th>\n",
       "      <td>12.704653</td>\n",
       "      <td>11.911560</td>\n",
       "      <td>2.302714</td>\n",
       "      <td>0.007695</td>\n",
       "      <td>100.573606</td>\n",
       "      <td>74.004321</td>\n",
       "      <td>0.325053</td>\n",
       "      <td>3.043811</td>\n",
       "      <td>2.300190</td>\n",
       "      <td>117.153885</td>\n",
       "      <td>2.763216</td>\n",
       "      <td>143.657409</td>\n",
       "      <td>64.176929</td>\n",
       "      <td>901.426358</td>\n",
       "    </tr>\n",
       "    <tr>\n",
       "      <th>std</th>\n",
       "      <td>5.753629</td>\n",
       "      <td>3.050788</td>\n",
       "      <td>0.182384</td>\n",
       "      <td>0.027072</td>\n",
       "      <td>26.265068</td>\n",
       "      <td>14.285335</td>\n",
       "      <td>0.090856</td>\n",
       "      <td>0.398776</td>\n",
       "      <td>1.694238</td>\n",
       "      <td>462.142640</td>\n",
       "      <td>5.191183</td>\n",
       "      <td>55.663880</td>\n",
       "      <td>18.330431</td>\n",
       "      <td>296.195610</td>\n",
       "    </tr>\n",
       "    <tr>\n",
       "      <th>min</th>\n",
       "      <td>8.500000</td>\n",
       "      <td>8.078100</td>\n",
       "      <td>1.281700</td>\n",
       "      <td>-0.044130</td>\n",
       "      <td>52.053100</td>\n",
       "      <td>33.044700</td>\n",
       "      <td>0.029080</td>\n",
       "      <td>1.541800</td>\n",
       "      <td>0.625700</td>\n",
       "      <td>0.748700</td>\n",
       "      <td>0.635800</td>\n",
       "      <td>26.595000</td>\n",
       "      <td>39.086900</td>\n",
       "      <td>349.110300</td>\n",
       "    </tr>\n",
       "    <tr>\n",
       "      <th>25%</th>\n",
       "      <td>8.500000</td>\n",
       "      <td>9.218800</td>\n",
       "      <td>2.166400</td>\n",
       "      <td>-0.009550</td>\n",
       "      <td>80.222700</td>\n",
       "      <td>65.478700</td>\n",
       "      <td>0.261665</td>\n",
       "      <td>2.836850</td>\n",
       "      <td>1.180300</td>\n",
       "      <td>2.061000</td>\n",
       "      <td>1.370675</td>\n",
       "      <td>104.561200</td>\n",
       "      <td>47.909450</td>\n",
       "      <td>627.088650</td>\n",
       "    </tr>\n",
       "    <tr>\n",
       "      <th>50%</th>\n",
       "      <td>12.250000</td>\n",
       "      <td>11.992700</td>\n",
       "      <td>2.304800</td>\n",
       "      <td>0.001480</td>\n",
       "      <td>93.392300</td>\n",
       "      <td>73.359650</td>\n",
       "      <td>0.330030</td>\n",
       "      <td>3.039000</td>\n",
       "      <td>1.616300</td>\n",
       "      <td>3.440200</td>\n",
       "      <td>1.782650</td>\n",
       "      <td>118.728450</td>\n",
       "      <td>60.896500</td>\n",
       "      <td>932.928850</td>\n",
       "    </tr>\n",
       "    <tr>\n",
       "      <th>75%</th>\n",
       "      <td>12.250000</td>\n",
       "      <td>12.815300</td>\n",
       "      <td>2.457450</td>\n",
       "      <td>0.013980</td>\n",
       "      <td>118.042600</td>\n",
       "      <td>80.341175</td>\n",
       "      <td>0.396870</td>\n",
       "      <td>3.242400</td>\n",
       "      <td>2.950550</td>\n",
       "      <td>5.541400</td>\n",
       "      <td>3.422100</td>\n",
       "      <td>165.182175</td>\n",
       "      <td>79.960875</td>\n",
       "      <td>1173.633050</td>\n",
       "    </tr>\n",
       "    <tr>\n",
       "      <th>max</th>\n",
       "      <td>36.000000</td>\n",
       "      <td>22.531300</td>\n",
       "      <td>2.834600</td>\n",
       "      <td>0.262390</td>\n",
       "      <td>331.500000</td>\n",
       "      <td>160.778000</td>\n",
       "      <td>0.586030</td>\n",
       "      <td>5.955700</td>\n",
       "      <td>22.775900</td>\n",
       "      <td>2000.000000</td>\n",
       "      <td>356.268600</td>\n",
       "      <td>299.762100</td>\n",
       "      <td>98.125000</td>\n",
       "      <td>1457.690400</td>\n",
       "    </tr>\n",
       "  </tbody>\n",
       "</table>\n",
       "</div>"
      ],
      "text/plain": [
       "                 BS          CALI          DENS          DRHO           DTC  \\\n",
       "count  20282.000000  19702.000000  17815.000000  18048.000000  17877.000000   \n",
       "mean      12.704653     11.911560      2.302714      0.007695    100.573606   \n",
       "std        5.753629      3.050788      0.182384      0.027072     26.265068   \n",
       "min        8.500000      8.078100      1.281700     -0.044130     52.053100   \n",
       "25%        8.500000      9.218800      2.166400     -0.009550     80.222700   \n",
       "50%       12.250000     11.992700      2.304800      0.001480     93.392300   \n",
       "75%       12.250000     12.815300      2.457450      0.013980    118.042600   \n",
       "max       36.000000     22.531300      2.834600      0.262390    331.500000   \n",
       "\n",
       "                 GR          NEUT           PEF          RESD         RESM  \\\n",
       "count  19570.000000  17910.000000  17983.000000  19743.000000  7287.000000   \n",
       "mean      74.004321      0.325053      3.043811      2.300190   117.153885   \n",
       "std       14.285335      0.090856      0.398776      1.694238   462.142640   \n",
       "min       33.044700      0.029080      1.541800      0.625700     0.748700   \n",
       "25%       65.478700      0.261665      2.836850      1.180300     2.061000   \n",
       "50%       73.359650      0.330030      3.039000      1.616300     3.440200   \n",
       "75%       80.341175      0.396870      3.242400      2.950550     5.541400   \n",
       "max      160.778000      0.586030      5.955700     22.775900  2000.000000   \n",
       "\n",
       "               RESS            SP          TEMP          TENS  \n",
       "count  19856.000000  19660.000000  18124.000000  19820.000000  \n",
       "mean       2.763216    143.657409     64.176929    901.426358  \n",
       "std        5.191183     55.663880     18.330431    296.195610  \n",
       "min        0.635800     26.595000     39.086900    349.110300  \n",
       "25%        1.370675    104.561200     47.909450    627.088650  \n",
       "50%        1.782650    118.728450     60.896500    932.928850  \n",
       "75%        3.422100    165.182175     79.960875   1173.633050  \n",
       "max      356.268600    299.762100     98.125000   1457.690400  "
      ]
     },
     "execution_count": 38,
     "metadata": {},
     "output_type": "execute_result"
    }
   ],
   "source": [
    "df.describe()"
   ]
  },
  {
   "cell_type": "markdown",
   "metadata": {},
   "source": [
    "## Creating Histograms Using pandas"
   ]
  },
  {
   "cell_type": "markdown",
   "metadata": {},
   "source": [
    "Creating a quick histogram using pandas."
   ]
  },
  {
   "cell_type": "code",
   "execution_count": 39,
   "metadata": {},
   "outputs": [
    {
     "data": {
      "image/png": "[encoded data removed]",
      "text/plain": [
       "<Figure size 432x288 with 1 Axes>"
      ]
     },
     "metadata": {
      "needs_background": "light"
     },
     "output_type": "display_data"
    }
   ],
   "source": [
    "df['GR'].plot(kind='hist')\n",
    "plt.show()"
   ]
  },
  {
   "cell_type": "markdown",
   "metadata": {},
   "source": [
    "## Creating Histograms Using matplotlib\n",
    "Creating a quick histogram using matplotlib like so."
   ]
  },
  {
   "cell_type": "code",
   "execution_count": 40,
   "metadata": {},
   "outputs": [
    {
     "data": {
      "image/png": "[encoded data removed]",
      "text/plain": [
       "<Figure size 432x288 with 1 Axes>"
      ]
     },
     "metadata": {
      "needs_background": "light"
     },
     "output_type": "display_data"
    }
   ],
   "source": [
    "plt.hist(df['GR'])\n",
    "plt.show()"
   ]
  },
  {
   "cell_type": "markdown",
   "metadata": {},
   "source": [
    "This generates a very minimal plot. We can see that the values range from around 0 to 150, with a very small piece of data at 250 API. Each bin is around 25 API wide, which is quite a large range.\n",
    "\n",
    "We can control this by specifying a set number for the bins argument, in this example we will set it to 30."
   ]
  },
  {
   "cell_type": "code",
   "execution_count": 41,
   "metadata": {},
   "outputs": [
    {
     "data": {
      "image/png": "[encoded data removed]",
      "text/plain": [
       "<Figure size 432x288 with 1 Axes>"
      ]
     },
     "metadata": {
      "needs_background": "light"
     },
     "output_type": "display_data"
    }
   ],
   "source": [
    "plt.hist(df['GR'], bins=30)\n",
    "plt.show()"
   ]
  },
  {
   "cell_type": "markdown",
   "metadata": {},
   "source": [
    "Let's tidy the plot up a little by adding edge colours to the bins."
   ]
  },
  {
   "cell_type": "code",
   "execution_count": 42,
   "metadata": {},
   "outputs": [
    {
     "data": {
      "image/png": "[encoded data removed]",
      "text/plain": [
       "<Figure size 432x288 with 1 Axes>"
      ]
     },
     "metadata": {
      "needs_background": "light"
     },
     "output_type": "display_data"
    }
   ],
   "source": [
    "plt.hist(df['GR'], bins=30, edgecolor='black')\n",
    "plt.show()"
   ]
  },
  {
   "cell_type": "markdown",
   "metadata": {},
   "source": [
    "When we do this, we can see that the bins just below 100 API, is in fact two separate bins. \n",
    "\n",
    "To tidy the plot up further, we can assign both an x and y label, and also set the x-axis limits."
   ]
  },
  {
   "cell_type": "code",
   "execution_count": 43,
   "metadata": {},
   "outputs": [
    {
     "data": {
      "image/png": "[encoded data removed]",
      "text/plain": [
       "<Figure size 432x288 with 1 Axes>"
      ]
     },
     "metadata": {
      "needs_background": "light"
     },
     "output_type": "display_data"
    }
   ],
   "source": [
    "plt.hist(df['GR'], bins=30, color='red', alpha=0.5, edgecolor='black')\n",
    "plt.xlabel('Gamma Ray - API', fontsize=14)\n",
    "plt.ylabel('Frequency', fontsize=14)\n",
    "plt.xlim(0,200)\n",
    "\n",
    "plt.savefig('histogram.png', dpi=300)\n",
    "\n",
    "plt.show()"
   ]
  },
  {
   "cell_type": "markdown",
   "metadata": {},
   "source": [
    "In addition to the bars, we can also add in a kernel density estimation, which provides us with a line illustrating the distribution of the data."
   ]
  },
  {
   "cell_type": "code",
   "execution_count": 44,
   "metadata": {},
   "outputs": [
    {
     "data": {
      "text/plain": [
       "(0.0, 200.0)"
      ]
     },
     "execution_count": 44,
     "metadata": {},
     "output_type": "execute_result"
    },
    {
     "data": {
      "image/png": "[encoded data removed]",
      "text/plain": [
       "<Figure size 432x288 with 1 Axes>"
      ]
     },
     "metadata": {
      "needs_background": "light"
     },
     "output_type": "display_data"
    }
   ],
   "source": [
    "df['GR'].plot(kind='hist', bins=30, color='red', alpha=0.5, density=True, edgecolor='black')\n",
    "df['GR'].plot(kind='kde', color='black')\n",
    "plt.xlabel('Gamma Ray - API', fontsize=14)\n",
    "plt.ylabel('Density', fontsize=14)\n",
    "plt.xlim(0,200)"
   ]
  },
  {
   "cell_type": "markdown",
   "metadata": {},
   "source": [
    "When calculating clay and shale volumes we often use the percentiles as our interpretation parameters. \n",
    "\n",
    "These can be calculated using built in pandas functions: `mean()` and `quantile()`."
   ]
  },
  {
   "cell_type": "code",
   "execution_count": 45,
   "metadata": {},
   "outputs": [
    {
     "name": "stdout",
     "output_type": "stream",
     "text": [
      "Mean: \t 74.00432105774149\n",
      "P05: \t 51.781369999999995\n",
      "P95: \t 102.41258499999999\n"
     ]
    }
   ],
   "source": [
    "mean = df['GR'].mean()\n",
    "p5 = df['GR'].quantile(0.05)\n",
    "p95 = df['GR'].quantile(0.95)\n",
    "\n",
    "print(f'Mean: \\t {mean}')\n",
    "print(f'P05: \\t {p5}')\n",
    "print(f'P95: \\t {p95}')\n"
   ]
  },
  {
   "cell_type": "markdown",
   "metadata": {},
   "source": [
    "To get an idea of where these points fall in relation to our data, we can add them onto the plot using axvline and passing in the calculated variables, a colour and a label."
   ]
  },
  {
   "cell_type": "code",
   "execution_count": 46,
   "metadata": {},
   "outputs": [
    {
     "data": {
      "image/png": "[encoded data removed]",
      "text/plain": [
       "<Figure size 432x288 with 1 Axes>"
      ]
     },
     "metadata": {
      "needs_background": "light"
     },
     "output_type": "display_data"
    }
   ],
   "source": [
    "df['GR'].plot(kind='hist', bins=30, color='red', alpha=0.5, edgecolor='black')\n",
    "plt.xlabel('Gamma Ray', fontsize=14)\n",
    "plt.ylabel('Frequency', fontsize=14)\n",
    "plt.xlim(0,200)\n",
    "\n",
    "plt.axvline(mean, color='blue', label='mean')\n",
    "plt.axvline(p5, color='green', label='5th Percentile')\n",
    "plt.axvline(p95, color='purple', label='95th Percentile')\n",
    "\n",
    "plt.legend()\n",
    "plt.show()\n"
   ]
  },
  {
   "cell_type": "code",
   "execution_count": null,
   "metadata": {},
   "outputs": [],
   "source": []
  }
 ],
 "metadata": {
  "kernelspec": {
   "display_name": "Python 3",
   "language": "python",
   "name": "python3"
  },
  "language_info": {
   "codemirror_mode": {
    "name": "ipython",
    "version": 3
   },
   "file_extension": ".py",
   "mimetype": "text/x-python",
   "name": "python",
   "nbconvert_exporter": "python",
   "pygments_lexer": "ipython3",
   "version": "3.8.8"
  }
 },
 "nbformat": 4,
 "nbformat_minor": 4
}
