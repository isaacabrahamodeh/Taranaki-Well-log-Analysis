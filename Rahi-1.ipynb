{
 "cells": [
  {
   "cell_type": "markdown",
   "metadata": {},
   "source": [
    "# Loading and Exploring Log LAS Files With Python"
   ]
  },
  {
   "cell_type": "markdown",
   "metadata": {},
   "source": [
    "## Introduction\n",
    "\n",
    "Log ASCII Standard (LAS) files are a common file format storing and transferring well log data in the oil and gas industry. \n",
    "\n",
    "A LAS file is a file format that was developed by the Canadian Well Logging Society and it is used to store log curve data as well as information about the well.\n",
    "\n",
    "This notebook illustrates how to load data in from a LAS file and carry out a basic QC of the data before plotting it on a log plot.\n",
    "\n",
    "The well data used in this notebook are from the Maui gas field in Offshore Taranaki Basin, New Zealand"
   ]
  },
  {
   "cell_type": "markdown",
   "metadata": {},
   "source": [
    "## Loading and Checking Data\n",
    "The first step is to import the required libraries: pandas, matplotlib and LASIO.  \n",
    "Lasio library is the most popular python library for reading .las files. More info on the library can be found at: https://lasio.readthedocs.io/en/latest/"
   ]
  },
  {
   "cell_type": "code",
   "execution_count": 33,
   "metadata": {},
   "outputs": [],
   "source": [
    "import pandas as pd\n",
    "import matplotlib.pyplot as plt\n",
    "import lasio"
   ]
  },
  {
   "cell_type": "markdown",
   "metadata": {},
   "source": [
    "To load our file in, use the `.read()` method from LASIO. Here, I will be loading Rahi-1 .las file"
   ]
  },
  {
   "cell_type": "code",
   "execution_count": 193,
   "metadata": {},
   "outputs": [],
   "source": [
    "las = lasio.read(\"/Users/isaacabrahamodeh/Desktop/Taranaki-wells/Taranaki/rahi-1_final.las\")"
   ]
  },
  {
   "cell_type": "markdown",
   "metadata": {},
   "source": [
    "## Loading and Checking Data\n",
    "In this step we are going to load, check and explore the sections in a typical las file"
   ]
  },
  {
   "cell_type": "code",
   "execution_count": 194,
   "metadata": {},
   "outputs": [
    {
     "data": {
      "text/plain": [
       "dict_keys(['Version', 'Well', 'Curves', 'Parameter', 'Other'])"
      ]
     },
     "execution_count": 194,
     "metadata": {},
     "output_type": "execute_result"
    }
   ],
   "source": [
    "las.sections.keys()"
   ]
  },
  {
   "cell_type": "code",
   "execution_count": 195,
   "metadata": {},
   "outputs": [
    {
     "data": {
      "text/plain": [
       "[HeaderItem(mnemonic=\"VERS\", unit=\"\", value=\"2.0\", descr=\"CWLS LOG ASCII STANDA\"),\n",
       " HeaderItem(mnemonic=\"WRAP\", unit=\"\", value=\"NO\", descr=\"One line per depth ste\")]"
      ]
     },
     "execution_count": 195,
     "metadata": {},
     "output_type": "execute_result"
    }
   ],
   "source": [
    "las.sections['Version']"
   ]
  },
  {
   "cell_type": "markdown",
   "metadata": {},
   "source": [
    "Now that our file has been loaded, we can start investigating it's contents especially the header section which contained information about where the file originated from, such as the well name, location and what the depth range of the file covers, we can create a simple for loop to go over each header item. Using Python's f-string we can join the items together."
   ]
  },
  {
   "cell_type": "code",
   "execution_count": 196,
   "metadata": {},
   "outputs": [
    {
     "name": "stdout",
     "output_type": "stream",
     "text": [
      "START DEPTH (STRT): \t\t 136.0932\n",
      "STOP DEPTH (STOP): \t\t 3500.4756\n",
      "STEP (STEP): \t\t 0.1524\n",
      "NULL VALUE (NULL): \t\t -999.25\n",
      "COMPANY (COMP): \t\t \n",
      "WELL (WELL): \t\t Rahi-1\n",
      "FIELD (FLD): \t\t \n",
      "LOCATION (LOC): \t\t \n",
      "COUNTRY (CTRY): \t\t \n",
      "STATE (STAT): \t\t \n",
      "COUNTY (CNTY): \t\t \n",
      "SERVICE COMPANY (SRVC): \t\t Shell Todd Oil Services Limited\n",
      "DATE (DATE): \t\t \n",
      "API NUMBER (API): \t\t \n",
      "UNIQUE WELL ID (UWI): \t\t 100000223430\n",
      "LATITUDE (LATI): \t\t -39.7164729\n",
      "LONGITUDE (LONG): \t\t 173.3434684\n"
     ]
    }
   ],
   "source": [
    "for item in las.sections['Well']:\n",
    "    print(f\"{item.descr} ({item.mnemonic}): \\t\\t {item.value}\")"
   ]
  },
  {
   "cell_type": "code",
   "execution_count": 197,
   "metadata": {},
   "outputs": [
    {
     "data": {
      "text/plain": [
       "'Rahi-1'"
      ]
     },
     "execution_count": 197,
     "metadata": {},
     "output_type": "execute_result"
    }
   ],
   "source": [
    "las.well.WELL.value"
   ]
  },
  {
   "cell_type": "markdown",
   "metadata": {},
   "source": [
    "by looping through `las.curves`, we can quickly see and print the log curve mnemonic."
   ]
  },
  {
   "cell_type": "code",
   "execution_count": 198,
   "metadata": {},
   "outputs": [
    {
     "name": "stdout",
     "output_type": "stream",
     "text": [
      "DEPTH\n",
      "BS\n",
      "CALI\n",
      "DENS\n",
      "DRHO\n",
      "DTC\n",
      "GR\n",
      "NEUT\n",
      "PEF\n",
      "RESD\n",
      "RESD_CORR\n",
      "RESS\n",
      "RESS_CORR\n",
      "SP\n",
      "TEMP\n",
      "TENS\n"
     ]
    }
   ],
   "source": [
    "for curve in las.curves:\n",
    "    print(curve.mnemonic)"
   ]
  },
  {
   "cell_type": "markdown",
   "metadata": {},
   "source": [
    "To see what curves are present within the las file, we can repeat the process with the Curve Item object and call upon the `unit` and `descr` functions to get info on the units and the curve's description."
   ]
  },
  {
   "cell_type": "code",
   "execution_count": 199,
   "metadata": {},
   "outputs": [
    {
     "name": "stdout",
     "output_type": "stream",
     "text": [
      "Curve: DEPTH, \t Units: M, \t Description: \n",
      "Curve: BS, \t Units: IN, \t Description: Bit Size (Created in Geolog)\n",
      "Curve: CALI, \t Units: IN, \t Description: Caliper Log (CALI) and High resolution Caliper (HCAL)\n",
      "Curve: DENS, \t Units: G/C3, \t Description: Compensated Formation Density Log (RHOB) and (RHOZ)\n",
      "Curve: DRHO, \t Units: G/C3, \t Description: Density Log Correction (DRHO) and Density Log Correction High Res (HDRA)\n",
      "Curve: DTC, \t Units: US/F, \t Description: Delta T (DT)\n",
      "Curve: GR, \t Units: GAPI, \t Description: Environmentally corrected GR log. (ECGR) and Gamma-Ray Log (GR)\n",
      "Curve: NEUT, \t Units: V/V, \t Description: Neutron Porosity (env. corrected and Apha Processed) (NPOR)\n",
      "Curve: PEF, \t Units: B/E, \t Description: Photoelectric Factor (PEF) and (PEFZ)\n",
      "Curve: RESD, \t Units: OHMM, \t Description: Laterolog Deep Resistivity (HLLD) and (LLD)\n",
      "Curve: RESD_CORR, \t Units: OHMM, \t Description: Borehole corrected LLD\n",
      "Curve: RESS, \t Units: OHMM, \t Description: High Res Shallow Laterolog (HLLS) and Shallow Laterolog (HLLS)\n",
      "Curve: RESS_CORR, \t Units: OHMM, \t Description: Borehole corrected LLS\n",
      "Curve: SP, \t Units: MV, \t Description: Spontaneous Potential Log (SP)\n",
      "Curve: TEMP, \t Units: DEGC, \t Description: Measured Temperature (MTEM)\n",
      "Curve: TENS, \t Units: KGF, \t Description: Cable tension at surface (TENS)\n",
      "There are a total of: 16 curves present within this file\n"
     ]
    }
   ],
   "source": [
    "for count, curve in enumerate(las.curves):\n",
    "    print(f\"Curve: {curve.mnemonic}, \\t Units: {curve.unit}, \\t Description: {curve.descr}\")\n",
    "print(f\"There are a total of: {count+1} curves present within this file\")"
   ]
  },
  {
   "cell_type": "markdown",
   "metadata": {},
   "source": [
    "We can easily be removed the curves we don't need from the LAS file by using the 'las.delete_curve'."
   ]
  },
  {
   "cell_type": "code",
   "execution_count": 200,
   "metadata": {},
   "outputs": [],
   "source": [
    "las.delete_curve('RESD_CORR')"
   ]
  },
  {
   "cell_type": "code",
   "execution_count": 201,
   "metadata": {},
   "outputs": [],
   "source": [
    "las.delete_curve('RESS_CORR')"
   ]
  },
  {
   "cell_type": "code",
   "execution_count": 202,
   "metadata": {},
   "outputs": [
    {
     "name": "stdout",
     "output_type": "stream",
     "text": [
      "Curve: DEPTH, \t Units: M, \t Description: \n",
      "Curve: BS, \t Units: IN, \t Description: Bit Size (Created in Geolog)\n",
      "Curve: CALI, \t Units: IN, \t Description: Caliper Log (CALI) and High resolution Caliper (HCAL)\n",
      "Curve: DENS, \t Units: G/C3, \t Description: Compensated Formation Density Log (RHOB) and (RHOZ)\n",
      "Curve: DRHO, \t Units: G/C3, \t Description: Density Log Correction (DRHO) and Density Log Correction High Res (HDRA)\n",
      "Curve: DTC, \t Units: US/F, \t Description: Delta T (DT)\n",
      "Curve: GR, \t Units: GAPI, \t Description: Environmentally corrected GR log. (ECGR) and Gamma-Ray Log (GR)\n",
      "Curve: NEUT, \t Units: V/V, \t Description: Neutron Porosity (env. corrected and Apha Processed) (NPOR)\n",
      "Curve: PEF, \t Units: B/E, \t Description: Photoelectric Factor (PEF) and (PEFZ)\n",
      "Curve: RESD, \t Units: OHMM, \t Description: Laterolog Deep Resistivity (HLLD) and (LLD)\n",
      "Curve: RESS, \t Units: OHMM, \t Description: High Res Shallow Laterolog (HLLS) and Shallow Laterolog (HLLS)\n",
      "Curve: SP, \t Units: MV, \t Description: Spontaneous Potential Log (SP)\n",
      "Curve: TEMP, \t Units: DEGC, \t Description: Measured Temperature (MTEM)\n",
      "Curve: TENS, \t Units: KGF, \t Description: Cable tension at surface (TENS)\n",
      "There are a total of: 14 curves present within this file\n"
     ]
    }
   ],
   "source": [
    "for count, curve in enumerate(las.curves):\n",
    "    print(f\"Curve: {curve.mnemonic}, \\t Units: {curve.unit}, \\t Description: {curve.descr}\")\n",
    "print(f\"There are a total of: {count+1} curves present within this file\")"
   ]
  },
  {
   "cell_type": "code",
   "execution_count": 203,
   "metadata": {},
   "outputs": [],
   "source": [
    "las.write('/Users/isaacabrahamodeh/Desktop/Taranaki-wells/Taranaki/rahi-1_final.las')"
   ]
  },
  {
   "cell_type": "markdown",
   "metadata": {},
   "source": [
    "## Converting LAS File to a Pandas Dataframe\n",
    "LASIO file can be converted to a pandas dataframe using the .df() function.This allow machine learning algorithm"
   ]
  },
  {
   "cell_type": "code",
   "execution_count": 204,
   "metadata": {},
   "outputs": [],
   "source": [
    "well = las.df()"
   ]
  },
  {
   "cell_type": "markdown",
   "metadata": {},
   "source": [
    "The `.head()` function generates a table view of the header and the first 5 rows within the dataframe."
   ]
  },
  {
   "cell_type": "code",
   "execution_count": 205,
   "metadata": {},
   "outputs": [
    {
     "data": {
      "text/html": [
       "<div>\n",
       "<style scoped>\n",
       "    .dataframe tbody tr th:only-of-type {\n",
       "        vertical-align: middle;\n",
       "    }\n",
       "\n",
       "    .dataframe tbody tr th {\n",
       "        vertical-align: top;\n",
       "    }\n",
       "\n",
       "    .dataframe thead th {\n",
       "        text-align: right;\n",
       "    }\n",
       "</style>\n",
       "<table border=\"1\" class=\"dataframe\">\n",
       "  <thead>\n",
       "    <tr style=\"text-align: right;\">\n",
       "      <th></th>\n",
       "      <th>BS</th>\n",
       "      <th>CALI</th>\n",
       "      <th>DENS</th>\n",
       "      <th>DRHO</th>\n",
       "      <th>DTC</th>\n",
       "      <th>GR</th>\n",
       "      <th>NEUT</th>\n",
       "      <th>PEF</th>\n",
       "      <th>RESD</th>\n",
       "      <th>RESS</th>\n",
       "      <th>SP</th>\n",
       "      <th>TEMP</th>\n",
       "      <th>TENS</th>\n",
       "    </tr>\n",
       "    <tr>\n",
       "      <th>DEPTH</th>\n",
       "      <th></th>\n",
       "      <th></th>\n",
       "      <th></th>\n",
       "      <th></th>\n",
       "      <th></th>\n",
       "      <th></th>\n",
       "      <th></th>\n",
       "      <th></th>\n",
       "      <th></th>\n",
       "      <th></th>\n",
       "      <th></th>\n",
       "      <th></th>\n",
       "      <th></th>\n",
       "    </tr>\n",
       "  </thead>\n",
       "  <tbody>\n",
       "    <tr>\n",
       "      <th>136.0932</th>\n",
       "      <td>36.0</td>\n",
       "      <td>NaN</td>\n",
       "      <td>NaN</td>\n",
       "      <td>NaN</td>\n",
       "      <td>NaN</td>\n",
       "      <td>NaN</td>\n",
       "      <td>NaN</td>\n",
       "      <td>NaN</td>\n",
       "      <td>NaN</td>\n",
       "      <td>NaN</td>\n",
       "      <td>NaN</td>\n",
       "      <td>30.6257</td>\n",
       "      <td>1052.5375</td>\n",
       "    </tr>\n",
       "    <tr>\n",
       "      <th>136.2456</th>\n",
       "      <td>36.0</td>\n",
       "      <td>NaN</td>\n",
       "      <td>NaN</td>\n",
       "      <td>NaN</td>\n",
       "      <td>NaN</td>\n",
       "      <td>NaN</td>\n",
       "      <td>NaN</td>\n",
       "      <td>NaN</td>\n",
       "      <td>NaN</td>\n",
       "      <td>NaN</td>\n",
       "      <td>NaN</td>\n",
       "      <td>30.6382</td>\n",
       "      <td>1044.8145</td>\n",
       "    </tr>\n",
       "    <tr>\n",
       "      <th>136.3980</th>\n",
       "      <td>36.0</td>\n",
       "      <td>NaN</td>\n",
       "      <td>NaN</td>\n",
       "      <td>NaN</td>\n",
       "      <td>NaN</td>\n",
       "      <td>NaN</td>\n",
       "      <td>NaN</td>\n",
       "      <td>NaN</td>\n",
       "      <td>NaN</td>\n",
       "      <td>NaN</td>\n",
       "      <td>NaN</td>\n",
       "      <td>30.6507</td>\n",
       "      <td>1037.0916</td>\n",
       "    </tr>\n",
       "    <tr>\n",
       "      <th>136.5504</th>\n",
       "      <td>36.0</td>\n",
       "      <td>NaN</td>\n",
       "      <td>NaN</td>\n",
       "      <td>NaN</td>\n",
       "      <td>NaN</td>\n",
       "      <td>NaN</td>\n",
       "      <td>NaN</td>\n",
       "      <td>NaN</td>\n",
       "      <td>NaN</td>\n",
       "      <td>NaN</td>\n",
       "      <td>NaN</td>\n",
       "      <td>30.6615</td>\n",
       "      <td>1041.8923</td>\n",
       "    </tr>\n",
       "    <tr>\n",
       "      <th>136.7028</th>\n",
       "      <td>36.0</td>\n",
       "      <td>NaN</td>\n",
       "      <td>NaN</td>\n",
       "      <td>NaN</td>\n",
       "      <td>NaN</td>\n",
       "      <td>NaN</td>\n",
       "      <td>NaN</td>\n",
       "      <td>NaN</td>\n",
       "      <td>NaN</td>\n",
       "      <td>NaN</td>\n",
       "      <td>NaN</td>\n",
       "      <td>30.6688</td>\n",
       "      <td>1072.0391</td>\n",
       "    </tr>\n",
       "  </tbody>\n",
       "</table>\n",
       "</div>"
      ],
      "text/plain": [
       "            BS  CALI  DENS  DRHO  DTC  GR  NEUT  PEF  RESD  RESS  SP     TEMP  \\\n",
       "DEPTH                                                                           \n",
       "136.0932  36.0   NaN   NaN   NaN  NaN NaN   NaN  NaN   NaN   NaN NaN  30.6257   \n",
       "136.2456  36.0   NaN   NaN   NaN  NaN NaN   NaN  NaN   NaN   NaN NaN  30.6382   \n",
       "136.3980  36.0   NaN   NaN   NaN  NaN NaN   NaN  NaN   NaN   NaN NaN  30.6507   \n",
       "136.5504  36.0   NaN   NaN   NaN  NaN NaN   NaN  NaN   NaN   NaN NaN  30.6615   \n",
       "136.7028  36.0   NaN   NaN   NaN  NaN NaN   NaN  NaN   NaN   NaN NaN  30.6688   \n",
       "\n",
       "               TENS  \n",
       "DEPTH                \n",
       "136.0932  1052.5375  \n",
       "136.2456  1044.8145  \n",
       "136.3980  1037.0916  \n",
       "136.5504  1041.8923  \n",
       "136.7028  1072.0391  "
      ]
     },
     "execution_count": 205,
     "metadata": {},
     "output_type": "execute_result"
    }
   ],
   "source": [
    "well.head()"
   ]
  },
  {
   "cell_type": "markdown",
   "metadata": {},
   "source": [
    "To find out more information about data, we can call upon the `.info()` and `.describe()` functions.  \n",
    "    \n",
    "The `.info()` function provides information about the data types and how many non-null values are present within each curve.  \n",
    "The `.describe()` function, provides statistical information about each curve and can be a useful QC for each curve."
   ]
  },
  {
   "cell_type": "code",
   "execution_count": 206,
   "metadata": {},
   "outputs": [
    {
     "data": {
      "text/html": [
       "<div>\n",
       "<style scoped>\n",
       "    .dataframe tbody tr th:only-of-type {\n",
       "        vertical-align: middle;\n",
       "    }\n",
       "\n",
       "    .dataframe tbody tr th {\n",
       "        vertical-align: top;\n",
       "    }\n",
       "\n",
       "    .dataframe thead th {\n",
       "        text-align: right;\n",
       "    }\n",
       "</style>\n",
       "<table border=\"1\" class=\"dataframe\">\n",
       "  <thead>\n",
       "    <tr style=\"text-align: right;\">\n",
       "      <th></th>\n",
       "      <th>BS</th>\n",
       "      <th>CALI</th>\n",
       "      <th>DENS</th>\n",
       "      <th>DRHO</th>\n",
       "      <th>DTC</th>\n",
       "      <th>GR</th>\n",
       "      <th>NEUT</th>\n",
       "      <th>PEF</th>\n",
       "      <th>RESD</th>\n",
       "      <th>RESS</th>\n",
       "      <th>SP</th>\n",
       "      <th>TEMP</th>\n",
       "      <th>TENS</th>\n",
       "    </tr>\n",
       "  </thead>\n",
       "  <tbody>\n",
       "    <tr>\n",
       "      <th>count</th>\n",
       "      <td>22077.000000</td>\n",
       "      <td>12047.000000</td>\n",
       "      <td>15771.000000</td>\n",
       "      <td>12034.000000</td>\n",
       "      <td>12014.000000</td>\n",
       "      <td>16076.000000</td>\n",
       "      <td>16083.000000</td>\n",
       "      <td>12021.000000</td>\n",
       "      <td>12015.000000</td>\n",
       "      <td>12008.000000</td>\n",
       "      <td>15994.000000</td>\n",
       "      <td>22064.000000</td>\n",
       "      <td>22027.000000</td>\n",
       "    </tr>\n",
       "    <tr>\n",
       "      <th>mean</th>\n",
       "      <td>12.943905</td>\n",
       "      <td>10.996209</td>\n",
       "      <td>2.577082</td>\n",
       "      <td>0.013383</td>\n",
       "      <td>93.209797</td>\n",
       "      <td>75.999882</td>\n",
       "      <td>0.297473</td>\n",
       "      <td>3.082521</td>\n",
       "      <td>16.522742</td>\n",
       "      <td>5.928948</td>\n",
       "      <td>-161.847994</td>\n",
       "      <td>63.628516</td>\n",
       "      <td>1743.857836</td>\n",
       "    </tr>\n",
       "    <tr>\n",
       "      <th>std</th>\n",
       "      <td>4.019454</td>\n",
       "      <td>1.725533</td>\n",
       "      <td>0.317035</td>\n",
       "      <td>0.025637</td>\n",
       "      <td>15.795433</td>\n",
       "      <td>22.943707</td>\n",
       "      <td>0.240110</td>\n",
       "      <td>0.458740</td>\n",
       "      <td>496.124632</td>\n",
       "      <td>37.745832</td>\n",
       "      <td>16.773844</td>\n",
       "      <td>17.750963</td>\n",
       "      <td>301.865769</td>\n",
       "    </tr>\n",
       "    <tr>\n",
       "      <th>min</th>\n",
       "      <td>8.500000</td>\n",
       "      <td>8.163700</td>\n",
       "      <td>1.270800</td>\n",
       "      <td>-0.027854</td>\n",
       "      <td>41.216300</td>\n",
       "      <td>22.076900</td>\n",
       "      <td>-0.014900</td>\n",
       "      <td>0.925500</td>\n",
       "      <td>0.944400</td>\n",
       "      <td>0.752400</td>\n",
       "      <td>-188.793100</td>\n",
       "      <td>30.625700</td>\n",
       "      <td>1037.091600</td>\n",
       "    </tr>\n",
       "    <tr>\n",
       "      <th>25%</th>\n",
       "      <td>12.250000</td>\n",
       "      <td>8.666350</td>\n",
       "      <td>2.355000</td>\n",
       "      <td>0.004472</td>\n",
       "      <td>80.587800</td>\n",
       "      <td>55.538000</td>\n",
       "      <td>0.258300</td>\n",
       "      <td>2.860300</td>\n",
       "      <td>1.736600</td>\n",
       "      <td>1.544550</td>\n",
       "      <td>-176.654725</td>\n",
       "      <td>48.664050</td>\n",
       "      <td>1555.794850</td>\n",
       "    </tr>\n",
       "    <tr>\n",
       "      <th>50%</th>\n",
       "      <td>12.250000</td>\n",
       "      <td>12.069100</td>\n",
       "      <td>2.449700</td>\n",
       "      <td>0.008771</td>\n",
       "      <td>92.372550</td>\n",
       "      <td>82.591700</td>\n",
       "      <td>0.307500</td>\n",
       "      <td>3.102900</td>\n",
       "      <td>2.365300</td>\n",
       "      <td>2.199750</td>\n",
       "      <td>-161.910700</td>\n",
       "      <td>58.266550</td>\n",
       "      <td>1795.905800</td>\n",
       "    </tr>\n",
       "    <tr>\n",
       "      <th>75%</th>\n",
       "      <td>16.000000</td>\n",
       "      <td>12.178850</td>\n",
       "      <td>2.626850</td>\n",
       "      <td>0.014006</td>\n",
       "      <td>102.666350</td>\n",
       "      <td>96.107200</td>\n",
       "      <td>0.351500</td>\n",
       "      <td>3.283600</td>\n",
       "      <td>3.905700</td>\n",
       "      <td>3.777700</td>\n",
       "      <td>-150.612975</td>\n",
       "      <td>78.208450</td>\n",
       "      <td>1989.200350</td>\n",
       "    </tr>\n",
       "    <tr>\n",
       "      <th>max</th>\n",
       "      <td>36.000000</td>\n",
       "      <td>15.598700</td>\n",
       "      <td>3.123600</td>\n",
       "      <td>0.482754</td>\n",
       "      <td>155.844400</td>\n",
       "      <td>163.397600</td>\n",
       "      <td>18.054100</td>\n",
       "      <td>7.412200</td>\n",
       "      <td>31096.597700</td>\n",
       "      <td>1632.735600</td>\n",
       "      <td>-105.289100</td>\n",
       "      <td>101.136900</td>\n",
       "      <td>2498.848400</td>\n",
       "    </tr>\n",
       "  </tbody>\n",
       "</table>\n",
       "</div>"
      ],
      "text/plain": [
       "                 BS          CALI          DENS          DRHO           DTC  \\\n",
       "count  22077.000000  12047.000000  15771.000000  12034.000000  12014.000000   \n",
       "mean      12.943905     10.996209      2.577082      0.013383     93.209797   \n",
       "std        4.019454      1.725533      0.317035      0.025637     15.795433   \n",
       "min        8.500000      8.163700      1.270800     -0.027854     41.216300   \n",
       "25%       12.250000      8.666350      2.355000      0.004472     80.587800   \n",
       "50%       12.250000     12.069100      2.449700      0.008771     92.372550   \n",
       "75%       16.000000     12.178850      2.626850      0.014006    102.666350   \n",
       "max       36.000000     15.598700      3.123600      0.482754    155.844400   \n",
       "\n",
       "                 GR          NEUT           PEF          RESD          RESS  \\\n",
       "count  16076.000000  16083.000000  12021.000000  12015.000000  12008.000000   \n",
       "mean      75.999882      0.297473      3.082521     16.522742      5.928948   \n",
       "std       22.943707      0.240110      0.458740    496.124632     37.745832   \n",
       "min       22.076900     -0.014900      0.925500      0.944400      0.752400   \n",
       "25%       55.538000      0.258300      2.860300      1.736600      1.544550   \n",
       "50%       82.591700      0.307500      3.102900      2.365300      2.199750   \n",
       "75%       96.107200      0.351500      3.283600      3.905700      3.777700   \n",
       "max      163.397600     18.054100      7.412200  31096.597700   1632.735600   \n",
       "\n",
       "                 SP          TEMP          TENS  \n",
       "count  15994.000000  22064.000000  22027.000000  \n",
       "mean    -161.847994     63.628516   1743.857836  \n",
       "std       16.773844     17.750963    301.865769  \n",
       "min     -188.793100     30.625700   1037.091600  \n",
       "25%     -176.654725     48.664050   1555.794850  \n",
       "50%     -161.910700     58.266550   1795.905800  \n",
       "75%     -150.612975     78.208450   1989.200350  \n",
       "max     -105.289100    101.136900   2498.848400  "
      ]
     },
     "execution_count": 206,
     "metadata": {},
     "output_type": "execute_result"
    }
   ],
   "source": [
    "well.describe()"
   ]
  },
  {
   "cell_type": "code",
   "execution_count": 207,
   "metadata": {},
   "outputs": [
    {
     "name": "stdout",
     "output_type": "stream",
     "text": [
      "<class 'pandas.core.frame.DataFrame'>\n",
      "Float64Index: 22077 entries, 136.0932 to 3500.4756\n",
      "Data columns (total 13 columns):\n",
      " #   Column  Non-Null Count  Dtype  \n",
      "---  ------  --------------  -----  \n",
      " 0   BS      22077 non-null  float64\n",
      " 1   CALI    12047 non-null  float64\n",
      " 2   DENS    15771 non-null  float64\n",
      " 3   DRHO    12034 non-null  float64\n",
      " 4   DTC     12014 non-null  float64\n",
      " 5   GR      16076 non-null  float64\n",
      " 6   NEUT    16083 non-null  float64\n",
      " 7   PEF     12021 non-null  float64\n",
      " 8   RESD    12015 non-null  float64\n",
      " 9   RESS    12008 non-null  float64\n",
      " 10  SP      15994 non-null  float64\n",
      " 11  TEMP    22064 non-null  float64\n",
      " 12  TENS    22027 non-null  float64\n",
      "dtypes: float64(13)\n",
      "memory usage: 2.4 MB\n"
     ]
    }
   ],
   "source": [
    "well.info()"
   ]
  },
  {
   "cell_type": "markdown",
   "metadata": {},
   "source": [
    "### Quick Plot\n",
    "\n",
    "Using the ploting function within pandas, we can plot all curves on a single plot."
   ]
  },
  {
   "cell_type": "code",
   "execution_count": 208,
   "metadata": {},
   "outputs": [
    {
     "data": {
      "text/plain": [
       "<AxesSubplot:xlabel='DEPTH'>"
      ]
     },
     "execution_count": 208,
     "metadata": {},
     "output_type": "execute_result"
    },
    {
     "data": {
      "image/png": "[encoded data removed]",
      "text/plain": [
       "<Figure size 432x288 with 1 Axes>"
      ]
     },
     "metadata": {
      "needs_background": "light"
     },
     "output_type": "display_data"
    }
   ],
   "source": [
    "well.plot()"
   ]
  },
  {
   "cell_type": "markdown",
   "metadata": {},
   "source": [
    "When we look at the plot above, we can see that is not very useful to us as all logging measurements have their own scales.\n",
    "\n",
    "Lets plot individual curves by supplying a y variable argument like so:"
   ]
  },
  {
   "cell_type": "code",
   "execution_count": 209,
   "metadata": {},
   "outputs": [
    {
     "data": {
      "text/plain": [
       "<AxesSubplot:xlabel='DEPTH'>"
      ]
     },
     "execution_count": 209,
     "metadata": {},
     "output_type": "execute_result"
    },
    {
     "data": {
      "image/png": "[encoded data removed]",
      "text/plain": [
       "<Figure size 432x288 with 1 Axes>"
      ]
     },
     "metadata": {
      "needs_background": "light"
     },
     "output_type": "display_data"
    }
   ],
   "source": [
    "well.plot(y='GR')"
   ]
  },
  {
   "cell_type": "markdown",
   "metadata": {},
   "source": [
    "This allows us to view the Gamma Ray Curve on its own. We can change the variable to any other curve within the dataframe and view it as follows: "
   ]
  },
  {
   "cell_type": "code",
   "execution_count": 210,
   "metadata": {},
   "outputs": [
    {
     "data": {
      "text/plain": [
       "<AxesSubplot:xlabel='DEPTH'>"
      ]
     },
     "execution_count": 210,
     "metadata": {},
     "output_type": "execute_result"
    },
    {
     "data": {
      "image/png": "[encoded data removed]",
      "text/plain": [
       "<Figure size 432x288 with 1 Axes>"
      ]
     },
     "metadata": {
      "needs_background": "light"
     },
     "output_type": "display_data"
    }
   ],
   "source": [
    "well.plot(y='DENS')"
   ]
  },
  {
   "cell_type": "code",
   "execution_count": 211,
   "metadata": {},
   "outputs": [
    {
     "data": {
      "text/plain": [
       "<AxesSubplot:xlabel='DEPTH'>"
      ]
     },
     "execution_count": 211,
     "metadata": {},
     "output_type": "execute_result"
    },
    {
     "data": {
      "image/png": "[encoded data removed]",
      "text/plain": [
       "<Figure size 432x288 with 1 Axes>"
      ]
     },
     "metadata": {
      "needs_background": "light"
     },
     "output_type": "display_data"
    }
   ],
   "source": [
    "well.plot(y='NEUT')"
   ]
  },
  {
   "cell_type": "code",
   "execution_count": 212,
   "metadata": {},
   "outputs": [
    {
     "data": {
      "text/plain": [
       "<AxesSubplot:xlabel='DEPTH'>"
      ]
     },
     "execution_count": 212,
     "metadata": {},
     "output_type": "execute_result"
    },
    {
     "data": {
      "image/png": "[encoded data removed]",
      "text/plain": [
       "<Figure size 432x288 with 1 Axes>"
      ]
     },
     "metadata": {
      "needs_background": "light"
     },
     "output_type": "display_data"
    }
   ],
   "source": [
    "well.plot(y='TEMP')"
   ]
  },
  {
   "cell_type": "code",
   "execution_count": 213,
   "metadata": {},
   "outputs": [
    {
     "data": {
      "text/plain": [
       "<AxesSubplot:xlabel='DEPTH'>"
      ]
     },
     "execution_count": 213,
     "metadata": {},
     "output_type": "execute_result"
    },
    {
     "data": {
      "image/png": "[encoded data removed]",
      "text/plain": [
       "<Figure size 432x288 with 1 Axes>"
      ]
     },
     "metadata": {
      "needs_background": "light"
     },
     "output_type": "display_data"
    }
   ],
   "source": [
    "well.plot(y='BS')"
   ]
  },
  {
   "cell_type": "code",
   "execution_count": 214,
   "metadata": {},
   "outputs": [
    {
     "data": {
      "text/plain": [
       "<AxesSubplot:xlabel='DEPTH'>"
      ]
     },
     "execution_count": 214,
     "metadata": {},
     "output_type": "execute_result"
    },
    {
     "data": {
      "image/png": "[encoded data removed]",
      "text/plain": [
       "<Figure size 432x288 with 1 Axes>"
      ]
     },
     "metadata": {
      "needs_background": "light"
     },
     "output_type": "display_data"
    }
   ],
   "source": [
    "well.plot(y='DTC')"
   ]
  },
  {
   "cell_type": "code",
   "execution_count": 215,
   "metadata": {},
   "outputs": [
    {
     "data": {
      "text/plain": [
       "<AxesSubplot:xlabel='DEPTH'>"
      ]
     },
     "execution_count": 215,
     "metadata": {},
     "output_type": "execute_result"
    },
    {
     "data": {
      "image/png": "[encoded data removed]",
      "text/plain": [
       "<Figure size 432x288 with 1 Axes>"
      ]
     },
     "metadata": {
      "needs_background": "light"
     },
     "output_type": "display_data"
    }
   ],
   "source": [
    "well.plot(y='DRHO')"
   ]
  },
  {
   "cell_type": "code",
   "execution_count": null,
   "metadata": {},
   "outputs": [],
   "source": []
  }
 ],
 "metadata": {
  "kernelspec": {
   "display_name": "Python 3",
   "language": "python",
   "name": "python3"
  },
  "language_info": {
   "codemirror_mode": {
    "name": "ipython",
    "version": 3
   },
   "file_extension": ".py",
   "mimetype": "text/x-python",
   "name": "python",
   "nbconvert_exporter": "python",
   "pygments_lexer": "ipython3",
   "version": "3.8.8"
  }
 },
 "nbformat": 4,
 "nbformat_minor": 4
}
