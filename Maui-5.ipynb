{
 "cells": [
  {
   "cell_type": "markdown",
   "metadata": {},
   "source": [
    "# Loading and Exploring Log LAS Files With Python"
   ]
  },
  {
   "cell_type": "markdown",
   "metadata": {},
   "source": [
    "## Introduction\n",
    "\n",
    "Log ASCII Standard (LAS) files are a common file format storing and transferring well log data in the oil and gas industry. \n",
    "\n",
    "A LAS file is a file format that was developed by the Canadian Well Logging Society and it is used to store log curve data as well as information about the well.\n",
    "\n",
    "This notebook illustrates how to load data in from a LAS file and carry out a basic QC of the data before plotting it on a log plot.\n",
    "\n",
    "The well data used in this notebook are from the Maui gas field in Offshore Taranaki Basin, New Zealand"
   ]
  },
  {
   "cell_type": "markdown",
   "metadata": {},
   "source": [
    "## Loading and Checking Data\n",
    "The first step is to import the required libraries: pandas, matplotlib and LASIO.  \n",
    "Lasio library is the most popular python library for reading .las files. More info on the library can be found at: https://lasio.readthedocs.io/en/latest/"
   ]
  },
  {
   "cell_type": "code",
   "execution_count": 33,
   "metadata": {},
   "outputs": [],
   "source": [
    "import pandas as pd\n",
    "import matplotlib.pyplot as plt\n",
    "import lasio"
   ]
  },
  {
   "cell_type": "markdown",
   "metadata": {},
   "source": [
    "To load our file in, use the `.read()` method from LASIO. Here, I will be loading Maui-5 .las file"
   ]
  },
  {
   "cell_type": "code",
   "execution_count": 112,
   "metadata": {},
   "outputs": [
    {
     "name": "stderr",
     "output_type": "stream",
     "text": [
      "Only engine='normal' can read wrapped files\n"
     ]
    }
   ],
   "source": [
    "las = lasio.read(\"/Users/isaacabrahamodeh/Desktop/Taranaki-wells/Taranaki/maui-5_final.las\")"
   ]
  },
  {
   "cell_type": "markdown",
   "metadata": {},
   "source": [
    "## Loading and Checking Data\n",
    "In this step we are going to load, check and explore the sections in a typical las file"
   ]
  },
  {
   "cell_type": "code",
   "execution_count": 113,
   "metadata": {},
   "outputs": [
    {
     "data": {
      "text/plain": [
       "dict_keys(['Version', 'Well', 'Curves', 'Parameter', 'Other'])"
      ]
     },
     "execution_count": 113,
     "metadata": {},
     "output_type": "execute_result"
    }
   ],
   "source": [
    "las.sections.keys()"
   ]
  },
  {
   "cell_type": "code",
   "execution_count": 114,
   "metadata": {},
   "outputs": [
    {
     "data": {
      "text/plain": [
       "[HeaderItem(mnemonic=\"VERS\", unit=\"\", value=\"2.0\", descr=\"CWLS LOG ASCII STANDA\"),\n",
       " HeaderItem(mnemonic=\"WRAP\", unit=\"\", value=\"YES\", descr=\"Multiple lines per de\")]"
      ]
     },
     "execution_count": 114,
     "metadata": {},
     "output_type": "execute_result"
    }
   ],
   "source": [
    "las.sections['Version']"
   ]
  },
  {
   "cell_type": "markdown",
   "metadata": {},
   "source": [
    "Now that our file has been loaded, we can start investigating it's contents especially the header section which contained information about where the file originated from, such as the well name, location and what the depth range of the file covers, we can create a simple for loop to go over each header item. Using Python's f-string we can join the items together."
   ]
  },
  {
   "cell_type": "code",
   "execution_count": 115,
   "metadata": {},
   "outputs": [
    {
     "name": "stdout",
     "output_type": "stream",
     "text": [
      "START DEPTH (STRT): \t\t 135.636\n",
      "STOP DEPTH (STOP): \t\t 3226.9176\n",
      "STEP (STEP): \t\t 0.1524\n",
      "NULL VALUE (NULL): \t\t -999.25\n",
      "COMPANY (COMP): \t\t \n",
      "WELL (WELL): \t\t Maui-5\n",
      "FIELD (FLD): \t\t \n",
      "LOCATION (LOC): \t\t \n",
      "COUNTRY (CTRY): \t\t \n",
      "STATE (STAT): \t\t \n",
      "COUNTY (CNTY): \t\t \n",
      "SERVICE COMPANY (SRVC): \t\t Shell BP & Todd Oil Services Ltd\n",
      "DATE (DATE): \t\t \n",
      "API NUMBER (API): \t\t \n",
      "UNIQUE WELL ID (UWI): \t\t 100000113532\n",
      "LATITUDE (LATI): \t\t -39.616576\n",
      "LONGITUDE (LONG): \t\t 173.3768647\n"
     ]
    }
   ],
   "source": [
    "for item in las.sections['Well']:\n",
    "    print(f\"{item.descr} ({item.mnemonic}): \\t\\t {item.value}\")"
   ]
  },
  {
   "cell_type": "code",
   "execution_count": 116,
   "metadata": {},
   "outputs": [
    {
     "data": {
      "text/plain": [
       "'Maui-5'"
      ]
     },
     "execution_count": 116,
     "metadata": {},
     "output_type": "execute_result"
    }
   ],
   "source": [
    "las.well.WELL.value"
   ]
  },
  {
   "cell_type": "markdown",
   "metadata": {},
   "source": [
    "by looping through `las.curves`, we can quickly see and print the log curve mnemonic."
   ]
  },
  {
   "cell_type": "code",
   "execution_count": 117,
   "metadata": {},
   "outputs": [
    {
     "name": "stdout",
     "output_type": "stream",
     "text": [
      "DEPTH\n",
      "BS\n",
      "CALI\n",
      "DENS\n",
      "DENS_CORR\n",
      "DRHO\n",
      "DTC\n",
      "GR\n",
      "GR_CORR\n",
      "NEUT\n",
      "NEUT_CORR\n",
      "PEF\n",
      "RESD\n",
      "RESD_CORR\n",
      "RESM\n",
      "RESM_CORR\n",
      "RESS\n",
      "RESS_CORR\n",
      "SP\n",
      "TEMP\n",
      "TENS\n"
     ]
    }
   ],
   "source": [
    "for curve in las.curves:\n",
    "    print(curve.mnemonic)"
   ]
  },
  {
   "cell_type": "markdown",
   "metadata": {},
   "source": [
    "To see what curves are present within the las file, we can repeat the process with the Curve Item object and call upon the `unit` and `descr` functions to get info on the units and the curve's description."
   ]
  },
  {
   "cell_type": "code",
   "execution_count": 118,
   "metadata": {},
   "outputs": [
    {
     "name": "stdout",
     "output_type": "stream",
     "text": [
      "Curve: DEPTH, \t Units: M, \t Description: \n",
      "Curve: BS, \t Units: IN, \t Description: Bit Size (Created in Geolog)\n",
      "Curve: CALI, \t Units: IN, \t Description: Caliper Log (CALI)\n",
      "Curve: DENS, \t Units: G/C3, \t Description: Compensated Formation Density Log (RHOB)\n",
      "Curve: DENS_CORR, \t Units: G/C3, \t Description: Borehole corrected density log\n",
      "Curve: DRHO, \t Units: G/C3, \t Description: Density Log Correction (DRHO)\n",
      "Curve: DTC, \t Units: US/F, \t Description: Delta T (DT)\n",
      "Curve: GR, \t Units: GAPI, \t Description: Gamma-Ray Log (GR)\n",
      "Curve: GR_CORR, \t Units: GAPI, \t Description: Gamma ray corrected\n",
      "Curve: NEUT, \t Units: V/V, \t Description: Neutron Log Porosity (NPHI1)\n",
      "Curve: NEUT_CORR, \t Units: V/V, \t Description: Corrected NPHI (limestone units)\n",
      "Curve: PEF, \t Units: B/E, \t Description: Photoelectric Factor (PEF)\n",
      "Curve: RESD, \t Units: OHMM, \t Description: Induction Deep Resistivity (ILD)\n",
      "Curve: RESD_CORR, \t Units: OHMM, \t Description: Borehole corrected ILD\n",
      "Curve: RESM, \t Units: OHMM, \t Description: Medium Induction Log (ILM)\n",
      "Curve: RESM_CORR, \t Units: OHMM, \t Description: Borehole corrected ILM\n",
      "Curve: RESS, \t Units: OHMM, \t Description: Spherically Focused Log Unaveraged (SFLU)\n",
      "Curve: RESS_CORR, \t Units: OHMM, \t Description: Borehole corrected SFL\n",
      "Curve: SP, \t Units: MV, \t Description: Spontaneous Potential Log (SP)\n",
      "Curve: TEMP, \t Units: DEGC, \t Description: Measured Temperature (MTEM)\n",
      "Curve: TENS, \t Units: KGF, \t Description: Cable tension at surface (TENS)\n",
      "There are a total of: 21 curves present within this file\n"
     ]
    }
   ],
   "source": [
    "for count, curve in enumerate(las.curves):\n",
    "    print(f\"Curve: {curve.mnemonic}, \\t Units: {curve.unit}, \\t Description: {curve.descr}\")\n",
    "print(f\"There are a total of: {count+1} curves present within this file\")"
   ]
  },
  {
   "cell_type": "markdown",
   "metadata": {},
   "source": [
    "We can easily be removed the curves we don't need from the LAS file by using the 'las.delete_curve'."
   ]
  },
  {
   "cell_type": "code",
   "execution_count": 119,
   "metadata": {},
   "outputs": [],
   "source": [
    "las.delete_curve('GR_CORR')"
   ]
  },
  {
   "cell_type": "code",
   "execution_count": 120,
   "metadata": {},
   "outputs": [],
   "source": [
    "las.delete_curve('NEUT_CORR')"
   ]
  },
  {
   "cell_type": "code",
   "execution_count": 121,
   "metadata": {},
   "outputs": [],
   "source": [
    "las.delete_curve('DENS_CORR')"
   ]
  },
  {
   "cell_type": "code",
   "execution_count": 122,
   "metadata": {},
   "outputs": [],
   "source": [
    "las.delete_curve('RESD_CORR')"
   ]
  },
  {
   "cell_type": "code",
   "execution_count": 123,
   "metadata": {},
   "outputs": [],
   "source": [
    "las.delete_curve('RESM_CORR')"
   ]
  },
  {
   "cell_type": "code",
   "execution_count": 124,
   "metadata": {},
   "outputs": [],
   "source": [
    "las.delete_curve('RESS_CORR')"
   ]
  },
  {
   "cell_type": "code",
   "execution_count": 125,
   "metadata": {},
   "outputs": [
    {
     "name": "stdout",
     "output_type": "stream",
     "text": [
      "Curve: DEPTH, \t Units: M, \t Description: \n",
      "Curve: BS, \t Units: IN, \t Description: Bit Size (Created in Geolog)\n",
      "Curve: CALI, \t Units: IN, \t Description: Caliper Log (CALI)\n",
      "Curve: DENS, \t Units: G/C3, \t Description: Compensated Formation Density Log (RHOB)\n",
      "Curve: DRHO, \t Units: G/C3, \t Description: Density Log Correction (DRHO)\n",
      "Curve: DTC, \t Units: US/F, \t Description: Delta T (DT)\n",
      "Curve: GR, \t Units: GAPI, \t Description: Gamma-Ray Log (GR)\n",
      "Curve: NEUT, \t Units: V/V, \t Description: Neutron Log Porosity (NPHI1)\n",
      "Curve: PEF, \t Units: B/E, \t Description: Photoelectric Factor (PEF)\n",
      "Curve: RESD, \t Units: OHMM, \t Description: Induction Deep Resistivity (ILD)\n",
      "Curve: RESM, \t Units: OHMM, \t Description: Medium Induction Log (ILM)\n",
      "Curve: RESS, \t Units: OHMM, \t Description: Spherically Focused Log Unaveraged (SFLU)\n",
      "Curve: SP, \t Units: MV, \t Description: Spontaneous Potential Log (SP)\n",
      "Curve: TEMP, \t Units: DEGC, \t Description: Measured Temperature (MTEM)\n",
      "Curve: TENS, \t Units: KGF, \t Description: Cable tension at surface (TENS)\n",
      "There are a total of: 15 curves present within this file\n"
     ]
    }
   ],
   "source": [
    "for count, curve in enumerate(las.curves):\n",
    "    print(f\"Curve: {curve.mnemonic}, \\t Units: {curve.unit}, \\t Description: {curve.descr}\")\n",
    "print(f\"There are a total of: {count+1} curves present within this file\")"
   ]
  },
  {
   "cell_type": "code",
   "execution_count": 126,
   "metadata": {},
   "outputs": [],
   "source": [
    "las.write('/Users/isaacabrahamodeh/Desktop/Taranaki-wells/Taranaki/maui-5_final.las')"
   ]
  },
  {
   "cell_type": "markdown",
   "metadata": {},
   "source": [
    "## Converting LAS File to a Pandas Dataframe\n",
    "LASIO file can be converted to a pandas dataframe using the .df() function.This allow machine learning algorithm"
   ]
  },
  {
   "cell_type": "code",
   "execution_count": 127,
   "metadata": {},
   "outputs": [],
   "source": [
    "well = las.df()"
   ]
  },
  {
   "cell_type": "markdown",
   "metadata": {},
   "source": [
    "The `.head()` function generates a table view of the header and the first 5 rows within the dataframe."
   ]
  },
  {
   "cell_type": "code",
   "execution_count": 128,
   "metadata": {},
   "outputs": [
    {
     "data": {
      "text/html": [
       "<div>\n",
       "<style scoped>\n",
       "    .dataframe tbody tr th:only-of-type {\n",
       "        vertical-align: middle;\n",
       "    }\n",
       "\n",
       "    .dataframe tbody tr th {\n",
       "        vertical-align: top;\n",
       "    }\n",
       "\n",
       "    .dataframe thead th {\n",
       "        text-align: right;\n",
       "    }\n",
       "</style>\n",
       "<table border=\"1\" class=\"dataframe\">\n",
       "  <thead>\n",
       "    <tr style=\"text-align: right;\">\n",
       "      <th></th>\n",
       "      <th>BS</th>\n",
       "      <th>CALI</th>\n",
       "      <th>DENS</th>\n",
       "      <th>DRHO</th>\n",
       "      <th>DTC</th>\n",
       "      <th>GR</th>\n",
       "      <th>NEUT</th>\n",
       "      <th>PEF</th>\n",
       "      <th>RESD</th>\n",
       "      <th>RESM</th>\n",
       "      <th>RESS</th>\n",
       "      <th>SP</th>\n",
       "      <th>TEMP</th>\n",
       "      <th>TENS</th>\n",
       "    </tr>\n",
       "    <tr>\n",
       "      <th>DEPTH</th>\n",
       "      <th></th>\n",
       "      <th></th>\n",
       "      <th></th>\n",
       "      <th></th>\n",
       "      <th></th>\n",
       "      <th></th>\n",
       "      <th></th>\n",
       "      <th></th>\n",
       "      <th></th>\n",
       "      <th></th>\n",
       "      <th></th>\n",
       "      <th></th>\n",
       "      <th></th>\n",
       "      <th></th>\n",
       "    </tr>\n",
       "  </thead>\n",
       "  <tbody>\n",
       "    <tr>\n",
       "      <th>135.6360</th>\n",
       "      <td>36.0</td>\n",
       "      <td>NaN</td>\n",
       "      <td>NaN</td>\n",
       "      <td>NaN</td>\n",
       "      <td>NaN</td>\n",
       "      <td>NaN</td>\n",
       "      <td>NaN</td>\n",
       "      <td>NaN</td>\n",
       "      <td>NaN</td>\n",
       "      <td>NaN</td>\n",
       "      <td>NaN</td>\n",
       "      <td>NaN</td>\n",
       "      <td>NaN</td>\n",
       "      <td>NaN</td>\n",
       "    </tr>\n",
       "    <tr>\n",
       "      <th>135.7884</th>\n",
       "      <td>36.0</td>\n",
       "      <td>NaN</td>\n",
       "      <td>NaN</td>\n",
       "      <td>NaN</td>\n",
       "      <td>NaN</td>\n",
       "      <td>NaN</td>\n",
       "      <td>NaN</td>\n",
       "      <td>NaN</td>\n",
       "      <td>NaN</td>\n",
       "      <td>NaN</td>\n",
       "      <td>NaN</td>\n",
       "      <td>NaN</td>\n",
       "      <td>NaN</td>\n",
       "      <td>NaN</td>\n",
       "    </tr>\n",
       "    <tr>\n",
       "      <th>135.9408</th>\n",
       "      <td>36.0</td>\n",
       "      <td>NaN</td>\n",
       "      <td>NaN</td>\n",
       "      <td>NaN</td>\n",
       "      <td>NaN</td>\n",
       "      <td>NaN</td>\n",
       "      <td>NaN</td>\n",
       "      <td>NaN</td>\n",
       "      <td>NaN</td>\n",
       "      <td>NaN</td>\n",
       "      <td>NaN</td>\n",
       "      <td>NaN</td>\n",
       "      <td>NaN</td>\n",
       "      <td>NaN</td>\n",
       "    </tr>\n",
       "    <tr>\n",
       "      <th>136.0932</th>\n",
       "      <td>36.0</td>\n",
       "      <td>NaN</td>\n",
       "      <td>NaN</td>\n",
       "      <td>NaN</td>\n",
       "      <td>NaN</td>\n",
       "      <td>NaN</td>\n",
       "      <td>NaN</td>\n",
       "      <td>NaN</td>\n",
       "      <td>NaN</td>\n",
       "      <td>NaN</td>\n",
       "      <td>NaN</td>\n",
       "      <td>NaN</td>\n",
       "      <td>NaN</td>\n",
       "      <td>NaN</td>\n",
       "    </tr>\n",
       "    <tr>\n",
       "      <th>136.2456</th>\n",
       "      <td>36.0</td>\n",
       "      <td>NaN</td>\n",
       "      <td>NaN</td>\n",
       "      <td>NaN</td>\n",
       "      <td>NaN</td>\n",
       "      <td>NaN</td>\n",
       "      <td>NaN</td>\n",
       "      <td>NaN</td>\n",
       "      <td>NaN</td>\n",
       "      <td>NaN</td>\n",
       "      <td>NaN</td>\n",
       "      <td>NaN</td>\n",
       "      <td>NaN</td>\n",
       "      <td>NaN</td>\n",
       "    </tr>\n",
       "  </tbody>\n",
       "</table>\n",
       "</div>"
      ],
      "text/plain": [
       "            BS  CALI  DENS  DRHO  DTC  GR  NEUT  PEF  RESD  RESM  RESS  SP  \\\n",
       "DEPTH                                                                        \n",
       "135.6360  36.0   NaN   NaN   NaN  NaN NaN   NaN  NaN   NaN   NaN   NaN NaN   \n",
       "135.7884  36.0   NaN   NaN   NaN  NaN NaN   NaN  NaN   NaN   NaN   NaN NaN   \n",
       "135.9408  36.0   NaN   NaN   NaN  NaN NaN   NaN  NaN   NaN   NaN   NaN NaN   \n",
       "136.0932  36.0   NaN   NaN   NaN  NaN NaN   NaN  NaN   NaN   NaN   NaN NaN   \n",
       "136.2456  36.0   NaN   NaN   NaN  NaN NaN   NaN  NaN   NaN   NaN   NaN NaN   \n",
       "\n",
       "          TEMP  TENS  \n",
       "DEPTH                 \n",
       "135.6360   NaN   NaN  \n",
       "135.7884   NaN   NaN  \n",
       "135.9408   NaN   NaN  \n",
       "136.0932   NaN   NaN  \n",
       "136.2456   NaN   NaN  "
      ]
     },
     "execution_count": 128,
     "metadata": {},
     "output_type": "execute_result"
    }
   ],
   "source": [
    "well.head()"
   ]
  },
  {
   "cell_type": "markdown",
   "metadata": {},
   "source": [
    "To find out more information about data, we can call upon the `.info()` and `.describe()` functions.  \n",
    "    \n",
    "The `.info()` function provides information about the data types and how many non-null values are present within each curve.  \n",
    "The `.describe()` function, provides statistical information about each curve and can be a useful QC for each curve."
   ]
  },
  {
   "cell_type": "code",
   "execution_count": 129,
   "metadata": {},
   "outputs": [
    {
     "data": {
      "text/html": [
       "<div>\n",
       "<style scoped>\n",
       "    .dataframe tbody tr th:only-of-type {\n",
       "        vertical-align: middle;\n",
       "    }\n",
       "\n",
       "    .dataframe tbody tr th {\n",
       "        vertical-align: top;\n",
       "    }\n",
       "\n",
       "    .dataframe thead th {\n",
       "        text-align: right;\n",
       "    }\n",
       "</style>\n",
       "<table border=\"1\" class=\"dataframe\">\n",
       "  <thead>\n",
       "    <tr style=\"text-align: right;\">\n",
       "      <th></th>\n",
       "      <th>BS</th>\n",
       "      <th>CALI</th>\n",
       "      <th>DENS</th>\n",
       "      <th>DRHO</th>\n",
       "      <th>DTC</th>\n",
       "      <th>GR</th>\n",
       "      <th>NEUT</th>\n",
       "      <th>PEF</th>\n",
       "      <th>RESD</th>\n",
       "      <th>RESM</th>\n",
       "      <th>RESS</th>\n",
       "      <th>SP</th>\n",
       "      <th>TEMP</th>\n",
       "      <th>TENS</th>\n",
       "    </tr>\n",
       "  </thead>\n",
       "  <tbody>\n",
       "    <tr>\n",
       "      <th>count</th>\n",
       "      <td>20282.000000</td>\n",
       "      <td>19702.000000</td>\n",
       "      <td>17815.000000</td>\n",
       "      <td>18048.000000</td>\n",
       "      <td>17877.000000</td>\n",
       "      <td>19570.000000</td>\n",
       "      <td>17910.000000</td>\n",
       "      <td>17983.000000</td>\n",
       "      <td>19743.000000</td>\n",
       "      <td>7287.000000</td>\n",
       "      <td>19856.000000</td>\n",
       "      <td>19660.000000</td>\n",
       "      <td>18124.000000</td>\n",
       "      <td>19820.000000</td>\n",
       "    </tr>\n",
       "    <tr>\n",
       "      <th>mean</th>\n",
       "      <td>12.704653</td>\n",
       "      <td>11.911560</td>\n",
       "      <td>2.302714</td>\n",
       "      <td>0.007695</td>\n",
       "      <td>100.573606</td>\n",
       "      <td>74.004321</td>\n",
       "      <td>0.325053</td>\n",
       "      <td>3.043811</td>\n",
       "      <td>2.300190</td>\n",
       "      <td>117.153885</td>\n",
       "      <td>2.763216</td>\n",
       "      <td>143.657409</td>\n",
       "      <td>64.176929</td>\n",
       "      <td>901.426358</td>\n",
       "    </tr>\n",
       "    <tr>\n",
       "      <th>std</th>\n",
       "      <td>5.753629</td>\n",
       "      <td>3.050788</td>\n",
       "      <td>0.182384</td>\n",
       "      <td>0.027072</td>\n",
       "      <td>26.265068</td>\n",
       "      <td>14.285335</td>\n",
       "      <td>0.090856</td>\n",
       "      <td>0.398776</td>\n",
       "      <td>1.694238</td>\n",
       "      <td>462.142640</td>\n",
       "      <td>5.191183</td>\n",
       "      <td>55.663880</td>\n",
       "      <td>18.330431</td>\n",
       "      <td>296.195610</td>\n",
       "    </tr>\n",
       "    <tr>\n",
       "      <th>min</th>\n",
       "      <td>8.500000</td>\n",
       "      <td>8.078100</td>\n",
       "      <td>1.281700</td>\n",
       "      <td>-0.044129</td>\n",
       "      <td>52.053100</td>\n",
       "      <td>33.044700</td>\n",
       "      <td>0.029079</td>\n",
       "      <td>1.541800</td>\n",
       "      <td>0.625700</td>\n",
       "      <td>0.748700</td>\n",
       "      <td>0.635800</td>\n",
       "      <td>26.595000</td>\n",
       "      <td>39.086900</td>\n",
       "      <td>349.110300</td>\n",
       "    </tr>\n",
       "    <tr>\n",
       "      <th>25%</th>\n",
       "      <td>8.500000</td>\n",
       "      <td>9.218800</td>\n",
       "      <td>2.166400</td>\n",
       "      <td>-0.009546</td>\n",
       "      <td>80.222700</td>\n",
       "      <td>65.478700</td>\n",
       "      <td>0.261662</td>\n",
       "      <td>2.836850</td>\n",
       "      <td>1.180300</td>\n",
       "      <td>2.061000</td>\n",
       "      <td>1.370675</td>\n",
       "      <td>104.561200</td>\n",
       "      <td>47.909450</td>\n",
       "      <td>627.088650</td>\n",
       "    </tr>\n",
       "    <tr>\n",
       "      <th>50%</th>\n",
       "      <td>12.250000</td>\n",
       "      <td>11.992700</td>\n",
       "      <td>2.304800</td>\n",
       "      <td>0.001482</td>\n",
       "      <td>93.392300</td>\n",
       "      <td>73.359650</td>\n",
       "      <td>0.330027</td>\n",
       "      <td>3.039000</td>\n",
       "      <td>1.616300</td>\n",
       "      <td>3.440200</td>\n",
       "      <td>1.782650</td>\n",
       "      <td>118.728450</td>\n",
       "      <td>60.896500</td>\n",
       "      <td>932.928850</td>\n",
       "    </tr>\n",
       "    <tr>\n",
       "      <th>75%</th>\n",
       "      <td>12.250000</td>\n",
       "      <td>12.815300</td>\n",
       "      <td>2.457450</td>\n",
       "      <td>0.013981</td>\n",
       "      <td>118.042600</td>\n",
       "      <td>80.341175</td>\n",
       "      <td>0.396871</td>\n",
       "      <td>3.242400</td>\n",
       "      <td>2.950550</td>\n",
       "      <td>5.541400</td>\n",
       "      <td>3.422100</td>\n",
       "      <td>165.182175</td>\n",
       "      <td>79.960875</td>\n",
       "      <td>1173.633050</td>\n",
       "    </tr>\n",
       "    <tr>\n",
       "      <th>max</th>\n",
       "      <td>36.000000</td>\n",
       "      <td>22.531300</td>\n",
       "      <td>2.834600</td>\n",
       "      <td>0.262394</td>\n",
       "      <td>331.500000</td>\n",
       "      <td>160.778000</td>\n",
       "      <td>0.586033</td>\n",
       "      <td>5.955700</td>\n",
       "      <td>22.775900</td>\n",
       "      <td>2000.000000</td>\n",
       "      <td>356.268600</td>\n",
       "      <td>299.762100</td>\n",
       "      <td>98.125000</td>\n",
       "      <td>1457.690400</td>\n",
       "    </tr>\n",
       "  </tbody>\n",
       "</table>\n",
       "</div>"
      ],
      "text/plain": [
       "                 BS          CALI          DENS          DRHO           DTC  \\\n",
       "count  20282.000000  19702.000000  17815.000000  18048.000000  17877.000000   \n",
       "mean      12.704653     11.911560      2.302714      0.007695    100.573606   \n",
       "std        5.753629      3.050788      0.182384      0.027072     26.265068   \n",
       "min        8.500000      8.078100      1.281700     -0.044129     52.053100   \n",
       "25%        8.500000      9.218800      2.166400     -0.009546     80.222700   \n",
       "50%       12.250000     11.992700      2.304800      0.001482     93.392300   \n",
       "75%       12.250000     12.815300      2.457450      0.013981    118.042600   \n",
       "max       36.000000     22.531300      2.834600      0.262394    331.500000   \n",
       "\n",
       "                 GR          NEUT           PEF          RESD         RESM  \\\n",
       "count  19570.000000  17910.000000  17983.000000  19743.000000  7287.000000   \n",
       "mean      74.004321      0.325053      3.043811      2.300190   117.153885   \n",
       "std       14.285335      0.090856      0.398776      1.694238   462.142640   \n",
       "min       33.044700      0.029079      1.541800      0.625700     0.748700   \n",
       "25%       65.478700      0.261662      2.836850      1.180300     2.061000   \n",
       "50%       73.359650      0.330027      3.039000      1.616300     3.440200   \n",
       "75%       80.341175      0.396871      3.242400      2.950550     5.541400   \n",
       "max      160.778000      0.586033      5.955700     22.775900  2000.000000   \n",
       "\n",
       "               RESS            SP          TEMP          TENS  \n",
       "count  19856.000000  19660.000000  18124.000000  19820.000000  \n",
       "mean       2.763216    143.657409     64.176929    901.426358  \n",
       "std        5.191183     55.663880     18.330431    296.195610  \n",
       "min        0.635800     26.595000     39.086900    349.110300  \n",
       "25%        1.370675    104.561200     47.909450    627.088650  \n",
       "50%        1.782650    118.728450     60.896500    932.928850  \n",
       "75%        3.422100    165.182175     79.960875   1173.633050  \n",
       "max      356.268600    299.762100     98.125000   1457.690400  "
      ]
     },
     "execution_count": 129,
     "metadata": {},
     "output_type": "execute_result"
    }
   ],
   "source": [
    "well.describe()"
   ]
  },
  {
   "cell_type": "code",
   "execution_count": 130,
   "metadata": {},
   "outputs": [
    {
     "name": "stdout",
     "output_type": "stream",
     "text": [
      "<class 'pandas.core.frame.DataFrame'>\n",
      "Float64Index: 20285 entries, 135.636 to 3226.9176\n",
      "Data columns (total 14 columns):\n",
      " #   Column  Non-Null Count  Dtype  \n",
      "---  ------  --------------  -----  \n",
      " 0   BS      20282 non-null  float64\n",
      " 1   CALI    19702 non-null  float64\n",
      " 2   DENS    17815 non-null  float64\n",
      " 3   DRHO    18048 non-null  float64\n",
      " 4   DTC     17877 non-null  float64\n",
      " 5   GR      19570 non-null  float64\n",
      " 6   NEUT    17910 non-null  float64\n",
      " 7   PEF     17983 non-null  float64\n",
      " 8   RESD    19743 non-null  float64\n",
      " 9   RESM    7287 non-null   float64\n",
      " 10  RESS    19856 non-null  float64\n",
      " 11  SP      19660 non-null  float64\n",
      " 12  TEMP    18124 non-null  float64\n",
      " 13  TENS    19820 non-null  float64\n",
      "dtypes: float64(14)\n",
      "memory usage: 2.3 MB\n"
     ]
    }
   ],
   "source": [
    "well.info()"
   ]
  },
  {
   "cell_type": "markdown",
   "metadata": {},
   "source": [
    "### Quick Plot\n",
    "\n",
    "Using the ploting function within pandas, we can plot all curves on a single plot."
   ]
  },
  {
   "cell_type": "code",
   "execution_count": 131,
   "metadata": {},
   "outputs": [
    {
     "data": {
      "text/plain": [
       "<AxesSubplot:xlabel='DEPTH'>"
      ]
     },
     "execution_count": 131,
     "metadata": {},
     "output_type": "execute_result"
    },
    {
     "data": {
      "image/png": "[encoded data removed]",
      "text/plain": [
       "<Figure size 432x288 with 1 Axes>"
      ]
     },
     "metadata": {
      "needs_background": "light"
     },
     "output_type": "display_data"
    }
   ],
   "source": [
    "well.plot()"
   ]
  },
  {
   "cell_type": "markdown",
   "metadata": {},
   "source": [
    "When we look at the plot above, we can see that is not very useful to us as all logging measurements have their own scales.\n",
    "\n",
    "Lets plot individual curves by supplying a y variable argument like so:"
   ]
  },
  {
   "cell_type": "code",
   "execution_count": 132,
   "metadata": {},
   "outputs": [
    {
     "data": {
      "text/plain": [
       "<AxesSubplot:xlabel='DEPTH'>"
      ]
     },
     "execution_count": 132,
     "metadata": {},
     "output_type": "execute_result"
    },
    {
     "data": {
      "image/png": "[encoded data removed]",
      "text/plain": [
       "<Figure size 432x288 with 1 Axes>"
      ]
     },
     "metadata": {
      "needs_background": "light"
     },
     "output_type": "display_data"
    }
   ],
   "source": [
    "well.plot(y='GR')"
   ]
  },
  {
   "cell_type": "markdown",
   "metadata": {},
   "source": [
    "This allows us to view the Gamma Ray Curve on its own. We can change the variable to any other curve within the dataframe and view it as follows: "
   ]
  },
  {
   "cell_type": "code",
   "execution_count": 133,
   "metadata": {},
   "outputs": [
    {
     "data": {
      "text/plain": [
       "<AxesSubplot:xlabel='DEPTH'>"
      ]
     },
     "execution_count": 133,
     "metadata": {},
     "output_type": "execute_result"
    },
    {
     "data": {
      "image/png": "[encoded data removed]",
      "text/plain": [
       "<Figure size 432x288 with 1 Axes>"
      ]
     },
     "metadata": {
      "needs_background": "light"
     },
     "output_type": "display_data"
    }
   ],
   "source": [
    "well.plot(y='DENS')"
   ]
  },
  {
   "cell_type": "code",
   "execution_count": 134,
   "metadata": {},
   "outputs": [
    {
     "data": {
      "text/plain": [
       "<AxesSubplot:xlabel='DEPTH'>"
      ]
     },
     "execution_count": 134,
     "metadata": {},
     "output_type": "execute_result"
    },
    {
     "data": {
      "image/png": "[encoded data removed]",
      "text/plain": [
       "<Figure size 432x288 with 1 Axes>"
      ]
     },
     "metadata": {
      "needs_background": "light"
     },
     "output_type": "display_data"
    }
   ],
   "source": [
    "well.plot(y='NEUT')"
   ]
  },
  {
   "cell_type": "code",
   "execution_count": 135,
   "metadata": {},
   "outputs": [
    {
     "data": {
      "text/plain": [
       "<AxesSubplot:xlabel='DEPTH'>"
      ]
     },
     "execution_count": 135,
     "metadata": {},
     "output_type": "execute_result"
    },
    {
     "data": {
      "image/png": "[encoded data removed]",
      "text/plain": [
       "<Figure size 432x288 with 1 Axes>"
      ]
     },
     "metadata": {
      "needs_background": "light"
     },
     "output_type": "display_data"
    }
   ],
   "source": [
    "well.plot(y='TEMP')"
   ]
  },
  {
   "cell_type": "code",
   "execution_count": 136,
   "metadata": {},
   "outputs": [
    {
     "data": {
      "text/plain": [
       "<AxesSubplot:xlabel='DEPTH'>"
      ]
     },
     "execution_count": 136,
     "metadata": {},
     "output_type": "execute_result"
    },
    {
     "data": {
      "image/png": "[encoded data removed]",
      "text/plain": [
       "<Figure size 432x288 with 1 Axes>"
      ]
     },
     "metadata": {
      "needs_background": "light"
     },
     "output_type": "display_data"
    }
   ],
   "source": [
    "well.plot(y='BS')"
   ]
  },
  {
   "cell_type": "code",
   "execution_count": 137,
   "metadata": {},
   "outputs": [
    {
     "data": {
      "text/plain": [
       "<AxesSubplot:xlabel='DEPTH'>"
      ]
     },
     "execution_count": 137,
     "metadata": {},
     "output_type": "execute_result"
    },
    {
     "data": {
      "image/png": "[encoded data removed]",
      "text/plain": [
       "<Figure size 432x288 with 1 Axes>"
      ]
     },
     "metadata": {
      "needs_background": "light"
     },
     "output_type": "display_data"
    }
   ],
   "source": [
    "well.plot(y='DTC')"
   ]
  },
  {
   "cell_type": "code",
   "execution_count": 138,
   "metadata": {},
   "outputs": [
    {
     "data": {
      "text/plain": [
       "<AxesSubplot:xlabel='DEPTH'>"
      ]
     },
     "execution_count": 138,
     "metadata": {},
     "output_type": "execute_result"
    },
    {
     "data": {
      "image/png": "[encoded data removed]",
      "text/plain": [
       "<Figure size 432x288 with 1 Axes>"
      ]
     },
     "metadata": {
      "needs_background": "light"
     },
     "output_type": "display_data"
    }
   ],
   "source": [
    "well.plot(y='DRHO')"
   ]
  },
  {
   "cell_type": "code",
   "execution_count": null,
   "metadata": {},
   "outputs": [],
   "source": []
  }
 ],
 "metadata": {
  "kernelspec": {
   "display_name": "Python 3",
   "language": "python",
   "name": "python3"
  },
  "language_info": {
   "codemirror_mode": {
    "name": "ipython",
    "version": 3
   },
   "file_extension": ".py",
   "mimetype": "text/x-python",
   "name": "python",
   "nbconvert_exporter": "python",
   "pygments_lexer": "ipython3",
   "version": "3.8.8"
  }
 },
 "nbformat": 4,
 "nbformat_minor": 4
}
