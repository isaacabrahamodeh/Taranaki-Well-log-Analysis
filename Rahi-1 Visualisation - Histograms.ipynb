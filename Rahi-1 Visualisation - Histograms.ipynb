{
 "cells": [
  {
   "cell_type": "markdown",
   "metadata": {},
   "source": [
    "# Creating Histograms of Well Log Data\n",
    "\n",
    "## Introduction\n",
    "\n",
    "They are a commonly used tool within petrophysics for understanding the spread and distribution of data, and for picking key interpretation parameters such as shale or clay volume minimum and maximum values. Here, histograms from one of the Maui Wells will be displyed.\n",
    "\n",
    "## Importing Libraries and Loading LAS Data\n",
    "The first stage of any python project or notebook is generally to import the required libraries. In this case we are going to be using `lasio` to load our las file, `pandas` for storing our well log data, and `matplotlib` for visualising our data."
   ]
  },
  {
   "cell_type": "code",
   "execution_count": 1,
   "metadata": {},
   "outputs": [],
   "source": [
    "import pandas as pd\n",
    "import matplotlib.pyplot as plt\n",
    "import lasio"
   ]
  },
  {
   "cell_type": "markdown",
   "metadata": {},
   "source": [
    "The data I am are using for this project is from the open source New Zealand Petroleum Data"
   ]
  },
  {
   "cell_type": "code",
   "execution_count": 2,
   "metadata": {},
   "outputs": [],
   "source": [
    "las = lasio.read(\"/Users/isaacabrahamodeh/Desktop/Taranaki-wells/Taranaki/rahi-1_final.las\")"
   ]
  },
  {
   "cell_type": "markdown",
   "metadata": {},
   "source": [
    "We then convert the las file to a pandas dataframe object."
   ]
  },
  {
   "cell_type": "code",
   "execution_count": 3,
   "metadata": {},
   "outputs": [],
   "source": [
    "df = las.df()"
   ]
  },
  {
   "cell_type": "markdown",
   "metadata": {},
   "source": [
    "Using the `.describe()` method we can explore the summary statistics of the data."
   ]
  },
  {
   "cell_type": "code",
   "execution_count": 5,
   "metadata": {},
   "outputs": [
    {
     "data": {
      "text/html": [
       "<div>\n",
       "<style scoped>\n",
       "    .dataframe tbody tr th:only-of-type {\n",
       "        vertical-align: middle;\n",
       "    }\n",
       "\n",
       "    .dataframe tbody tr th {\n",
       "        vertical-align: top;\n",
       "    }\n",
       "\n",
       "    .dataframe thead th {\n",
       "        text-align: right;\n",
       "    }\n",
       "</style>\n",
       "<table border=\"1\" class=\"dataframe\">\n",
       "  <thead>\n",
       "    <tr style=\"text-align: right;\">\n",
       "      <th></th>\n",
       "      <th>BS</th>\n",
       "      <th>CALI</th>\n",
       "      <th>DENS</th>\n",
       "      <th>DRHO</th>\n",
       "      <th>DTC</th>\n",
       "      <th>GR</th>\n",
       "      <th>NEUT</th>\n",
       "      <th>PEF</th>\n",
       "      <th>RESD</th>\n",
       "      <th>RESS</th>\n",
       "      <th>SP</th>\n",
       "      <th>TEMP</th>\n",
       "      <th>TENS</th>\n",
       "    </tr>\n",
       "  </thead>\n",
       "  <tbody>\n",
       "    <tr>\n",
       "      <th>count</th>\n",
       "      <td>22077.000000</td>\n",
       "      <td>12047.000000</td>\n",
       "      <td>15771.000000</td>\n",
       "      <td>12034.000000</td>\n",
       "      <td>12014.000000</td>\n",
       "      <td>16076.000000</td>\n",
       "      <td>16083.000000</td>\n",
       "      <td>12021.000000</td>\n",
       "      <td>12015.000000</td>\n",
       "      <td>12008.000000</td>\n",
       "      <td>15994.000000</td>\n",
       "      <td>22064.000000</td>\n",
       "      <td>22027.000000</td>\n",
       "    </tr>\n",
       "    <tr>\n",
       "      <th>mean</th>\n",
       "      <td>12.943905</td>\n",
       "      <td>10.996209</td>\n",
       "      <td>2.577082</td>\n",
       "      <td>0.013383</td>\n",
       "      <td>93.209797</td>\n",
       "      <td>75.999882</td>\n",
       "      <td>0.297473</td>\n",
       "      <td>3.082521</td>\n",
       "      <td>16.522742</td>\n",
       "      <td>5.928948</td>\n",
       "      <td>-161.847994</td>\n",
       "      <td>63.628516</td>\n",
       "      <td>1743.857836</td>\n",
       "    </tr>\n",
       "    <tr>\n",
       "      <th>std</th>\n",
       "      <td>4.019454</td>\n",
       "      <td>1.725533</td>\n",
       "      <td>0.317035</td>\n",
       "      <td>0.025637</td>\n",
       "      <td>15.795433</td>\n",
       "      <td>22.943707</td>\n",
       "      <td>0.240110</td>\n",
       "      <td>0.458740</td>\n",
       "      <td>496.124632</td>\n",
       "      <td>37.745832</td>\n",
       "      <td>16.773844</td>\n",
       "      <td>17.750963</td>\n",
       "      <td>301.865769</td>\n",
       "    </tr>\n",
       "    <tr>\n",
       "      <th>min</th>\n",
       "      <td>8.500000</td>\n",
       "      <td>8.163700</td>\n",
       "      <td>1.270800</td>\n",
       "      <td>-0.027850</td>\n",
       "      <td>41.216300</td>\n",
       "      <td>22.076900</td>\n",
       "      <td>-0.014900</td>\n",
       "      <td>0.925500</td>\n",
       "      <td>0.944400</td>\n",
       "      <td>0.752400</td>\n",
       "      <td>-188.793100</td>\n",
       "      <td>30.625700</td>\n",
       "      <td>1037.091600</td>\n",
       "    </tr>\n",
       "    <tr>\n",
       "      <th>25%</th>\n",
       "      <td>12.250000</td>\n",
       "      <td>8.666350</td>\n",
       "      <td>2.355000</td>\n",
       "      <td>0.004470</td>\n",
       "      <td>80.587800</td>\n",
       "      <td>55.538000</td>\n",
       "      <td>0.258300</td>\n",
       "      <td>2.860300</td>\n",
       "      <td>1.736600</td>\n",
       "      <td>1.544550</td>\n",
       "      <td>-176.654725</td>\n",
       "      <td>48.664050</td>\n",
       "      <td>1555.794850</td>\n",
       "    </tr>\n",
       "    <tr>\n",
       "      <th>50%</th>\n",
       "      <td>12.250000</td>\n",
       "      <td>12.069100</td>\n",
       "      <td>2.449700</td>\n",
       "      <td>0.008770</td>\n",
       "      <td>92.372550</td>\n",
       "      <td>82.591700</td>\n",
       "      <td>0.307500</td>\n",
       "      <td>3.102900</td>\n",
       "      <td>2.365300</td>\n",
       "      <td>2.199750</td>\n",
       "      <td>-161.910700</td>\n",
       "      <td>58.266550</td>\n",
       "      <td>1795.905800</td>\n",
       "    </tr>\n",
       "    <tr>\n",
       "      <th>75%</th>\n",
       "      <td>16.000000</td>\n",
       "      <td>12.178850</td>\n",
       "      <td>2.626850</td>\n",
       "      <td>0.014010</td>\n",
       "      <td>102.666350</td>\n",
       "      <td>96.107200</td>\n",
       "      <td>0.351500</td>\n",
       "      <td>3.283600</td>\n",
       "      <td>3.905700</td>\n",
       "      <td>3.777700</td>\n",
       "      <td>-150.612975</td>\n",
       "      <td>78.208450</td>\n",
       "      <td>1989.200350</td>\n",
       "    </tr>\n",
       "    <tr>\n",
       "      <th>max</th>\n",
       "      <td>36.000000</td>\n",
       "      <td>15.598700</td>\n",
       "      <td>3.123600</td>\n",
       "      <td>0.482750</td>\n",
       "      <td>155.844400</td>\n",
       "      <td>163.397600</td>\n",
       "      <td>18.054100</td>\n",
       "      <td>7.412200</td>\n",
       "      <td>31096.597700</td>\n",
       "      <td>1632.735600</td>\n",
       "      <td>-105.289100</td>\n",
       "      <td>101.136900</td>\n",
       "      <td>2498.848400</td>\n",
       "    </tr>\n",
       "  </tbody>\n",
       "</table>\n",
       "</div>"
      ],
      "text/plain": [
       "                 BS          CALI          DENS          DRHO           DTC  \\\n",
       "count  22077.000000  12047.000000  15771.000000  12034.000000  12014.000000   \n",
       "mean      12.943905     10.996209      2.577082      0.013383     93.209797   \n",
       "std        4.019454      1.725533      0.317035      0.025637     15.795433   \n",
       "min        8.500000      8.163700      1.270800     -0.027850     41.216300   \n",
       "25%       12.250000      8.666350      2.355000      0.004470     80.587800   \n",
       "50%       12.250000     12.069100      2.449700      0.008770     92.372550   \n",
       "75%       16.000000     12.178850      2.626850      0.014010    102.666350   \n",
       "max       36.000000     15.598700      3.123600      0.482750    155.844400   \n",
       "\n",
       "                 GR          NEUT           PEF          RESD          RESS  \\\n",
       "count  16076.000000  16083.000000  12021.000000  12015.000000  12008.000000   \n",
       "mean      75.999882      0.297473      3.082521     16.522742      5.928948   \n",
       "std       22.943707      0.240110      0.458740    496.124632     37.745832   \n",
       "min       22.076900     -0.014900      0.925500      0.944400      0.752400   \n",
       "25%       55.538000      0.258300      2.860300      1.736600      1.544550   \n",
       "50%       82.591700      0.307500      3.102900      2.365300      2.199750   \n",
       "75%       96.107200      0.351500      3.283600      3.905700      3.777700   \n",
       "max      163.397600     18.054100      7.412200  31096.597700   1632.735600   \n",
       "\n",
       "                 SP          TEMP          TENS  \n",
       "count  15994.000000  22064.000000  22027.000000  \n",
       "mean    -161.847994     63.628516   1743.857836  \n",
       "std       16.773844     17.750963    301.865769  \n",
       "min     -188.793100     30.625700   1037.091600  \n",
       "25%     -176.654725     48.664050   1555.794850  \n",
       "50%     -161.910700     58.266550   1795.905800  \n",
       "75%     -150.612975     78.208450   1989.200350  \n",
       "max     -105.289100    101.136900   2498.848400  "
      ]
     },
     "execution_count": 5,
     "metadata": {},
     "output_type": "execute_result"
    }
   ],
   "source": [
    "df.describe()"
   ]
  },
  {
   "cell_type": "markdown",
   "metadata": {},
   "source": [
    "## Creating Histograms Using pandas"
   ]
  },
  {
   "cell_type": "markdown",
   "metadata": {},
   "source": [
    "Creating a quick histogram using pandas."
   ]
  },
  {
   "cell_type": "code",
   "execution_count": 6,
   "metadata": {},
   "outputs": [
    {
     "data": {
      "image/png": "[encoded data removed]",
      "text/plain": [
       "<Figure size 432x288 with 1 Axes>"
      ]
     },
     "metadata": {
      "needs_background": "light"
     },
     "output_type": "display_data"
    }
   ],
   "source": [
    "df['GR'].plot(kind='hist')\n",
    "plt.show()"
   ]
  },
  {
   "cell_type": "markdown",
   "metadata": {},
   "source": [
    "## Creating Histograms Using matplotlib\n",
    "Creating a quick histogram using matplotlib like so."
   ]
  },
  {
   "cell_type": "code",
   "execution_count": 7,
   "metadata": {},
   "outputs": [
    {
     "data": {
      "image/png": "[encoded data removed]",
      "text/plain": [
       "<Figure size 432x288 with 1 Axes>"
      ]
     },
     "metadata": {
      "needs_background": "light"
     },
     "output_type": "display_data"
    }
   ],
   "source": [
    "plt.hist(df['GR'])\n",
    "plt.show()"
   ]
  },
  {
   "cell_type": "markdown",
   "metadata": {},
   "source": [
    "This generates a very minimal plot. We can see that the values range from around 0 to 150, with a very small piece of data at 250 API. Each bin is around 25 API wide, which is quite a large range.\n",
    "\n",
    "We can control this by specifying a set number for the bins argument, in this example we will set it to 30."
   ]
  },
  {
   "cell_type": "code",
   "execution_count": 8,
   "metadata": {},
   "outputs": [
    {
     "data": {
      "image/png": "[encoded data removed]",
      "text/plain": [
       "<Figure size 432x288 with 1 Axes>"
      ]
     },
     "metadata": {
      "needs_background": "light"
     },
     "output_type": "display_data"
    }
   ],
   "source": [
    "plt.hist(df['GR'], bins=30)\n",
    "plt.show()"
   ]
  },
  {
   "cell_type": "markdown",
   "metadata": {},
   "source": [
    "Let's tidy the plot up a little by adding edge colours to the bins."
   ]
  },
  {
   "cell_type": "code",
   "execution_count": 9,
   "metadata": {},
   "outputs": [
    {
     "data": {
      "image/png": "[encoded data removed]",
      "text/plain": [
       "<Figure size 432x288 with 1 Axes>"
      ]
     },
     "metadata": {
      "needs_background": "light"
     },
     "output_type": "display_data"
    }
   ],
   "source": [
    "plt.hist(df['GR'], bins=30, edgecolor='black')\n",
    "plt.show()"
   ]
  },
  {
   "cell_type": "markdown",
   "metadata": {},
   "source": [
    "When we do this, we can see that the bins just below 100 API, is in fact two separate bins. \n",
    "\n",
    "To tidy the plot up further, we can assign both an x and y label, and also set the x-axis limits."
   ]
  },
  {
   "cell_type": "code",
   "execution_count": 10,
   "metadata": {},
   "outputs": [
    {
     "data": {
      "image/png": "[encoded data removed]",
      "text/plain": [
       "<Figure size 432x288 with 1 Axes>"
      ]
     },
     "metadata": {
      "needs_background": "light"
     },
     "output_type": "display_data"
    }
   ],
   "source": [
    "plt.hist(df['GR'], bins=30, color='red', alpha=0.5, edgecolor='black')\n",
    "plt.xlabel('Gamma Ray - API', fontsize=14)\n",
    "plt.ylabel('Frequency', fontsize=14)\n",
    "plt.xlim(0,200)\n",
    "\n",
    "plt.savefig('histogram.png', dpi=300)\n",
    "\n",
    "plt.show()"
   ]
  },
  {
   "cell_type": "markdown",
   "metadata": {},
   "source": [
    "In addition to the bars, we can also add in a kernel density estimation, which provides us with a line illustrating the distribution of the data."
   ]
  },
  {
   "cell_type": "code",
   "execution_count": 11,
   "metadata": {},
   "outputs": [
    {
     "data": {
      "text/plain": [
       "(0.0, 200.0)"
      ]
     },
     "execution_count": 11,
     "metadata": {},
     "output_type": "execute_result"
    },
    {
     "data": {
      "image/png": "[encoded data removed]",
      "text/plain": [
       "<Figure size 432x288 with 1 Axes>"
      ]
     },
     "metadata": {
      "needs_background": "light"
     },
     "output_type": "display_data"
    }
   ],
   "source": [
    "df['GR'].plot(kind='hist', bins=30, color='red', alpha=0.5, density=True, edgecolor='black')\n",
    "df['GR'].plot(kind='kde', color='black')\n",
    "plt.xlabel('Gamma Ray - API', fontsize=14)\n",
    "plt.ylabel('Density', fontsize=14)\n",
    "plt.xlim(0,200)"
   ]
  },
  {
   "cell_type": "markdown",
   "metadata": {},
   "source": [
    "When calculating clay and shale volumes we often use the percentiles as our interpretation parameters. \n",
    "\n",
    "These can be calculated using built in pandas functions: `mean()` and `quantile()`."
   ]
  },
  {
   "cell_type": "code",
   "execution_count": 12,
   "metadata": {},
   "outputs": [
    {
     "name": "stdout",
     "output_type": "stream",
     "text": [
      "Mean: \t 75.99988189848222\n",
      "P05: \t 38.46665\n",
      "P95: \t 102.99289999999999\n"
     ]
    }
   ],
   "source": [
    "mean = df['GR'].mean()\n",
    "p5 = df['GR'].quantile(0.05)\n",
    "p95 = df['GR'].quantile(0.95)\n",
    "\n",
    "print(f'Mean: \\t {mean}')\n",
    "print(f'P05: \\t {p5}')\n",
    "print(f'P95: \\t {p95}')\n"
   ]
  },
  {
   "cell_type": "markdown",
   "metadata": {},
   "source": [
    "To get an idea of where these points fall in relation to our data, we can add them onto the plot using axvline and passing in the calculated variables, a colour and a label."
   ]
  },
  {
   "cell_type": "code",
   "execution_count": 13,
   "metadata": {},
   "outputs": [
    {
     "data": {
      "image/png": "[encoded data removed]",
      "text/plain": [
       "<Figure size 432x288 with 1 Axes>"
      ]
     },
     "metadata": {
      "needs_background": "light"
     },
     "output_type": "display_data"
    }
   ],
   "source": [
    "df['GR'].plot(kind='hist', bins=30, color='red', alpha=0.5, edgecolor='black')\n",
    "plt.xlabel('Gamma Ray', fontsize=14)\n",
    "plt.ylabel('Frequency', fontsize=14)\n",
    "plt.xlim(0,200)\n",
    "\n",
    "plt.axvline(mean, color='blue', label='mean')\n",
    "plt.axvline(p5, color='green', label='5th Percentile')\n",
    "plt.axvline(p95, color='purple', label='95th Percentile')\n",
    "\n",
    "plt.legend()\n",
    "plt.show()\n"
   ]
  },
  {
   "cell_type": "code",
   "execution_count": null,
   "metadata": {},
   "outputs": [],
   "source": []
  }
 ],
 "metadata": {
  "kernelspec": {
   "display_name": "Python 3",
   "language": "python",
   "name": "python3"
  },
  "language_info": {
   "codemirror_mode": {
    "name": "ipython",
    "version": 3
   },
   "file_extension": ".py",
   "mimetype": "text/x-python",
   "name": "python",
   "nbconvert_exporter": "python",
   "pygments_lexer": "ipython3",
   "version": "3.8.8"
  }
 },
 "nbformat": 4,
 "nbformat_minor": 4
}
