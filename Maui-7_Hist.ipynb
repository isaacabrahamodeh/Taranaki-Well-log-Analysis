{
 "cells": [
  {
   "cell_type": "markdown",
   "metadata": {},
   "source": [
    "# Creating Histograms of Well Log Data\n",
    "\n",
    "## Introduction\n",
    "\n",
    "They are a commonly used tool within petrophysics for understanding the spread and distribution of data, and for picking key interpretation parameters such as shale or clay volume minimum and maximum values. Here, histograms from one of the Maui Wells will be displyed.\n",
    "\n",
    "## Importing Libraries and Loading LAS Data\n",
    "The first stage of any python project or notebook is generally to import the required libraries. In this case we are going to be using `lasio` to load our las file, `pandas` for storing our well log data, and `matplotlib` for visualising our data."
   ]
  },
  {
   "cell_type": "code",
   "execution_count": 1,
   "metadata": {},
   "outputs": [],
   "source": [
    "import pandas as pd\n",
    "import matplotlib.pyplot as plt\n",
    "import lasio"
   ]
  },
  {
   "cell_type": "markdown",
   "metadata": {},
   "source": [
    "The data I am are using for this project is from the open source New Zealand Petroleum Data"
   ]
  },
  {
   "cell_type": "code",
   "execution_count": 14,
   "metadata": {},
   "outputs": [
    {
     "name": "stderr",
     "output_type": "stream",
     "text": [
      "Only engine='normal' can read wrapped files\n"
     ]
    }
   ],
   "source": [
    "las = lasio.read(\"/Users/isaacabrahamodeh/Desktop/Taranaki-wells/Taranaki/maui-7_final.las\")"
   ]
  },
  {
   "cell_type": "markdown",
   "metadata": {},
   "source": [
    "We then convert the las file to a pandas dataframe object."
   ]
  },
  {
   "cell_type": "code",
   "execution_count": 15,
   "metadata": {},
   "outputs": [],
   "source": [
    "df = las.df()"
   ]
  },
  {
   "cell_type": "markdown",
   "metadata": {},
   "source": [
    "Using the `.describe()` method we can explore the summary statistics of the data."
   ]
  },
  {
   "cell_type": "code",
   "execution_count": 16,
   "metadata": {},
   "outputs": [
    {
     "data": {
      "text/html": [
       "<div>\n",
       "<style scoped>\n",
       "    .dataframe tbody tr th:only-of-type {\n",
       "        vertical-align: middle;\n",
       "    }\n",
       "\n",
       "    .dataframe tbody tr th {\n",
       "        vertical-align: top;\n",
       "    }\n",
       "\n",
       "    .dataframe thead th {\n",
       "        text-align: right;\n",
       "    }\n",
       "</style>\n",
       "<table border=\"1\" class=\"dataframe\">\n",
       "  <thead>\n",
       "    <tr style=\"text-align: right;\">\n",
       "      <th></th>\n",
       "      <th>BS</th>\n",
       "      <th>CALI</th>\n",
       "      <th>DENS</th>\n",
       "      <th>DRHO</th>\n",
       "      <th>DTC</th>\n",
       "      <th>GR</th>\n",
       "      <th>NEUT</th>\n",
       "      <th>PEF</th>\n",
       "      <th>RESD</th>\n",
       "      <th>RESM</th>\n",
       "      <th>RESS</th>\n",
       "      <th>SP</th>\n",
       "      <th>TEMP</th>\n",
       "      <th>TENS</th>\n",
       "    </tr>\n",
       "  </thead>\n",
       "  <tbody>\n",
       "    <tr>\n",
       "      <th>count</th>\n",
       "      <td>19678.000000</td>\n",
       "      <td>18956.000000</td>\n",
       "      <td>17277.000000</td>\n",
       "      <td>17372.000000</td>\n",
       "      <td>13126.000000</td>\n",
       "      <td>18803.000000</td>\n",
       "      <td>17356.000000</td>\n",
       "      <td>17314.000000</td>\n",
       "      <td>18888.000000</td>\n",
       "      <td>13266.000000</td>\n",
       "      <td>19108.000000</td>\n",
       "      <td>19061.000000</td>\n",
       "      <td>5413.000000</td>\n",
       "      <td>5935.000000</td>\n",
       "    </tr>\n",
       "    <tr>\n",
       "      <th>mean</th>\n",
       "      <td>12.759294</td>\n",
       "      <td>12.105404</td>\n",
       "      <td>2.285438</td>\n",
       "      <td>0.002617</td>\n",
       "      <td>119.843274</td>\n",
       "      <td>71.876817</td>\n",
       "      <td>0.314017</td>\n",
       "      <td>3.283585</td>\n",
       "      <td>5.426438</td>\n",
       "      <td>2.422801</td>\n",
       "      <td>4.519794</td>\n",
       "      <td>69.985536</td>\n",
       "      <td>85.449608</td>\n",
       "      <td>987.315581</td>\n",
       "    </tr>\n",
       "    <tr>\n",
       "      <th>std</th>\n",
       "      <td>5.806991</td>\n",
       "      <td>3.606825</td>\n",
       "      <td>0.179872</td>\n",
       "      <td>0.027593</td>\n",
       "      <td>28.335667</td>\n",
       "      <td>15.668699</td>\n",
       "      <td>0.090705</td>\n",
       "      <td>0.816240</td>\n",
       "      <td>27.442671</td>\n",
       "      <td>18.300789</td>\n",
       "      <td>16.207248</td>\n",
       "      <td>94.430339</td>\n",
       "      <td>9.479082</td>\n",
       "      <td>227.047071</td>\n",
       "    </tr>\n",
       "    <tr>\n",
       "      <th>min</th>\n",
       "      <td>8.500000</td>\n",
       "      <td>7.538400</td>\n",
       "      <td>1.336700</td>\n",
       "      <td>-0.044220</td>\n",
       "      <td>61.464400</td>\n",
       "      <td>15.370900</td>\n",
       "      <td>0.028480</td>\n",
       "      <td>1.401400</td>\n",
       "      <td>0.543300</td>\n",
       "      <td>0.426800</td>\n",
       "      <td>0.723700</td>\n",
       "      <td>-73.272500</td>\n",
       "      <td>53.808500</td>\n",
       "      <td>126.007700</td>\n",
       "    </tr>\n",
       "    <tr>\n",
       "      <th>25%</th>\n",
       "      <td>8.500000</td>\n",
       "      <td>9.554175</td>\n",
       "      <td>2.186900</td>\n",
       "      <td>-0.012170</td>\n",
       "      <td>97.182850</td>\n",
       "      <td>62.933650</td>\n",
       "      <td>0.258740</td>\n",
       "      <td>2.750900</td>\n",
       "      <td>1.154800</td>\n",
       "      <td>1.020600</td>\n",
       "      <td>1.457775</td>\n",
       "      <td>-24.530600</td>\n",
       "      <td>82.365200</td>\n",
       "      <td>956.071000</td>\n",
       "    </tr>\n",
       "    <tr>\n",
       "      <th>50%</th>\n",
       "      <td>12.250000</td>\n",
       "      <td>11.939150</td>\n",
       "      <td>2.283200</td>\n",
       "      <td>-0.003810</td>\n",
       "      <td>114.771650</td>\n",
       "      <td>76.068800</td>\n",
       "      <td>0.322675</td>\n",
       "      <td>2.962400</td>\n",
       "      <td>1.603500</td>\n",
       "      <td>1.213950</td>\n",
       "      <td>2.068600</td>\n",
       "      <td>148.342700</td>\n",
       "      <td>87.579300</td>\n",
       "      <td>1035.609400</td>\n",
       "    </tr>\n",
       "    <tr>\n",
       "      <th>75%</th>\n",
       "      <td>12.250000</td>\n",
       "      <td>12.435275</td>\n",
       "      <td>2.420800</td>\n",
       "      <td>0.005710</td>\n",
       "      <td>141.477925</td>\n",
       "      <td>82.102050</td>\n",
       "      <td>0.379302</td>\n",
       "      <td>3.655875</td>\n",
       "      <td>3.068950</td>\n",
       "      <td>1.768800</td>\n",
       "      <td>3.344050</td>\n",
       "      <td>151.288000</td>\n",
       "      <td>91.814700</td>\n",
       "      <td>1082.869550</td>\n",
       "    </tr>\n",
       "    <tr>\n",
       "      <th>max</th>\n",
       "      <td>36.000000</td>\n",
       "      <td>25.424400</td>\n",
       "      <td>2.796900</td>\n",
       "      <td>0.282380</td>\n",
       "      <td>434.305500</td>\n",
       "      <td>137.176500</td>\n",
       "      <td>0.614730</td>\n",
       "      <td>7.386600</td>\n",
       "      <td>653.563500</td>\n",
       "      <td>1015.890500</td>\n",
       "      <td>380.717000</td>\n",
       "      <td>166.406800</td>\n",
       "      <td>98.278200</td>\n",
       "      <td>1853.748500</td>\n",
       "    </tr>\n",
       "  </tbody>\n",
       "</table>\n",
       "</div>"
      ],
      "text/plain": [
       "                 BS          CALI          DENS          DRHO           DTC  \\\n",
       "count  19678.000000  18956.000000  17277.000000  17372.000000  13126.000000   \n",
       "mean      12.759294     12.105404      2.285438      0.002617    119.843274   \n",
       "std        5.806991      3.606825      0.179872      0.027593     28.335667   \n",
       "min        8.500000      7.538400      1.336700     -0.044220     61.464400   \n",
       "25%        8.500000      9.554175      2.186900     -0.012170     97.182850   \n",
       "50%       12.250000     11.939150      2.283200     -0.003810    114.771650   \n",
       "75%       12.250000     12.435275      2.420800      0.005710    141.477925   \n",
       "max       36.000000     25.424400      2.796900      0.282380    434.305500   \n",
       "\n",
       "                 GR          NEUT           PEF          RESD          RESM  \\\n",
       "count  18803.000000  17356.000000  17314.000000  18888.000000  13266.000000   \n",
       "mean      71.876817      0.314017      3.283585      5.426438      2.422801   \n",
       "std       15.668699      0.090705      0.816240     27.442671     18.300789   \n",
       "min       15.370900      0.028480      1.401400      0.543300      0.426800   \n",
       "25%       62.933650      0.258740      2.750900      1.154800      1.020600   \n",
       "50%       76.068800      0.322675      2.962400      1.603500      1.213950   \n",
       "75%       82.102050      0.379302      3.655875      3.068950      1.768800   \n",
       "max      137.176500      0.614730      7.386600    653.563500   1015.890500   \n",
       "\n",
       "               RESS            SP         TEMP         TENS  \n",
       "count  19108.000000  19061.000000  5413.000000  5935.000000  \n",
       "mean       4.519794     69.985536    85.449608   987.315581  \n",
       "std       16.207248     94.430339     9.479082   227.047071  \n",
       "min        0.723700    -73.272500    53.808500   126.007700  \n",
       "25%        1.457775    -24.530600    82.365200   956.071000  \n",
       "50%        2.068600    148.342700    87.579300  1035.609400  \n",
       "75%        3.344050    151.288000    91.814700  1082.869550  \n",
       "max      380.717000    166.406800    98.278200  1853.748500  "
      ]
     },
     "execution_count": 16,
     "metadata": {},
     "output_type": "execute_result"
    }
   ],
   "source": [
    "df.describe()"
   ]
  },
  {
   "cell_type": "markdown",
   "metadata": {},
   "source": [
    "## Creating Histograms Using pandas"
   ]
  },
  {
   "cell_type": "markdown",
   "metadata": {},
   "source": [
    "Creating a quick histogram using pandas."
   ]
  },
  {
   "cell_type": "code",
   "execution_count": 17,
   "metadata": {},
   "outputs": [
    {
     "data": {
      "image/png": "[encoded data removed]",
      "text/plain": [
       "<Figure size 432x288 with 1 Axes>"
      ]
     },
     "metadata": {
      "needs_background": "light"
     },
     "output_type": "display_data"
    }
   ],
   "source": [
    "df['GR'].plot(kind='hist')\n",
    "plt.show()"
   ]
  },
  {
   "cell_type": "markdown",
   "metadata": {},
   "source": [
    "## Creating Histograms Using matplotlib\n",
    "Creating a quick histogram using matplotlib like so."
   ]
  },
  {
   "cell_type": "code",
   "execution_count": 18,
   "metadata": {},
   "outputs": [
    {
     "data": {
      "image/png": "[encoded data removed]",
      "text/plain": [
       "<Figure size 432x288 with 1 Axes>"
      ]
     },
     "metadata": {
      "needs_background": "light"
     },
     "output_type": "display_data"
    }
   ],
   "source": [
    "plt.hist(df['GR'])\n",
    "plt.show()"
   ]
  },
  {
   "cell_type": "markdown",
   "metadata": {},
   "source": [
    "This generates a very minimal plot. We can see that the values range from around 0 to 150, with a very small piece of data at 250 API. Each bin is around 25 API wide, which is quite a large range.\n",
    "\n",
    "We can control this by specifying a set number for the bins argument, in this example we will set it to 30."
   ]
  },
  {
   "cell_type": "code",
   "execution_count": 19,
   "metadata": {},
   "outputs": [
    {
     "data": {
      "image/png": "[encoded data removed]",
      "text/plain": [
       "<Figure size 432x288 with 1 Axes>"
      ]
     },
     "metadata": {
      "needs_background": "light"
     },
     "output_type": "display_data"
    }
   ],
   "source": [
    "plt.hist(df['GR'], bins=30)\n",
    "plt.show()"
   ]
  },
  {
   "cell_type": "markdown",
   "metadata": {},
   "source": [
    "Let's tidy the plot up a little by adding edge colours to the bins."
   ]
  },
  {
   "cell_type": "code",
   "execution_count": 20,
   "metadata": {},
   "outputs": [
    {
     "data": {
      "image/png": "[encoded data removed]",
      "text/plain": [
       "<Figure size 432x288 with 1 Axes>"
      ]
     },
     "metadata": {
      "needs_background": "light"
     },
     "output_type": "display_data"
    }
   ],
   "source": [
    "plt.hist(df['GR'], bins=30, edgecolor='black')\n",
    "plt.show()"
   ]
  },
  {
   "cell_type": "markdown",
   "metadata": {},
   "source": [
    "When we do this, we can see that the bins just below 100 API, is in fact two separate bins. \n",
    "\n",
    "To tidy the plot up further, we can assign both an x and y label, and also set the x-axis limits."
   ]
  },
  {
   "cell_type": "code",
   "execution_count": 21,
   "metadata": {},
   "outputs": [
    {
     "data": {
      "image/png": "[encoded data removed]",
      "text/plain": [
       "<Figure size 432x288 with 1 Axes>"
      ]
     },
     "metadata": {
      "needs_background": "light"
     },
     "output_type": "display_data"
    }
   ],
   "source": [
    "plt.hist(df['GR'], bins=30, color='red', alpha=0.5, edgecolor='black')\n",
    "plt.xlabel('Gamma Ray - API', fontsize=14)\n",
    "plt.ylabel('Frequency', fontsize=14)\n",
    "plt.xlim(0,200)\n",
    "\n",
    "plt.savefig('histogram.png', dpi=300)\n",
    "\n",
    "plt.show()"
   ]
  },
  {
   "cell_type": "markdown",
   "metadata": {},
   "source": [
    "In addition to the bars, we can also add in a kernel density estimation, which provides us with a line illustrating the distribution of the data."
   ]
  },
  {
   "cell_type": "code",
   "execution_count": 22,
   "metadata": {},
   "outputs": [
    {
     "data": {
      "text/plain": [
       "(0.0, 200.0)"
      ]
     },
     "execution_count": 22,
     "metadata": {},
     "output_type": "execute_result"
    },
    {
     "data": {
      "image/png": "[encoded data removed]",
      "text/plain": [
       "<Figure size 432x288 with 1 Axes>"
      ]
     },
     "metadata": {
      "needs_background": "light"
     },
     "output_type": "display_data"
    }
   ],
   "source": [
    "df['GR'].plot(kind='hist', bins=30, color='red', alpha=0.5, density=True, edgecolor='black')\n",
    "df['GR'].plot(kind='kde', color='black')\n",
    "plt.xlabel('Gamma Ray - API', fontsize=14)\n",
    "plt.ylabel('Density', fontsize=14)\n",
    "plt.xlim(0,200)"
   ]
  },
  {
   "cell_type": "markdown",
   "metadata": {},
   "source": [
    "When calculating clay and shale volumes we often use the percentiles as our interpretation parameters. \n",
    "\n",
    "These can be calculated using built in pandas functions: `mean()` and `quantile()`."
   ]
  },
  {
   "cell_type": "code",
   "execution_count": 23,
   "metadata": {},
   "outputs": [
    {
     "name": "stdout",
     "output_type": "stream",
     "text": [
      "Mean: \t 71.8768169706955\n",
      "P05: \t 41.176089999999995\n",
      "P95: \t 92.46539\n"
     ]
    }
   ],
   "source": [
    "mean = df['GR'].mean()\n",
    "p5 = df['GR'].quantile(0.05)\n",
    "p95 = df['GR'].quantile(0.95)\n",
    "\n",
    "print(f'Mean: \\t {mean}')\n",
    "print(f'P05: \\t {p5}')\n",
    "print(f'P95: \\t {p95}')\n"
   ]
  },
  {
   "cell_type": "markdown",
   "metadata": {},
   "source": [
    "To get an idea of where these points fall in relation to our data, we can add them onto the plot using axvline and passing in the calculated variables, a colour and a label."
   ]
  },
  {
   "cell_type": "code",
   "execution_count": 24,
   "metadata": {},
   "outputs": [
    {
     "data": {
      "image/png": "[encoded data removed]",
      "text/plain": [
       "<Figure size 432x288 with 1 Axes>"
      ]
     },
     "metadata": {
      "needs_background": "light"
     },
     "output_type": "display_data"
    }
   ],
   "source": [
    "df['GR'].plot(kind='hist', bins=30, color='red', alpha=0.5, edgecolor='black')\n",
    "plt.xlabel('Gamma Ray', fontsize=14)\n",
    "plt.ylabel('Frequency', fontsize=14)\n",
    "plt.xlim(0,200)\n",
    "\n",
    "plt.axvline(mean, color='blue', label='mean')\n",
    "plt.axvline(p5, color='green', label='5th Percentile')\n",
    "plt.axvline(p95, color='purple', label='95th Percentile')\n",
    "\n",
    "plt.legend()\n",
    "plt.show()\n"
   ]
  },
  {
   "cell_type": "code",
   "execution_count": null,
   "metadata": {},
   "outputs": [],
   "source": []
  }
 ],
 "metadata": {
  "kernelspec": {
   "display_name": "Python 3",
   "language": "python",
   "name": "python3"
  },
  "language_info": {
   "codemirror_mode": {
    "name": "ipython",
    "version": 3
   },
   "file_extension": ".py",
   "mimetype": "text/x-python",
   "name": "python",
   "nbconvert_exporter": "python",
   "pygments_lexer": "ipython3",
   "version": "3.8.8"
  }
 },
 "nbformat": 4,
 "nbformat_minor": 4
}
